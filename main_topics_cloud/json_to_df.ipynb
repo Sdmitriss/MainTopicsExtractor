{
 "cells": [
  {
   "cell_type": "code",
   "execution_count": 1,
   "id": "d74bb09e-c80a-4249-85f0-4e99b00635ab",
   "metadata": {},
   "outputs": [],
   "source": [
    "from pathlib import Path\n",
    "import json\n",
    "import pandas as pd\n",
    "import re"
   ]
  },
  {
   "cell_type": "code",
   "execution_count": 2,
   "id": "893eb2cb-1f99-4975-90d2-e5297be94c50",
   "metadata": {},
   "outputs": [],
   "source": [
    "folder_ignore = '.ipynb_checkpoints'\n",
    "path_list =[  i for i  in Path.cwd().rglob('*.json') if folder_ignore not in list(i.parent.parts) ]"
   ]
  },
  {
   "cell_type": "code",
   "execution_count": 3,
   "id": "0fd6300f-8fde-419c-bb92-7ae038f4cd9d",
   "metadata": {},
   "outputs": [
    {
     "data": {
      "text/plain": [
       "[WindowsPath('C:/Users/dmitr/project_loc/MainTopicsExtractor/main_topics_cloud/reserch/data/example/result.json'),\n",
       " WindowsPath('C:/Users/dmitr/project_loc/MainTopicsExtractor/main_topics_cloud/reserch/data/дата/result.json'),\n",
       " WindowsPath('C:/Users/dmitr/project_loc/MainTopicsExtractor/main_topics_cloud/reserch/data/маркетинг/result.json'),\n",
       " WindowsPath('C:/Users/dmitr/project_loc/MainTopicsExtractor/main_topics_cloud/reserch/data/менеджмент/result.json')]"
      ]
     },
     "execution_count": 3,
     "metadata": {},
     "output_type": "execute_result"
    }
   ],
   "source": [
    "path_list"
   ]
  },
  {
   "cell_type": "code",
   "execution_count": 4,
   "id": "5af10c2d-b59d-49a5-89ca-b909646d09f7",
   "metadata": {},
   "outputs": [],
   "source": [
    "#  очищает стоку, оставляя только буквы, цифры, запятые, точки, восклицательные и вопросительные знаки, а также пробелы.\n",
    "pattern  = r'[^\\w,.\\!? ]'\n",
    "def cleaned_string(string, pattern=pattern):\n",
    "    return re.sub(pattern, '', string).strip()"
   ]
  },
  {
   "cell_type": "code",
   "execution_count": 5,
   "id": "7644a02e-007a-4932-a752-44a836d637f6",
   "metadata": {},
   "outputs": [],
   "source": [
    "# Загрузка json\n",
    "def load_json(path: Path) -> dict:\n",
    "    with open(path,'r',encoding='utf-8') as file:\n",
    "        return json.load(file)"
   ]
  },
  {
   "cell_type": "code",
   "execution_count": 6,
   "id": "2b247fc7-19ed-4625-99cb-fb3443297600",
   "metadata": {},
   "outputs": [],
   "source": [
    "# парсит словарь,  если значение ключа коллекция выводит тип данных и размер\n",
    "def parsing_dict( dt: dict) -> None:\n",
    "    for key in dt.keys():\n",
    "        if  not isinstance(dt.get(key),list):\n",
    "             print(f'key: {key}: {dt.get(key)}')   \n",
    "        else: print(f'key: {key}: {type(dt.get(key))}, len: {len(dt.get(key))}')"
   ]
  },
  {
   "cell_type": "code",
   "execution_count": 7,
   "id": "7feaf18e-ac86-4fb8-8fe4-989bb7addd27",
   "metadata": {},
   "outputs": [],
   "source": [
    "# парсит индекс messages с наибольшим  количеством ключей + True - во всех сообщениях одинаковое количество ключей\n",
    "def index_max_key(dt):\n",
    "    keys_messages,items  =[],[]\n",
    "    for i in range(len (dt['messages'])):\n",
    "        keys_messages.append(tuple(dt['messages'][i].keys()))              \n",
    "\n",
    "    print(set(keys_messages) == len(keys_messages))\n",
    "    for item in set(keys_messages) :  \n",
    "        items.append(item)\n",
    "    index_max_keys = keys_messages.index(max(set(keys_messages), key=len))\n",
    "    return index_max_keys    "
   ]
  },
  {
   "cell_type": "code",
   "execution_count": 8,
   "id": "4684d5ba-d642-4d3f-a3e0-181efa88c33b",
   "metadata": {},
   "outputs": [],
   "source": [
    "#  создает  дата фрейм из словаря\n",
    "def build_df_chat( dict_to_df : dict, columns: dict[str,str]) -> pd.DataFrame:\n",
    "    df_dict = {\n",
    "    **{columns.get(col): [dict_to_df['messages'][x].get(col) for x in range(len(dict_to_df['messages']))]\n",
    "        for col in columns\n",
    "    },\n",
    "    'text': [ ' '.join( i.get('text') for  i in dict_to_df['messages'][x]['text_entities'])\n",
    "        for x in range( len(dict_to_df['messages']))\n",
    "    ]}    \n",
    "    df = pd.DataFrame(df_dict)\n",
    "    df['date'] =  pd.to_datetime(df['date'])\n",
    "    if 'user_name_actor' in df.columns:\n",
    "        df['user_name'] = df['user_name'].fillna(df['user_name_actor'])\n",
    "        del df['user_name_actor']\n",
    "    df['user_name'] = df['user_name'].fillna('')\n",
    "    df['chat_name'] =dict_to_df.get('name')\n",
    "    df['chat_id'] =dict_to_df.get('id')\n",
    "    column =list(df.columns)\n",
    "    df = df[column[:1]+ column[-2:]+column[1:-2]]\n",
    "  \n",
    "    if 'user_name' in df.columns:\n",
    "        df['first_name'] = df['user_name'].apply( lambda x:  x.split()[0] if len( x.split())>0 else '')\n",
    "        df['last_name'] = df['user_name'].apply( lambda x: x.split()[1] if len( x.split())>1 else '' )\n",
    "        column =list(df.columns)\n",
    "        df = df[column[:-3]+column[-2:]+[column[-3]]]\n",
    "\n",
    "    if 'actor_id' in df.columns:\n",
    "        df['from_id'] = df['from_id'].fillna(df['actor_id'])\n",
    "        del df['actor_id']\n",
    "        # del df['user_name_actor']\n",
    "\n",
    "    if 'from_id' in df.columns:\n",
    "        df['sender_id'] = df['from_id'].str.extract(r'(\\d+)')\n",
    "        df['sender_type'] = df['from_id'].str.replace(r'\\d+', '', regex=True)\n",
    "        del df['from_id']\n",
    "        column =list(df.columns)\n",
    "        df=df[column[:3]+column[-2:]+column[3:-2]]\n",
    "        \n",
    "    # df = df.fillna(0)\n",
    "    return df\n",
    "    "
   ]
  },
  {
   "cell_type": "markdown",
   "id": "2a4964b9-f27c-410e-ac76-eabbd1446327",
   "metadata": {},
   "source": [
    "### 1. Парсинг result.json (дата)"
   ]
  },
  {
   "cell_type": "code",
   "execution_count": 9,
   "id": "38821715-4e0b-4148-8c64-37d20318bee9",
   "metadata": {},
   "outputs": [
    {
     "data": {
      "text/plain": [
       "[WindowsPath('C:/Users/dmitr/project_loc/MainTopicsExtractor/main_topics_cloud/reserch/data/example/result.json'),\n",
       " WindowsPath('C:/Users/dmitr/project_loc/MainTopicsExtractor/main_topics_cloud/reserch/data/дата/result.json'),\n",
       " WindowsPath('C:/Users/dmitr/project_loc/MainTopicsExtractor/main_topics_cloud/reserch/data/маркетинг/result.json'),\n",
       " WindowsPath('C:/Users/dmitr/project_loc/MainTopicsExtractor/main_topics_cloud/reserch/data/менеджмент/result.json')]"
      ]
     },
     "execution_count": 9,
     "metadata": {},
     "output_type": "execute_result"
    }
   ],
   "source": [
    "path_list"
   ]
  },
  {
   "cell_type": "code",
   "execution_count": 10,
   "id": "be1a5082-4e84-491b-8335-0bab9856e48d",
   "metadata": {},
   "outputs": [],
   "source": [
    "result_dict_1 = load_json(path_list[1])"
   ]
  },
  {
   "cell_type": "code",
   "execution_count": 11,
   "id": "a42db0f7-fba1-4de7-b483-aa7042bd799a",
   "metadata": {},
   "outputs": [
    {
     "name": "stdout",
     "output_type": "stream",
     "text": [
      "key: name: 💬 Data Practicum Chat\n",
      "key: type: private_supergroup\n",
      "key: id: 1379846874\n",
      "key: messages: <class 'list'>, len: 1007\n"
     ]
    }
   ],
   "source": [
    "parsing_dict(result_dict_1)"
   ]
  },
  {
   "cell_type": "code",
   "execution_count": 12,
   "id": "18c1aa19-1c92-4b75-a4c5-94dfef9d7843",
   "metadata": {},
   "outputs": [
    {
     "name": "stdout",
     "output_type": "stream",
     "text": [
      "False\n"
     ]
    }
   ],
   "source": [
    "index_max_keys  = index_max_key(result_dict_1)"
   ]
  },
  {
   "cell_type": "code",
   "execution_count": 13,
   "id": "699e5177-a5c3-4397-9fbb-9d007b745d83",
   "metadata": {},
   "outputs": [
    {
     "name": "stdout",
     "output_type": "stream",
     "text": [
      "key: id: 266871\n",
      "key: type: message\n",
      "key: date: 2025-02-04T16:29:08\n",
      "key: date_unixtime: 1738675748\n",
      "key: edited: 2025-02-04T16:30:12\n",
      "key: edited_unixtime: 1738675812\n",
      "key: from: Мариян Умагалова\n",
      "key: from_id: user168336377\n",
      "key: reply_to_message_id: 266834\n",
      "key: file: (File not included. Change data exporting settings to download.)\n",
      "key: file_name: sticker.webm\n",
      "key: file_size: 90810\n",
      "key: thumbnail: (File not included. Change data exporting settings to download.)\n",
      "key: thumbnail_file_size: 9936\n",
      "key: media_type: sticker\n",
      "key: sticker_emoji: 😒\n",
      "key: mime_type: video/webm\n",
      "key: duration_seconds: 3\n",
      "key: width: 512\n",
      "key: height: 488\n",
      "key: text: \n",
      "key: text_entities: <class 'list'>, len: 0\n",
      "key: reactions: <class 'list'>, len: 1\n"
     ]
    }
   ],
   "source": [
    "parsing_dict(result_dict_1['messages'][index_max_keys])"
   ]
  },
  {
   "cell_type": "code",
   "execution_count": 14,
   "id": "b9921c55-3589-497e-9062-465cc1411670",
   "metadata": {},
   "outputs": [
    {
     "data": {
      "text/plain": [
       "{'message', 'service'}"
      ]
     },
     "execution_count": 14,
     "metadata": {},
     "output_type": "execute_result"
    }
   ],
   "source": [
    "set(result_dict_1['messages'][i]['type'] for i in range( len(result_dict_1['messages'])))"
   ]
  },
  {
   "cell_type": "code",
   "execution_count": 15,
   "id": "41785abf-7105-4d1a-982f-f30c74bcf323",
   "metadata": {},
   "outputs": [
    {
     "name": "stdout",
     "output_type": "stream",
     "text": [
      "key: id: 266690\n",
      "key: type: service\n",
      "key: date: 2025-02-01T22:40:19\n",
      "key: date_unixtime: 1738438819\n",
      "key: actor: Елизавета\n",
      "key: actor_id: user200103497\n",
      "key: action: join_group_by_link\n",
      "key: inviter: Group\n",
      "key: text: \n",
      "key: text_entities: <class 'list'>, len: 0\n"
     ]
    }
   ],
   "source": [
    "parsing_dict(result_dict_1['messages'][min([i for i in range( len(result_dict_1['messages'])) if result_dict_1['messages'][i]['type'] =='service'])])"
   ]
  },
  {
   "cell_type": "code",
   "execution_count": 16,
   "id": "50dfe608-cc2e-40d2-a753-21b5bfe1238a",
   "metadata": {},
   "outputs": [],
   "source": [
    "# словарь ключ - ключ из словаря  messages  значение соответствующее название столбца  df   \n",
    "columns ={'date': 'date', 'id':'message_id','type':'type', 'from_id': 'from_id', 'actor_id':'actor_id' , 'reply_to_message_id': 'reply_to_message_id',\n",
    "         'from': 'user_name', 'actor':'user_name_actor'}"
   ]
  },
  {
   "cell_type": "code",
   "execution_count": 17,
   "id": "8576d916-2b84-4acb-859c-033d01aac1ea",
   "metadata": {},
   "outputs": [],
   "source": [
    "df_1 = build_df_chat(result_dict_1, columns)"
   ]
  },
  {
   "cell_type": "code",
   "execution_count": 18,
   "id": "91e278f2-3507-42de-bd11-2d6eb7453391",
   "metadata": {},
   "outputs": [
    {
     "name": "stdout",
     "output_type": "stream",
     "text": [
      "<class 'pandas.core.frame.DataFrame'>\n",
      "RangeIndex: 1007 entries, 0 to 1006\n",
      "Data columns (total 12 columns):\n",
      " #   Column               Non-Null Count  Dtype         \n",
      "---  ------               --------------  -----         \n",
      " 0   date                 1007 non-null   datetime64[ns]\n",
      " 1   chat_name            1007 non-null   object        \n",
      " 2   chat_id              1007 non-null   int64         \n",
      " 3   sender_id            1007 non-null   object        \n",
      " 4   sender_type          1007 non-null   object        \n",
      " 5   message_id           1007 non-null   int64         \n",
      " 6   type                 1007 non-null   object        \n",
      " 7   reply_to_message_id  689 non-null    float64       \n",
      " 8   user_name            1007 non-null   object        \n",
      " 9   first_name           1007 non-null   object        \n",
      " 10  last_name            1007 non-null   object        \n",
      " 11  text                 1007 non-null   object        \n",
      "dtypes: datetime64[ns](1), float64(1), int64(2), object(8)\n",
      "memory usage: 94.5+ KB\n"
     ]
    }
   ],
   "source": [
    "df_1.info()"
   ]
  },
  {
   "cell_type": "code",
   "execution_count": 19,
   "id": "3d92657a-b98d-4d22-bed0-12c2b092eceb",
   "metadata": {},
   "outputs": [
    {
     "data": {
      "text/html": [
       "<div>\n",
       "<style scoped>\n",
       "    .dataframe tbody tr th:only-of-type {\n",
       "        vertical-align: middle;\n",
       "    }\n",
       "\n",
       "    .dataframe tbody tr th {\n",
       "        vertical-align: top;\n",
       "    }\n",
       "\n",
       "    .dataframe thead th {\n",
       "        text-align: right;\n",
       "    }\n",
       "</style>\n",
       "<table border=\"1\" class=\"dataframe\">\n",
       "  <thead>\n",
       "    <tr style=\"text-align: right;\">\n",
       "      <th></th>\n",
       "      <th>date</th>\n",
       "      <th>chat_name</th>\n",
       "      <th>chat_id</th>\n",
       "      <th>sender_id</th>\n",
       "      <th>sender_type</th>\n",
       "      <th>message_id</th>\n",
       "      <th>type</th>\n",
       "      <th>reply_to_message_id</th>\n",
       "      <th>user_name</th>\n",
       "      <th>first_name</th>\n",
       "      <th>last_name</th>\n",
       "      <th>text</th>\n",
       "    </tr>\n",
       "  </thead>\n",
       "  <tbody>\n",
       "    <tr>\n",
       "      <th>0</th>\n",
       "      <td>2025-02-01 22:40:19</td>\n",
       "      <td>💬 Data Practicum Chat</td>\n",
       "      <td>1379846874</td>\n",
       "      <td>200103497</td>\n",
       "      <td>user</td>\n",
       "      <td>266690</td>\n",
       "      <td>service</td>\n",
       "      <td>NaN</td>\n",
       "      <td>Елизавета</td>\n",
       "      <td>Елизавета</td>\n",
       "      <td></td>\n",
       "      <td></td>\n",
       "    </tr>\n",
       "    <tr>\n",
       "      <th>1</th>\n",
       "      <td>2025-02-02 21:59:34</td>\n",
       "      <td>💬 Data Practicum Chat</td>\n",
       "      <td>1379846874</td>\n",
       "      <td>217302209</td>\n",
       "      <td>user</td>\n",
       "      <td>266691</td>\n",
       "      <td>service</td>\n",
       "      <td>NaN</td>\n",
       "      <td>Agamet Agametov</td>\n",
       "      <td>Agamet</td>\n",
       "      <td>Agametov</td>\n",
       "      <td></td>\n",
       "    </tr>\n",
       "    <tr>\n",
       "      <th>2</th>\n",
       "      <td>2025-02-03 11:28:38</td>\n",
       "      <td>💬 Data Practicum Chat</td>\n",
       "      <td>1379846874</td>\n",
       "      <td>312724902</td>\n",
       "      <td>user</td>\n",
       "      <td>266693</td>\n",
       "      <td>message</td>\n",
       "      <td>NaN</td>\n",
       "      <td>Olga Varavina</td>\n",
       "      <td>Olga</td>\n",
       "      <td>Varavina</td>\n",
       "      <td>Всем большой привет! Приглашаю на свой уютный ...</td>\n",
       "    </tr>\n",
       "    <tr>\n",
       "      <th>1004</th>\n",
       "      <td>2025-02-27 18:33:30</td>\n",
       "      <td>💬 Data Practicum Chat</td>\n",
       "      <td>1379846874</td>\n",
       "      <td>5459178210</td>\n",
       "      <td>user</td>\n",
       "      <td>267831</td>\n",
       "      <td>message</td>\n",
       "      <td>267830.0</td>\n",
       "      <td>Дмитрий Лукьянов</td>\n",
       "      <td>Дмитрий</td>\n",
       "      <td>Лукьянов</td>\n",
       "      <td>Может, тебе просто пойти в лес?</td>\n",
       "    </tr>\n",
       "    <tr>\n",
       "      <th>1005</th>\n",
       "      <td>2025-02-27 20:01:03</td>\n",
       "      <td>💬 Data Practicum Chat</td>\n",
       "      <td>1379846874</td>\n",
       "      <td>1763861461</td>\n",
       "      <td>channel</td>\n",
       "      <td>267832</td>\n",
       "      <td>message</td>\n",
       "      <td>NaN</td>\n",
       "      <td>DATA ALUMNI PRACTICUM</td>\n",
       "      <td>DATA</td>\n",
       "      <td>ALUMNI</td>\n",
       "      <td>Книжный клуб «Data Insights!» \\n\\n «Data Insig...</td>\n",
       "    </tr>\n",
       "    <tr>\n",
       "      <th>1006</th>\n",
       "      <td>2025-02-27 22:33:36</td>\n",
       "      <td>💬 Data Practicum Chat</td>\n",
       "      <td>1379846874</td>\n",
       "      <td>295904416</td>\n",
       "      <td>user</td>\n",
       "      <td>267833</td>\n",
       "      <td>message</td>\n",
       "      <td>267831.0</td>\n",
       "      <td>Andrey Novikov</td>\n",
       "      <td>Andrey</td>\n",
       "      <td>Novikov</td>\n",
       "      <td>сам не можешь, нужен сопровождаюший?\\n\\nбез пр...</td>\n",
       "    </tr>\n",
       "  </tbody>\n",
       "</table>\n",
       "</div>"
      ],
      "text/plain": [
       "                    date              chat_name     chat_id   sender_id  \\\n",
       "0    2025-02-01 22:40:19  💬 Data Practicum Chat  1379846874   200103497   \n",
       "1    2025-02-02 21:59:34  💬 Data Practicum Chat  1379846874   217302209   \n",
       "2    2025-02-03 11:28:38  💬 Data Practicum Chat  1379846874   312724902   \n",
       "1004 2025-02-27 18:33:30  💬 Data Practicum Chat  1379846874  5459178210   \n",
       "1005 2025-02-27 20:01:03  💬 Data Practicum Chat  1379846874  1763861461   \n",
       "1006 2025-02-27 22:33:36  💬 Data Practicum Chat  1379846874   295904416   \n",
       "\n",
       "     sender_type  message_id     type  reply_to_message_id  \\\n",
       "0           user      266690  service                  NaN   \n",
       "1           user      266691  service                  NaN   \n",
       "2           user      266693  message                  NaN   \n",
       "1004        user      267831  message             267830.0   \n",
       "1005     channel      267832  message                  NaN   \n",
       "1006        user      267833  message             267831.0   \n",
       "\n",
       "                  user_name first_name last_name  \\\n",
       "0                 Елизавета  Елизавета             \n",
       "1           Agamet Agametov     Agamet  Agametov   \n",
       "2             Olga Varavina       Olga  Varavina   \n",
       "1004       Дмитрий Лукьянов    Дмитрий  Лукьянов   \n",
       "1005  DATA ALUMNI PRACTICUM       DATA    ALUMNI   \n",
       "1006         Andrey Novikov     Andrey   Novikov   \n",
       "\n",
       "                                                   text  \n",
       "0                                                        \n",
       "1                                                        \n",
       "2     Всем большой привет! Приглашаю на свой уютный ...  \n",
       "1004                    Может, тебе просто пойти в лес?  \n",
       "1005  Книжный клуб «Data Insights!» \\n\\n «Data Insig...  \n",
       "1006  сам не можешь, нужен сопровождаюший?\\n\\nбез пр...  "
      ]
     },
     "execution_count": 19,
     "metadata": {},
     "output_type": "execute_result"
    }
   ],
   "source": [
    "pd.concat([df_1.head(3),df_1.tail(3)])"
   ]
  },
  {
   "cell_type": "code",
   "execution_count": null,
   "id": "e722a9a9-45db-444d-aae4-15600568e508",
   "metadata": {},
   "outputs": [],
   "source": []
  },
  {
   "cell_type": "markdown",
   "id": "888825f7-2edb-46ba-a916-c59e48ced2ad",
   "metadata": {},
   "source": [
    "### 2. Парсинг result.json (Мaркетинг)"
   ]
  },
  {
   "cell_type": "code",
   "execution_count": 20,
   "id": "b63d8890-9b85-4f5b-82f7-222e5c805431",
   "metadata": {},
   "outputs": [
    {
     "data": {
      "text/plain": [
       "[WindowsPath('C:/Users/dmitr/project_loc/MainTopicsExtractor/main_topics_cloud/reserch/data/example/result.json'),\n",
       " WindowsPath('C:/Users/dmitr/project_loc/MainTopicsExtractor/main_topics_cloud/reserch/data/дата/result.json'),\n",
       " WindowsPath('C:/Users/dmitr/project_loc/MainTopicsExtractor/main_topics_cloud/reserch/data/маркетинг/result.json'),\n",
       " WindowsPath('C:/Users/dmitr/project_loc/MainTopicsExtractor/main_topics_cloud/reserch/data/менеджмент/result.json')]"
      ]
     },
     "execution_count": 20,
     "metadata": {},
     "output_type": "execute_result"
    }
   ],
   "source": [
    "path_list"
   ]
  },
  {
   "cell_type": "code",
   "execution_count": 21,
   "id": "7899906d-e88d-48f4-b16d-b8248c170cf5",
   "metadata": {},
   "outputs": [],
   "source": [
    " result_dict_2 =load_json(path_list[2])"
   ]
  },
  {
   "cell_type": "code",
   "execution_count": 22,
   "id": "4a7eb0cf-9063-447a-bca9-ead39c79b34f",
   "metadata": {},
   "outputs": [
    {
     "name": "stdout",
     "output_type": "stream",
     "text": [
      "key: name: 💬 Marketing Practicum Chat\n",
      "key: type: private_supergroup\n",
      "key: id: 1782474569\n",
      "key: messages: <class 'list'>, len: 3680\n"
     ]
    }
   ],
   "source": [
    "parsing_dict(result_dict_2)"
   ]
  },
  {
   "cell_type": "code",
   "execution_count": 23,
   "id": "b72d74eb-af00-405c-84b0-ba57ffb74bdb",
   "metadata": {},
   "outputs": [
    {
     "name": "stdout",
     "output_type": "stream",
     "text": [
      "False\n",
      "key: id: 45608\n",
      "key: type: message\n",
      "key: date: 2025-02-20T10:58:54\n",
      "key: date_unixtime: 1740038334\n",
      "key: edited: 2025-02-20T10:59:38\n",
      "key: edited_unixtime: 1740038378\n",
      "key: from: Ed\n",
      "key: from_id: user6615497723\n",
      "key: reply_to_message_id: 45607\n",
      "key: file: (File not included. Change data exporting settings to download.)\n",
      "key: file_name: sticker.webm\n",
      "key: file_size: 169864\n",
      "key: thumbnail: (File not included. Change data exporting settings to download.)\n",
      "key: thumbnail_file_size: 11180\n",
      "key: media_type: sticker\n",
      "key: sticker_emoji: 😌\n",
      "key: mime_type: video/webm\n",
      "key: duration_seconds: 3\n",
      "key: width: 512\n",
      "key: height: 512\n",
      "key: text: \n",
      "key: text_entities: <class 'list'>, len: 0\n",
      "key: reactions: <class 'list'>, len: 1\n"
     ]
    }
   ],
   "source": [
    "index_max_keys  = index_max_key(result_dict_2)\n",
    "parsing_dict(result_dict_2['messages'][index_max_keys])"
   ]
  },
  {
   "cell_type": "code",
   "execution_count": 24,
   "id": "64db5a50-07f2-44c5-9bd0-c5078237eda5",
   "metadata": {},
   "outputs": [
    {
     "data": {
      "text/plain": [
       "{'message'}"
      ]
     },
     "execution_count": 24,
     "metadata": {},
     "output_type": "execute_result"
    }
   ],
   "source": [
    "set(result_dict_2['messages'][i]['type'] for i in range( len(result_dict_2['messages'])))"
   ]
  },
  {
   "cell_type": "code",
   "execution_count": 25,
   "id": "2b11252e-1402-4c9b-a75c-be3150222fd0",
   "metadata": {},
   "outputs": [],
   "source": [
    "# словарь ключ - ключ из словаря  messages  значение соответствующее название столбца  df   \n",
    "columns ={'date': 'date', 'id':'message_id','type':'type', 'from_id': 'from_id', 'actor_id':'actor_id' , 'reply_to_message_id': 'reply_to_message_id',\n",
    "         'from': 'user_name', 'actor':'user_name_actor'}"
   ]
  },
  {
   "cell_type": "code",
   "execution_count": 26,
   "id": "e8f8d660-df2d-44b3-91a8-ece5c31e327d",
   "metadata": {},
   "outputs": [],
   "source": [
    "df_2 = build_df_chat(result_dict_2, columns)"
   ]
  },
  {
   "cell_type": "code",
   "execution_count": 27,
   "id": "255c85d9-85d3-4f9a-abb8-e1fc12dc4337",
   "metadata": {},
   "outputs": [
    {
     "data": {
      "text/html": [
       "<div>\n",
       "<style scoped>\n",
       "    .dataframe tbody tr th:only-of-type {\n",
       "        vertical-align: middle;\n",
       "    }\n",
       "\n",
       "    .dataframe tbody tr th {\n",
       "        vertical-align: top;\n",
       "    }\n",
       "\n",
       "    .dataframe thead th {\n",
       "        text-align: right;\n",
       "    }\n",
       "</style>\n",
       "<table border=\"1\" class=\"dataframe\">\n",
       "  <thead>\n",
       "    <tr style=\"text-align: right;\">\n",
       "      <th></th>\n",
       "      <th>date</th>\n",
       "      <th>chat_name</th>\n",
       "      <th>chat_id</th>\n",
       "      <th>sender_id</th>\n",
       "      <th>sender_type</th>\n",
       "      <th>message_id</th>\n",
       "      <th>type</th>\n",
       "      <th>reply_to_message_id</th>\n",
       "      <th>user_name</th>\n",
       "      <th>first_name</th>\n",
       "      <th>last_name</th>\n",
       "      <th>text</th>\n",
       "    </tr>\n",
       "  </thead>\n",
       "  <tbody>\n",
       "    <tr>\n",
       "      <th>0</th>\n",
       "      <td>2025-02-01 07:35:54</td>\n",
       "      <td>💬 Marketing Practicum Chat</td>\n",
       "      <td>1782474569</td>\n",
       "      <td>1272493086</td>\n",
       "      <td>user</td>\n",
       "      <td>42471</td>\n",
       "      <td>message</td>\n",
       "      <td>NaN</td>\n",
       "      <td>Pasha Sannikov</td>\n",
       "      <td>Pasha</td>\n",
       "      <td>Sannikov</td>\n",
       "      <td>Доброе утро, люди! Это ОК, в РСЯ алгоритмы выб...</td>\n",
       "    </tr>\n",
       "    <tr>\n",
       "      <th>1</th>\n",
       "      <td>2025-02-01 07:40:03</td>\n",
       "      <td>💬 Marketing Practicum Chat</td>\n",
       "      <td>1782474569</td>\n",
       "      <td>1272493086</td>\n",
       "      <td>user</td>\n",
       "      <td>42472</td>\n",
       "      <td>message</td>\n",
       "      <td>NaN</td>\n",
       "      <td>Pasha Sannikov</td>\n",
       "      <td>Pasha</td>\n",
       "      <td>Sannikov</td>\n",
       "      <td>А вот регионы, в которых живут ITшники с интер...</td>\n",
       "    </tr>\n",
       "    <tr>\n",
       "      <th>2</th>\n",
       "      <td>2025-02-01 07:48:53</td>\n",
       "      <td>💬 Marketing Practicum Chat</td>\n",
       "      <td>1782474569</td>\n",
       "      <td>1272493086</td>\n",
       "      <td>user</td>\n",
       "      <td>42473</td>\n",
       "      <td>message</td>\n",
       "      <td>NaN</td>\n",
       "      <td>Pasha Sannikov</td>\n",
       "      <td>Pasha</td>\n",
       "      <td>Sannikov</td>\n",
       "      <td>Если смотреть по интересам, то кажется, что ау...</td>\n",
       "    </tr>\n",
       "    <tr>\n",
       "      <th>3677</th>\n",
       "      <td>2025-02-27 20:24:44</td>\n",
       "      <td>💬 Marketing Practicum Chat</td>\n",
       "      <td>1782474569</td>\n",
       "      <td>1912824918</td>\n",
       "      <td>user</td>\n",
       "      <td>46402</td>\n",
       "      <td>message</td>\n",
       "      <td>NaN</td>\n",
       "      <td>S</td>\n",
       "      <td>S</td>\n",
       "      <td></td>\n",
       "      <td>Пишите оператору (позовите пожалуйста оператор...</td>\n",
       "    </tr>\n",
       "    <tr>\n",
       "      <th>3678</th>\n",
       "      <td>2025-02-27 20:29:44</td>\n",
       "      <td>💬 Marketing Practicum Chat</td>\n",
       "      <td>1782474569</td>\n",
       "      <td>1829741608</td>\n",
       "      <td>user</td>\n",
       "      <td>46403</td>\n",
       "      <td>message</td>\n",
       "      <td>46402.0</td>\n",
       "      <td>Алексей Ермолов</td>\n",
       "      <td>Алексей</td>\n",
       "      <td>Ермолов</td>\n",
       "      <td>Отлично! Благодарю.</td>\n",
       "    </tr>\n",
       "    <tr>\n",
       "      <th>3679</th>\n",
       "      <td>2025-02-27 20:30:53</td>\n",
       "      <td>💬 Marketing Practicum Chat</td>\n",
       "      <td>1782474569</td>\n",
       "      <td>1912824918</td>\n",
       "      <td>user</td>\n",
       "      <td>46405</td>\n",
       "      <td>message</td>\n",
       "      <td>46403.0</td>\n",
       "      <td>S</td>\n",
       "      <td>S</td>\n",
       "      <td></td>\n",
       "      <td>Да там часто отвечает бот, поэтому надо добить...</td>\n",
       "    </tr>\n",
       "  </tbody>\n",
       "</table>\n",
       "</div>"
      ],
      "text/plain": [
       "                    date                   chat_name     chat_id   sender_id  \\\n",
       "0    2025-02-01 07:35:54  💬 Marketing Practicum Chat  1782474569  1272493086   \n",
       "1    2025-02-01 07:40:03  💬 Marketing Practicum Chat  1782474569  1272493086   \n",
       "2    2025-02-01 07:48:53  💬 Marketing Practicum Chat  1782474569  1272493086   \n",
       "3677 2025-02-27 20:24:44  💬 Marketing Practicum Chat  1782474569  1912824918   \n",
       "3678 2025-02-27 20:29:44  💬 Marketing Practicum Chat  1782474569  1829741608   \n",
       "3679 2025-02-27 20:30:53  💬 Marketing Practicum Chat  1782474569  1912824918   \n",
       "\n",
       "     sender_type  message_id     type  reply_to_message_id        user_name  \\\n",
       "0           user       42471  message                  NaN   Pasha Sannikov   \n",
       "1           user       42472  message                  NaN   Pasha Sannikov   \n",
       "2           user       42473  message                  NaN   Pasha Sannikov   \n",
       "3677        user       46402  message                  NaN                S   \n",
       "3678        user       46403  message              46402.0  Алексей Ермолов   \n",
       "3679        user       46405  message              46403.0                S   \n",
       "\n",
       "     first_name last_name                                               text  \n",
       "0         Pasha  Sannikov  Доброе утро, люди! Это ОК, в РСЯ алгоритмы выб...  \n",
       "1         Pasha  Sannikov  А вот регионы, в которых живут ITшники с интер...  \n",
       "2         Pasha  Sannikov  Если смотреть по интересам, то кажется, что ау...  \n",
       "3677          S            Пишите оператору (позовите пожалуйста оператор...  \n",
       "3678    Алексей   Ермолов                                Отлично! Благодарю.  \n",
       "3679          S            Да там часто отвечает бот, поэтому надо добить...  "
      ]
     },
     "execution_count": 27,
     "metadata": {},
     "output_type": "execute_result"
    }
   ],
   "source": [
    "pd.concat([df_2.head(3),df_2.tail(3)])"
   ]
  },
  {
   "cell_type": "markdown",
   "id": "2f29794c-87ae-4549-bb68-858ce55193f4",
   "metadata": {},
   "source": [
    "### 3. Парсинг  result.json (Менеджмент)"
   ]
  },
  {
   "cell_type": "code",
   "execution_count": 28,
   "id": "010de9b9-acd1-488c-9c78-cad079a4d3ea",
   "metadata": {},
   "outputs": [
    {
     "data": {
      "text/plain": [
       "[WindowsPath('C:/Users/dmitr/project_loc/MainTopicsExtractor/main_topics_cloud/reserch/data/example/result.json'),\n",
       " WindowsPath('C:/Users/dmitr/project_loc/MainTopicsExtractor/main_topics_cloud/reserch/data/дата/result.json'),\n",
       " WindowsPath('C:/Users/dmitr/project_loc/MainTopicsExtractor/main_topics_cloud/reserch/data/маркетинг/result.json'),\n",
       " WindowsPath('C:/Users/dmitr/project_loc/MainTopicsExtractor/main_topics_cloud/reserch/data/менеджмент/result.json')]"
      ]
     },
     "execution_count": 28,
     "metadata": {},
     "output_type": "execute_result"
    }
   ],
   "source": [
    "path_list"
   ]
  },
  {
   "cell_type": "code",
   "execution_count": 29,
   "id": "4bba075c-7730-4ddd-9747-59f22e4bb67c",
   "metadata": {},
   "outputs": [],
   "source": [
    " result_dict_3 =load_json(path_list[3])"
   ]
  },
  {
   "cell_type": "code",
   "execution_count": 30,
   "id": "b8c4a987-0ea9-4e15-8462-e50cc79ef2e1",
   "metadata": {},
   "outputs": [
    {
     "name": "stdout",
     "output_type": "stream",
     "text": [
      "key: name: MANAGEMENT ALUMNI PRACTICUM\n",
      "key: type: private_channel\n",
      "key: id: 1586396652\n",
      "key: messages: <class 'list'>, len: 13\n"
     ]
    }
   ],
   "source": [
    "parsing_dict(result_dict_3)"
   ]
  },
  {
   "cell_type": "code",
   "execution_count": 31,
   "id": "8187589e-0916-48ef-b7f1-3642072a60d0",
   "metadata": {},
   "outputs": [
    {
     "name": "stdout",
     "output_type": "stream",
     "text": [
      "False\n",
      "key: id: 857\n",
      "key: type: message\n",
      "key: date: 2025-02-02T14:07:55\n",
      "key: date_unixtime: 1738494475\n",
      "key: edited: 2025-02-03T13:05:36\n",
      "key: edited_unixtime: 1738577136\n",
      "key: from: MANAGEMENT ALUMNI PRACTICUM\n",
      "key: from_id: channel1586396652\n",
      "key: photo: photos/photo_368@02-02-2025_14-07-55.jpg\n",
      "key: photo_file_size: 130046\n",
      "key: width: 1280\n",
      "key: height: 1280\n",
      "key: text: <class 'list'>, len: 14\n",
      "key: text_entities: <class 'list'>, len: 14\n",
      "key: reactions: <class 'list'>, len: 2\n"
     ]
    }
   ],
   "source": [
    "index_max_keys  = index_max_key(result_dict_3)\n",
    "parsing_dict(result_dict_3['messages'][index_max_keys])"
   ]
  },
  {
   "cell_type": "code",
   "execution_count": 32,
   "id": "578790cb-a7cd-45cb-8d40-da2830a4b70a",
   "metadata": {},
   "outputs": [],
   "source": [
    "columns ={'date': 'date', 'id':'message_id','type':'type', 'from_id': 'from_id', 'actor_id':'actor_id' , 'reply_to_message_id': 'reply_to_message_id',\n",
    "         'from': 'user_name', 'actor':'user_name_actor'}"
   ]
  },
  {
   "cell_type": "code",
   "execution_count": 33,
   "id": "dd213e81-0f3d-4228-a72a-bb2bf14c9a57",
   "metadata": {},
   "outputs": [],
   "source": [
    "df_3 = build_df_chat(result_dict_3, columns)"
   ]
  },
  {
   "cell_type": "code",
   "execution_count": 34,
   "id": "b6ae1ae7-3d40-4e5a-8ba6-43efd0bbba5d",
   "metadata": {},
   "outputs": [
    {
     "data": {
      "text/html": [
       "<div>\n",
       "<style scoped>\n",
       "    .dataframe tbody tr th:only-of-type {\n",
       "        vertical-align: middle;\n",
       "    }\n",
       "\n",
       "    .dataframe tbody tr th {\n",
       "        vertical-align: top;\n",
       "    }\n",
       "\n",
       "    .dataframe thead th {\n",
       "        text-align: right;\n",
       "    }\n",
       "</style>\n",
       "<table border=\"1\" class=\"dataframe\">\n",
       "  <thead>\n",
       "    <tr style=\"text-align: right;\">\n",
       "      <th></th>\n",
       "      <th>date</th>\n",
       "      <th>chat_name</th>\n",
       "      <th>chat_id</th>\n",
       "      <th>sender_id</th>\n",
       "      <th>sender_type</th>\n",
       "      <th>message_id</th>\n",
       "      <th>type</th>\n",
       "      <th>reply_to_message_id</th>\n",
       "      <th>user_name</th>\n",
       "      <th>first_name</th>\n",
       "      <th>last_name</th>\n",
       "      <th>text</th>\n",
       "    </tr>\n",
       "  </thead>\n",
       "  <tbody>\n",
       "    <tr>\n",
       "      <th>0</th>\n",
       "      <td>2025-02-01 14:06:16</td>\n",
       "      <td>MANAGEMENT ALUMNI PRACTICUM</td>\n",
       "      <td>1586396652</td>\n",
       "      <td>1586396652</td>\n",
       "      <td>channel</td>\n",
       "      <td>856</td>\n",
       "      <td>message</td>\n",
       "      <td>None</td>\n",
       "      <td>MANAGEMENT ALUMNI PRACTICUM</td>\n",
       "      <td>MANAGEMENT</td>\n",
       "      <td>ALUMNI</td>\n",
       "      <td>💥 💥 💥 💥   января    👋 \\n\\nПока мы вспоминали, ...</td>\n",
       "    </tr>\n",
       "    <tr>\n",
       "      <th>1</th>\n",
       "      <td>2025-02-02 14:07:55</td>\n",
       "      <td>MANAGEMENT ALUMNI PRACTICUM</td>\n",
       "      <td>1586396652</td>\n",
       "      <td>1586396652</td>\n",
       "      <td>channel</td>\n",
       "      <td>857</td>\n",
       "      <td>message</td>\n",
       "      <td>None</td>\n",
       "      <td>MANAGEMENT ALUMNI PRACTICUM</td>\n",
       "      <td>MANAGEMENT</td>\n",
       "      <td>ALUMNI</td>\n",
       "      <td>💭 Переговорный клуб \\n\\n→  6 февраля в 20:00  ...</td>\n",
       "    </tr>\n",
       "    <tr>\n",
       "      <th>2</th>\n",
       "      <td>2025-02-03 14:04:43</td>\n",
       "      <td>MANAGEMENT ALUMNI PRACTICUM</td>\n",
       "      <td>1586396652</td>\n",
       "      <td>1586396652</td>\n",
       "      <td>channel</td>\n",
       "      <td>858</td>\n",
       "      <td>message</td>\n",
       "      <td>None</td>\n",
       "      <td>MANAGEMENT ALUMNI PRACTICUM</td>\n",
       "      <td>MANAGEMENT</td>\n",
       "      <td>ALUMNI</td>\n",
       "      <td>У Практикума новый знак  ➡️  у выпускников нов...</td>\n",
       "    </tr>\n",
       "    <tr>\n",
       "      <th>10</th>\n",
       "      <td>2025-02-20 13:59:58</td>\n",
       "      <td>MANAGEMENT ALUMNI PRACTICUM</td>\n",
       "      <td>1586396652</td>\n",
       "      <td>1586396652</td>\n",
       "      <td>channel</td>\n",
       "      <td>866</td>\n",
       "      <td>message</td>\n",
       "      <td>None</td>\n",
       "      <td>MANAGEMENT ALUMNI PRACTICUM</td>\n",
       "      <td>MANAGEMENT</td>\n",
       "      <td>ALUMNI</td>\n",
       "      <td>Ваш ID выпускника — и скидки по нему \\n\\nТаког...</td>\n",
       "    </tr>\n",
       "    <tr>\n",
       "      <th>11</th>\n",
       "      <td>2025-02-21 15:08:07</td>\n",
       "      <td>MANAGEMENT ALUMNI PRACTICUM</td>\n",
       "      <td>1586396652</td>\n",
       "      <td>1586396652</td>\n",
       "      <td>channel</td>\n",
       "      <td>867</td>\n",
       "      <td>message</td>\n",
       "      <td>None</td>\n",
       "      <td>MANAGEMENT ALUMNI PRACTICUM</td>\n",
       "      <td>MANAGEMENT</td>\n",
       "      <td>ALUMNI</td>\n",
       "      <td>Вебинар «Проблема власти в среде руководителей...</td>\n",
       "    </tr>\n",
       "    <tr>\n",
       "      <th>12</th>\n",
       "      <td>2025-02-26 11:59:58</td>\n",
       "      <td>MANAGEMENT ALUMNI PRACTICUM</td>\n",
       "      <td>1586396652</td>\n",
       "      <td>1586396652</td>\n",
       "      <td>channel</td>\n",
       "      <td>868</td>\n",
       "      <td>message</td>\n",
       "      <td>None</td>\n",
       "      <td>MANAGEMENT ALUMNI PRACTICUM</td>\n",
       "      <td>MANAGEMENT</td>\n",
       "      <td>ALUMNI</td>\n",
       "      <td>Вебинар «Проблема власти в среде руководителей...</td>\n",
       "    </tr>\n",
       "  </tbody>\n",
       "</table>\n",
       "</div>"
      ],
      "text/plain": [
       "                  date                    chat_name     chat_id   sender_id  \\\n",
       "0  2025-02-01 14:06:16  MANAGEMENT ALUMNI PRACTICUM  1586396652  1586396652   \n",
       "1  2025-02-02 14:07:55  MANAGEMENT ALUMNI PRACTICUM  1586396652  1586396652   \n",
       "2  2025-02-03 14:04:43  MANAGEMENT ALUMNI PRACTICUM  1586396652  1586396652   \n",
       "10 2025-02-20 13:59:58  MANAGEMENT ALUMNI PRACTICUM  1586396652  1586396652   \n",
       "11 2025-02-21 15:08:07  MANAGEMENT ALUMNI PRACTICUM  1586396652  1586396652   \n",
       "12 2025-02-26 11:59:58  MANAGEMENT ALUMNI PRACTICUM  1586396652  1586396652   \n",
       "\n",
       "   sender_type  message_id     type reply_to_message_id  \\\n",
       "0      channel         856  message                None   \n",
       "1      channel         857  message                None   \n",
       "2      channel         858  message                None   \n",
       "10     channel         866  message                None   \n",
       "11     channel         867  message                None   \n",
       "12     channel         868  message                None   \n",
       "\n",
       "                      user_name  first_name last_name  \\\n",
       "0   MANAGEMENT ALUMNI PRACTICUM  MANAGEMENT    ALUMNI   \n",
       "1   MANAGEMENT ALUMNI PRACTICUM  MANAGEMENT    ALUMNI   \n",
       "2   MANAGEMENT ALUMNI PRACTICUM  MANAGEMENT    ALUMNI   \n",
       "10  MANAGEMENT ALUMNI PRACTICUM  MANAGEMENT    ALUMNI   \n",
       "11  MANAGEMENT ALUMNI PRACTICUM  MANAGEMENT    ALUMNI   \n",
       "12  MANAGEMENT ALUMNI PRACTICUM  MANAGEMENT    ALUMNI   \n",
       "\n",
       "                                                 text  \n",
       "0   💥 💥 💥 💥   января    👋 \\n\\nПока мы вспоминали, ...  \n",
       "1   💭 Переговорный клуб \\n\\n→  6 февраля в 20:00  ...  \n",
       "2   У Практикума новый знак  ➡️  у выпускников нов...  \n",
       "10  Ваш ID выпускника — и скидки по нему \\n\\nТаког...  \n",
       "11  Вебинар «Проблема власти в среде руководителей...  \n",
       "12  Вебинар «Проблема власти в среде руководителей...  "
      ]
     },
     "execution_count": 34,
     "metadata": {},
     "output_type": "execute_result"
    }
   ],
   "source": [
    "pd.concat([df_3.head(3),df_3.tail(3)])"
   ]
  },
  {
   "cell_type": "code",
   "execution_count": null,
   "id": "7b201617-cd0e-4643-a126-c59f2b0db53c",
   "metadata": {},
   "outputs": [],
   "source": []
  },
  {
   "cell_type": "markdown",
   "id": "38efad28-139e-4a1d-80c3-c9813c59bd50",
   "metadata": {},
   "source": [
    "### 4.  Итоговый  скрипт"
   ]
  },
  {
   "cell_type": "code",
   "execution_count": 35,
   "id": "b9dc392b-b2ab-4178-aea2-76a031b2b0ec",
   "metadata": {},
   "outputs": [
    {
     "data": {
      "text/plain": [
       "[WindowsPath('C:/Users/dmitr/project_loc/MainTopicsExtractor/main_topics_cloud/reserch/data/example/result.json'),\n",
       " WindowsPath('C:/Users/dmitr/project_loc/MainTopicsExtractor/main_topics_cloud/reserch/data/дата/result.json'),\n",
       " WindowsPath('C:/Users/dmitr/project_loc/MainTopicsExtractor/main_topics_cloud/reserch/data/маркетинг/result.json'),\n",
       " WindowsPath('C:/Users/dmitr/project_loc/MainTopicsExtractor/main_topics_cloud/reserch/data/менеджмент/result.json')]"
      ]
     },
     "execution_count": 35,
     "metadata": {},
     "output_type": "execute_result"
    }
   ],
   "source": [
    "path_list"
   ]
  },
  {
   "cell_type": "code",
   "execution_count": 36,
   "id": "afa6caf2-f2e6-4a59-939c-102eede7d863",
   "metadata": {},
   "outputs": [],
   "source": [
    "columns ={'date': 'date', 'id':'message_id','type':'type', 'from_id': 'from_id', 'actor_id':'actor_id' , 'reply_to_message_id': 'reply_to_message_id',\n",
    "         'from': 'user_name', 'actor':'user_name_actor'}"
   ]
  },
  {
   "cell_type": "code",
   "execution_count": 37,
   "id": "67f3cab2-8b89-4bdf-9885-88d91003a5cd",
   "metadata": {},
   "outputs": [],
   "source": [
    "class DictToDataFrameParser:\n",
    "    '''\n",
    "    Атрибуты:\n",
    "    path (Path): Путь к JSON-файлу, из которого будет загружен словарь.\n",
    "    columns (dict): Словарь, где ключи соответствуют ключам из JSON-структуры, \n",
    "                    а значения — названиям столбцов в первичном DataFrame.\n",
    "    result_dict (dict): Десериализованный словарь, полученный из JSON-файла.\n",
    "    df (DataFrame): DataFrame, созданный на основе данных из result_dict и columns\n",
    "\n",
    "    Методы:\n",
    "    load_json(path): Загружает и десериализует JSON-файл.(статистический)\n",
    "    build_df_chat(dict_to_df, columns): Строит DataFrame из десериализованного словаря, \n",
    "                                         используя заданные столбцы.(статистический)\n",
    "    save_to_csv(file_path): Сохраняет DataFrame в CSV-файл по заданному пути.\n",
    "    '''\n",
    "    def __init__(self, path: Path, columns: dict[str, str]):\n",
    "        '''\n",
    "        :param path: Путь к JSON-файлу для загрузки данных.\n",
    "        :param columns: Словарь сопоставления ключей из 'messages' с названиями столбцов для первичного DataFrame.\n",
    "        '''\n",
    "        self.path = path\n",
    "        self.columns = columns\n",
    "        self.result_dict = DictToDataFrameParser.load_json(path)  # Здесь вызываем метод через имя класса\n",
    "        self.df = DictToDataFrameParser.build_df_chat(self.result_dict, self.columns)\n",
    "        \n",
    "    @staticmethod\n",
    "    def load_json(path: Path) -> dict:\n",
    "         with open(path, 'r', encoding='utf-8') as file:\n",
    "            return json.load(file)\n",
    "\n",
    "    #  создает  дата фрейм из словаря\n",
    "    @staticmethod\n",
    "    def build_df_chat( dict_to_df : dict, columns: dict[str,str]) -> pd.DataFrame:\n",
    "        df_dict = {\n",
    "        **{columns.get(col): [dict_to_df['messages'][x].get(col) for x in range(len(dict_to_df['messages']))]\n",
    "            for col in columns\n",
    "        },\n",
    "        'text': [ ' '.join( i.get('text') for  i in dict_to_df['messages'][x]['text_entities'])\n",
    "            for x in range( len(dict_to_df['messages']))\n",
    "        ]}    \n",
    "        df = pd.DataFrame(df_dict)\n",
    "        df['date'] =  pd.to_datetime(df['date'])\n",
    "        if 'user_name_actor' in df.columns:\n",
    "            df['user_name'] = df['user_name'].fillna(df['user_name_actor'])\n",
    "            del df['user_name_actor']\n",
    "\n",
    "        df['chat_name'] =dict_to_df.get('name')\n",
    "        df['chat_id'] =dict_to_df.get('id')\n",
    "        column =list(df.columns)\n",
    "        df = df[column[:1]+ column[-2:]+column[1:-2]]\n",
    "\n",
    "        if 'user_name' in df.columns:\n",
    "            df['first_name'] = df['user_name'].apply( lambda x:  x.split()[0] if len( x.split())>0 else '')\n",
    "            df['last_name'] = df['user_name'].apply( lambda x: x.split()[1] if len( x.split())>1 else '' )\n",
    "            column =list(df.columns)\n",
    "            df = df[column[:-3]+column[-2:]+[column[-3]]]\n",
    "\n",
    "        if 'actor_id' in df.columns:\n",
    "            df['from_id'] = df['from_id'].fillna(df['actor_id'])\n",
    "            del df['actor_id']\n",
    "            # del df['user_name_actor']\n",
    "\n",
    "        if 'from_id' in df.columns:\n",
    "            df['sender_id'] = df['from_id'].str.extract(r'(\\d+)')\n",
    "            df['sender_type'] = df['from_id'].str.replace(r'\\d+', '', regex=True)\n",
    "            del df['from_id']\n",
    "            column =list(df.columns)\n",
    "            df=df[column[:3]+column[-2:]+column[3:-2]]\n",
    "        \n",
    "         # df = df.fillna(0)\n",
    "        return df\n",
    "\n",
    "    def save_to_csv(self, name_file: str, path: Path = Path.cwd()) -> None:\n",
    "        '''\n",
    "        Сохраняет DataFrame в CSV файл по заданному пути.\n",
    "        :param name_file: Имя файла (без расширения).\n",
    "        :param path: Путь, по которому будет сохранён файл. По умолчанию используется текущая рабочая директория.\n",
    "        \n",
    "        '''\n",
    "        path_file = (path/name_file).with_suffix('.csv')\n",
    "        self.df.to_csv(path_file, index=False)\n"
   ]
  },
  {
   "cell_type": "code",
   "execution_count": 38,
   "id": "d71836fd-3d29-4d85-820d-856ba21b76d8",
   "metadata": {},
   "outputs": [],
   "source": [
    "marketing = DictToDataFrameParser(path_list[1],columns)"
   ]
  },
  {
   "cell_type": "code",
   "execution_count": 39,
   "id": "cad27e84-6719-4d18-95c0-55a35ab0da26",
   "metadata": {},
   "outputs": [
    {
     "data": {
      "text/plain": [
       "WindowsPath('C:/Users/dmitr/project_loc/MainTopicsExtractor/main_topics_cloud/reserch/data/дата/result.json')"
      ]
     },
     "execution_count": 39,
     "metadata": {},
     "output_type": "execute_result"
    }
   ],
   "source": [
    "marketing.path"
   ]
  },
  {
   "cell_type": "code",
   "execution_count": 40,
   "id": "8760418b-d877-4de7-ac23-6c4002785c28",
   "metadata": {},
   "outputs": [
    {
     "data": {
      "text/html": [
       "<div>\n",
       "<style scoped>\n",
       "    .dataframe tbody tr th:only-of-type {\n",
       "        vertical-align: middle;\n",
       "    }\n",
       "\n",
       "    .dataframe tbody tr th {\n",
       "        vertical-align: top;\n",
       "    }\n",
       "\n",
       "    .dataframe thead th {\n",
       "        text-align: right;\n",
       "    }\n",
       "</style>\n",
       "<table border=\"1\" class=\"dataframe\">\n",
       "  <thead>\n",
       "    <tr style=\"text-align: right;\">\n",
       "      <th></th>\n",
       "      <th>date</th>\n",
       "      <th>chat_name</th>\n",
       "      <th>chat_id</th>\n",
       "      <th>sender_id</th>\n",
       "      <th>sender_type</th>\n",
       "      <th>message_id</th>\n",
       "      <th>type</th>\n",
       "      <th>reply_to_message_id</th>\n",
       "      <th>user_name</th>\n",
       "      <th>first_name</th>\n",
       "      <th>last_name</th>\n",
       "      <th>text</th>\n",
       "    </tr>\n",
       "  </thead>\n",
       "  <tbody>\n",
       "    <tr>\n",
       "      <th>0</th>\n",
       "      <td>2025-02-01 22:40:19</td>\n",
       "      <td>💬 Data Practicum Chat</td>\n",
       "      <td>1379846874</td>\n",
       "      <td>200103497</td>\n",
       "      <td>user</td>\n",
       "      <td>266690</td>\n",
       "      <td>service</td>\n",
       "      <td>NaN</td>\n",
       "      <td>Елизавета</td>\n",
       "      <td>Елизавета</td>\n",
       "      <td></td>\n",
       "      <td></td>\n",
       "    </tr>\n",
       "    <tr>\n",
       "      <th>1</th>\n",
       "      <td>2025-02-02 21:59:34</td>\n",
       "      <td>💬 Data Practicum Chat</td>\n",
       "      <td>1379846874</td>\n",
       "      <td>217302209</td>\n",
       "      <td>user</td>\n",
       "      <td>266691</td>\n",
       "      <td>service</td>\n",
       "      <td>NaN</td>\n",
       "      <td>Agamet Agametov</td>\n",
       "      <td>Agamet</td>\n",
       "      <td>Agametov</td>\n",
       "      <td></td>\n",
       "    </tr>\n",
       "    <tr>\n",
       "      <th>2</th>\n",
       "      <td>2025-02-03 11:28:38</td>\n",
       "      <td>💬 Data Practicum Chat</td>\n",
       "      <td>1379846874</td>\n",
       "      <td>312724902</td>\n",
       "      <td>user</td>\n",
       "      <td>266693</td>\n",
       "      <td>message</td>\n",
       "      <td>NaN</td>\n",
       "      <td>Olga Varavina</td>\n",
       "      <td>Olga</td>\n",
       "      <td>Varavina</td>\n",
       "      <td>Всем большой привет! Приглашаю на свой уютный ...</td>\n",
       "    </tr>\n",
       "    <tr>\n",
       "      <th>3</th>\n",
       "      <td>2025-02-03 11:52:20</td>\n",
       "      <td>💬 Data Practicum Chat</td>\n",
       "      <td>1379846874</td>\n",
       "      <td>1349934990</td>\n",
       "      <td>user</td>\n",
       "      <td>266694</td>\n",
       "      <td>message</td>\n",
       "      <td>266689.0</td>\n",
       "      <td>Илья</td>\n",
       "      <td>Илья</td>\n",
       "      <td></td>\n",
       "      <td>А у тебя когда будет свой канал про аналитику?</td>\n",
       "    </tr>\n",
       "    <tr>\n",
       "      <th>4</th>\n",
       "      <td>2025-02-03 11:52:37</td>\n",
       "      <td>💬 Data Practicum Chat</td>\n",
       "      <td>1379846874</td>\n",
       "      <td>1349934990</td>\n",
       "      <td>user</td>\n",
       "      <td>266695</td>\n",
       "      <td>message</td>\n",
       "      <td>NaN</td>\n",
       "      <td>Илья</td>\n",
       "      <td>Илья</td>\n",
       "      <td></td>\n",
       "      <td>Будешь туда голосовухи пятиминутные постить</td>\n",
       "    </tr>\n",
       "  </tbody>\n",
       "</table>\n",
       "</div>"
      ],
      "text/plain": [
       "                 date              chat_name     chat_id   sender_id  \\\n",
       "0 2025-02-01 22:40:19  💬 Data Practicum Chat  1379846874   200103497   \n",
       "1 2025-02-02 21:59:34  💬 Data Practicum Chat  1379846874   217302209   \n",
       "2 2025-02-03 11:28:38  💬 Data Practicum Chat  1379846874   312724902   \n",
       "3 2025-02-03 11:52:20  💬 Data Practicum Chat  1379846874  1349934990   \n",
       "4 2025-02-03 11:52:37  💬 Data Practicum Chat  1379846874  1349934990   \n",
       "\n",
       "  sender_type  message_id     type  reply_to_message_id        user_name  \\\n",
       "0        user      266690  service                  NaN        Елизавета   \n",
       "1        user      266691  service                  NaN  Agamet Agametov   \n",
       "2        user      266693  message                  NaN    Olga Varavina   \n",
       "3        user      266694  message             266689.0             Илья   \n",
       "4        user      266695  message                  NaN             Илья   \n",
       "\n",
       "  first_name last_name                                               text  \n",
       "0  Елизавета                                                               \n",
       "1     Agamet  Agametov                                                     \n",
       "2       Olga  Varavina  Всем большой привет! Приглашаю на свой уютный ...  \n",
       "3       Илья               А у тебя когда будет свой канал про аналитику?  \n",
       "4       Илья                  Будешь туда голосовухи пятиминутные постить  "
      ]
     },
     "execution_count": 40,
     "metadata": {},
     "output_type": "execute_result"
    }
   ],
   "source": [
    "marketing.df.head()"
   ]
  },
  {
   "cell_type": "code",
   "execution_count": null,
   "id": "888f8a62-e09d-409b-94ed-664356752703",
   "metadata": {},
   "outputs": [],
   "source": []
  },
  {
   "cell_type": "code",
   "execution_count": null,
   "id": "0d3eab5e-74cb-483c-845e-bc1608fee03a",
   "metadata": {},
   "outputs": [],
   "source": []
  },
  {
   "cell_type": "code",
   "execution_count": null,
   "id": "6368e268-3f75-4395-8d12-348503a69a9a",
   "metadata": {},
   "outputs": [],
   "source": []
  },
  {
   "cell_type": "code",
   "execution_count": null,
   "id": "673ec013-de70-433e-bd08-82a20633d638",
   "metadata": {},
   "outputs": [],
   "source": []
  },
  {
   "cell_type": "code",
   "execution_count": null,
   "id": "34781751-2ece-4cf1-b788-3758e52f1f37",
   "metadata": {},
   "outputs": [],
   "source": []
  }
 ],
 "metadata": {
  "kernelspec": {
   "display_name": "Python 3 (ipykernel)",
   "language": "python",
   "name": "python3"
  },
  "language_info": {
   "codemirror_mode": {
    "name": "ipython",
    "version": 3
   },
   "file_extension": ".py",
   "mimetype": "text/x-python",
   "name": "python",
   "nbconvert_exporter": "python",
   "pygments_lexer": "ipython3",
   "version": "3.12.7"
  }
 },
 "nbformat": 4,
 "nbformat_minor": 5
}
