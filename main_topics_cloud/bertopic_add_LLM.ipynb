{
 "cells": [
  {
   "cell_type": "markdown",
   "id": "1f0d1778-92b8-47c4-8884-8fd845214b69",
   "metadata": {},
   "source": [
    "#### 1. Импорты + insttall  Bertopic + загрузка  russian_stopwords\n"
   ]
  },
  {
   "attachments": {},
   "cell_type": "markdown",
   "id": "0f90697a-1cec-4be9-93b9-63e18291a63e",
   "metadata": {},
   "source": [
    "Корректная работа ноутбука предполагает установку папки модуля, являющейся пакетом, в каталог, содержащий этот ноутбук, а также наличие файла .env для хранения переменных окружения.\n",
    "YC_API_KEY = '......'  для yndexgpt\n",
    "FOLDER_ID  = '......'  id  фодера в yandexcloud\n",
    "\n",
    "Yandex Foundation Models\tText generation\t\n",
    "0,20 ₽ 1k*unit\t3 декабря 2024 г. (Стоимость генерации)\n",
    "\n",
    "<pre><code>\n",
    "main_topic_cloud/\n",
    "|- .env\n",
    "|- data/\n",
    "|- module\n",
    "     |- __init__.py\n",
    "     |- DictDictToDataFrameParser\n",
    "     |- InitBertopic\n",
    "     |- llm_cloud.py\n",
    "|- bertopic_add_LLM.ipynb\n",
    "</code></pre>"
   ]
  },
  {
   "cell_type": "code",
   "execution_count": 2,
   "id": "9a066978-6958-4439-99cd-3e893cc6dcd0",
   "metadata": {},
   "outputs": [],
   "source": [
    "# !pip install openpyxl"
   ]
  },
  {
   "cell_type": "code",
   "execution_count": null,
   "id": "aa8662cc-5fca-44a0-b7fb-42dcec574803",
   "metadata": {},
   "outputs": [],
   "source": [
    "import warnings\n",
    "import nltk\n",
    "import torch\n",
    "import  numpy as np\n",
    "import re\n",
    "import pandas as pd\n",
    "import os\n",
    "import tiktoken\n",
    "from pathlib import Path\n",
    "\n",
    "from langchain_community.chat_models import ChatYandexGPT\n",
    "from langchain_core.prompts import ChatPromptTemplate\n",
    "\n",
    "from dotenv import load_dotenv,find_dotenv\n",
    "from typing import Optional\n",
    "\n",
    "from transformers import AutoTokenizer, pipeline\n",
    "from pathlib import Path\n",
    "from nltk.corpus import stopwords \n",
    "\n",
    "from  module.DictToDataFrameParser import DictToDataFrameParser\n",
    "from  module.InitBertopic import InitBertopic\n",
    "from  module.TopicLLMll import TopicLLMll\n",
    "warnings.filterwarnings('ignore', category=UserWarning, module='transformers')\n",
    "warnings.filterwarnings('ignore', category=FutureWarning, module='transformers')\n",
    "\n"
   ]
  },
  {
   "cell_type": "code",
   "execution_count": null,
   "id": "d29a6931-a792-4397-9e0a-af96e2353b64",
   "metadata": {},
   "outputs": [],
   "source": [
    " InitBertopic, TopicLLMll"
   ]
  },
  {
   "cell_type": "markdown",
   "id": "489bafd7-4b27-463a-972c-2f9aacde7364",
   "metadata": {},
   "source": [
    "DictDictToDataFrameParser:<br>\n",
    "def __init__(self, path: Path, columns: Optional[dict[str, str]] = None):<br>\n",
    "path - путь  *json\n",
    "\n",
    "атрибуты:\n",
    "- path (Path): Путь к JSON-файлу, из которого будет загружен словарь.\n",
    "- columns (dict): Словарь, где ключи соответствуют ключам из JSON-структуры, \n",
    "                    а значения — названиям столбцов в первичном DataFrame.\n",
    "- result_dict (dict): Десериализованный словарь, полученный из JSON-файла.\n",
    "- df (DataFrame): DataFrame, созданный на основе данных из result_dict и columns\n",
    "- name: Название чата\n",
    "\n",
    "InitBertopic:\n",
    "\n",
    " def __init__(self,\n",
    "             nr_topics: Optional[int] = None,\n",
    "             top_n_words: int = 10,   \n",
    "             model: Optional[str] = None, \n",
    "             umap_dict: Optional[dict] = None, \n",
    "             hdbscan_dict: Optional[dict] = None,\n",
    "             vectorizer_dict: Optional[dict] = None, \n",
    "             tf_idf_dict: Optional[dict] = None) -> None:\n",
    "\n",
    "Инициализирует Bertopic c заданными парамтрами,\n",
    "атрибут:\n",
    "- topic_mode - инициализированная модель Bertopic\n",
    "- bertopic_dict - словарь спарметрами инициализированной модели\n",
    "\n",
    "методы работы  berttopic:\n",
    "**name_model** = InitBertopic(...)\n",
    "\n",
    "- **name_model**.topic_model.fit_transform(text: list[str]) - кластеризация\n",
    "- **name_model**.topic_model.get_topic_info() - результат\n",
    "- **name_model**.topic_model.get_topic([int]) - ключевые слова топика\n",
    "- **name_model**.topic_model.get_topic_freq() -датафрейм с меткой кластера и частотой"
   ]
  },
  {
   "cell_type": "code",
   "execution_count": 8,
   "id": "24d850d2-ad58-4795-8ebd-a563189cdaf0",
   "metadata": {},
   "outputs": [],
   "source": [
    "\n",
    "# stop words для 'Vectorizers in BERTopic'\n",
    "try:\n",
    "    russian_stopwords = stopwords.words(\"russian\") \n",
    "except:\n",
    "    nltk.download(\"stopwords\")\n",
    "    russian_stopwords = stopwords.words(\"russian\")"
   ]
  },
  {
   "cell_type": "code",
   "execution_count": 9,
   "id": "89467e2d-0b1b-4ade-ae6e-fe1f0f0fae11",
   "metadata": {},
   "outputs": [],
   "source": [
    "# Проверка наличия .env  в  каталоге  проекта и установка переменных окружения True - успех! \n",
    "# Перенесена в llm_cloud.py\n",
    "# load_dotenv(find_dotenv())"
   ]
  },
  {
   "cell_type": "code",
   "execution_count": 10,
   "id": "70096a0d-b88f-4d6d-a7c0-97dfc13446ae",
   "metadata": {},
   "outputs": [],
   "source": [
    "pattern  = r'[^\\w,.\\!? ]'\n",
    "def cleaned_string(string: str, pattern: str = pattern) -> str: \n",
    "    '''\n",
    "    По умолчанию  удаляются все символы, не являющиеся буквами, цифрами, пробелами и знаками \n",
    "                   препинания.\n",
    "    Замена гиперссылок на  подстроку \"гиперссылка\"\n",
    "    '''\n",
    "    # Вопрос к ревью - замена  гипрссылок на ключевое слово гипрессылка стоит ли???\n",
    "    string = re.sub(r'https?://\\S+', 'гиперсссылка', string)\n",
    "    return re.sub(pattern, '', string).strip()"
   ]
  },
  {
   "cell_type": "code",
   "execution_count": 11,
   "id": "98f63fe1-3dda-4c55-8941-857973e0d477",
   "metadata": {},
   "outputs": [],
   "source": [
    "\n",
    "\n",
    "#Для подготовки текста принята гипотеза (вопрос к ревью — как проверить?): текстовые признаки в наблюдениях являются зависимыми.\n",
    "#Признаки, составляющие цепочку ответов (например, родительское сообщение и ответы на него), принадлежат одному кластеру.\n",
    "#Для кластеризации выбираются независимые признаки, а также те, которые в результате среза не имеют ссылки на родительский признак,\n",
    "#включая ответные сообщения на родительские сообщения, которые были удалены.\n",
    "\n",
    "\n",
    "def text_preparation( df: pd.DataFrame, len_text: str = 3) -> tuple[list[int],list[str]]:\n",
    "    ''' Подготавливает текстовые данные для передачи в BERTopic:\n",
    "        применяет к каждому тексту функцию `cleaned_string`,\n",
    "        и возвращает два списка:\n",
    "        - список индексов для кластеризации,\n",
    "        - очищенные строки (тексты), которые можно передать в модель.\n",
    "        len_text -минимальная длина текста\n",
    "    '''\n",
    "    # Вопрос  ревью -каое значение len_text выбрать? (длина в символах не в словах!!!)\n",
    "    if not isinstance(df, pd.DataFrame):\n",
    "       raise TypeError(\"Expected DataFrame, got another type.\")\n",
    "    if  'text'not in df.columns:\n",
    "       raise KeyError(\"Column 'text' is missing in the DataFrame\")\n",
    "    # Если в JSON есть reply_to_message_id, столбец будет типа int. (явно был приведен в DictDictToDataFrameParser)   \n",
    "    if  'reply_to_message_id' in  df.columns and df.df.reply_to_message_id.dtype =='int64':  \n",
    "        # список  значений df.reply_to_message_id  для которых нет исходного сообщения\n",
    "        set_replay = set(df.reply_to_message_id)  - set(df.df.message_id) - {-1}\n",
    "        df_without_replay = df.query('reply_to_message_id == -1 or reply_to_message_id in @set_replay')\n",
    "        \n",
    "        text = list(df_without_replay[df_without_replay['text'].str.len() >= len_text]['text'].items())\n",
    "    else:\n",
    "        text = list(df[df['text'].str.len() >= len_text]['text'].items())\n",
    "           \n",
    "    \n",
    "    return  map(list,zip(*text)) \n",
    "    "
   ]
  },
  {
   "cell_type": "code",
   "execution_count": 12,
   "id": "0d0427e3",
   "metadata": {},
   "outputs": [],
   "source": [
    "#  Подготовка  текста без   учета  зависимости цепочек ответов (Гипотеза -тексты независмые)\n",
    "\n",
    "def text_preparation_with_replay( df: pd.DataFrame, len_text: str = 3) -> tuple[list[int],list[str]]:\n",
    "    ''' Подготавливает текстовые данные для передачи в BERTopic:\n",
    "        применяет к каждому тексту функцию `cleaned_string`,\n",
    "        и возвращает два списка:\n",
    "        - список индексов для кластеризации,\n",
    "        - очищенные строки (тексты), которые можно передать в модель.\n",
    "        len_text -минимальная длина текста\n",
    "    '''\n",
    "    # Вопрос  ревью -каое значение len_text выбрать? (длина в символах не в словах!!!)\n",
    "    if not isinstance(df, pd.DataFrame):\n",
    "       raise TypeError(\"Expected DataFrame, got another type.\")\n",
    "    if  'text'not in df.columns:\n",
    "       raise KeyError(\"Column 'text' is missing in the DataFrame\")\n",
    "   \n",
    "    text = list(df[df['text'].str.len() >= len_text]['text'].items())\n",
    "           \n",
    "    \n",
    "    return  map(list,zip(*text)) \n",
    "    "
   ]
  },
  {
   "cell_type": "markdown",
   "id": "b174b216-dd20-468f-9050-187eb61537ea",
   "metadata": {},
   "source": [
    "### 2. Загрузка данных "
   ]
  },
  {
   "cell_type": "code",
   "execution_count": 14,
   "id": "4ab8910e-6235-432d-bea0-b8556e1b0b12",
   "metadata": {},
   "outputs": [
    {
     "data": {
      "text/plain": [
       "[(WindowsPath('C:/Users/dmitr/project_loc/masterskay/Masterskaya/data/example/result.json'),\n",
       "  'id_path:0'),\n",
       " (WindowsPath('C:/Users/dmitr/project_loc/masterskay/Masterskaya/data/дата/result.json'),\n",
       "  'id_path:1'),\n",
       " (WindowsPath('C:/Users/dmitr/project_loc/masterskay/Masterskaya/data/маркетинг/result.json'),\n",
       "  'id_path:2'),\n",
       " (WindowsPath('C:/Users/dmitr/project_loc/masterskay/Masterskaya/data/менеджмент/result.json'),\n",
       "  'id_path:3')]"
      ]
     },
     "execution_count": 14,
     "metadata": {},
     "output_type": "execute_result"
    }
   ],
   "source": [
    "folder_ignore = '.ipynb_checkpoints'\n",
    "path_list =[  i for i  in Path.cwd().rglob('*.json') if folder_ignore not in list(i.parent.parts) ]\n",
    "\n",
    "# Список путей к файлам с json (парсим  рабочий каталог+ все  внего вложенные, кроме  '.ipynb_checkpoints')\n",
    "[ (path_list, f'id_path:{i}')   for i, path_list      in enumerate(path_list)]"
   ]
  },
  {
   "cell_type": "markdown",
   "id": "37ea1245-9e3a-40a2-8234-7e512d9c8326",
   "metadata": {},
   "source": [
    "**Число  в кортеже ( Path, int)  потребуется для выбора нужного файла .json**"
   ]
  },
  {
   "cell_type": "code",
   "execution_count": 16,
   "id": "103efb2d-0ba1-4bd9-aca5-07afdbb38400",
   "metadata": {},
   "outputs": [
    {
     "name": "stdin",
     "output_type": "stream",
     "text": [
      "Введи id_path (число от 0 до 3) и  Enter нажми 1\n"
     ]
    }
   ],
   "source": [
    "INDEX =len(path_list)\n",
    "while INDEX >= len(path_list) or INDEX <0:\n",
    "    INDEX = int(input(f'Введи id_path (число от 0 до {len(path_list)-1}) и  Enter нажми'))\n",
    "    if INDEX >= len(path_list):\n",
    "        print( 'Введенное значение превышает допустимый диапазон')"
   ]
  },
  {
   "cell_type": "code",
   "execution_count": 17,
   "id": "615ec038-b222-4a8e-8230-4e65bf58bc81",
   "metadata": {},
   "outputs": [
    {
     "data": {
      "text/plain": [
       "'💬 Data Practicum Chat'"
      ]
     },
     "execution_count": 17,
     "metadata": {},
     "output_type": "execute_result"
    }
   ],
   "source": [
    "df_1 = DictToDataFrameParser(path_list[INDEX])\n",
    "df_1.name"
   ]
  },
  {
   "cell_type": "code",
   "execution_count": 18,
   "id": "11c549bb-77b8-4984-87dd-9b613d54b2e9",
   "metadata": {},
   "outputs": [
    {
     "data": {
      "text/html": [
       "<div>\n",
       "<style scoped>\n",
       "    .dataframe tbody tr th:only-of-type {\n",
       "        vertical-align: middle;\n",
       "    }\n",
       "\n",
       "    .dataframe tbody tr th {\n",
       "        vertical-align: top;\n",
       "    }\n",
       "\n",
       "    .dataframe thead th {\n",
       "        text-align: right;\n",
       "    }\n",
       "</style>\n",
       "<table border=\"1\" class=\"dataframe\">\n",
       "  <thead>\n",
       "    <tr style=\"text-align: right;\">\n",
       "      <th></th>\n",
       "      <th>date</th>\n",
       "      <th>chat_name</th>\n",
       "      <th>chat_id</th>\n",
       "      <th>sender_id</th>\n",
       "      <th>sender_type</th>\n",
       "      <th>message_id</th>\n",
       "      <th>type</th>\n",
       "      <th>reply_to_message_id</th>\n",
       "      <th>user_name</th>\n",
       "      <th>first_name</th>\n",
       "      <th>last_name</th>\n",
       "      <th>text</th>\n",
       "    </tr>\n",
       "  </thead>\n",
       "  <tbody>\n",
       "    <tr>\n",
       "      <th>0</th>\n",
       "      <td>2025-02-01 22:40:19</td>\n",
       "      <td>💬 Data Practicum Chat</td>\n",
       "      <td>1379846874</td>\n",
       "      <td>200103497</td>\n",
       "      <td>user</td>\n",
       "      <td>266690</td>\n",
       "      <td>service</td>\n",
       "      <td>-1</td>\n",
       "      <td>Елизавета</td>\n",
       "      <td>Елизавета</td>\n",
       "      <td></td>\n",
       "      <td></td>\n",
       "    </tr>\n",
       "    <tr>\n",
       "      <th>1</th>\n",
       "      <td>2025-02-02 21:59:34</td>\n",
       "      <td>💬 Data Practicum Chat</td>\n",
       "      <td>1379846874</td>\n",
       "      <td>217302209</td>\n",
       "      <td>user</td>\n",
       "      <td>266691</td>\n",
       "      <td>service</td>\n",
       "      <td>-1</td>\n",
       "      <td>Agamet Agametov</td>\n",
       "      <td>Agamet</td>\n",
       "      <td>Agametov</td>\n",
       "      <td></td>\n",
       "    </tr>\n",
       "    <tr>\n",
       "      <th>2</th>\n",
       "      <td>2025-02-03 11:28:38</td>\n",
       "      <td>💬 Data Practicum Chat</td>\n",
       "      <td>1379846874</td>\n",
       "      <td>312724902</td>\n",
       "      <td>user</td>\n",
       "      <td>266693</td>\n",
       "      <td>message</td>\n",
       "      <td>-1</td>\n",
       "      <td>Olga Varavina</td>\n",
       "      <td>Olga</td>\n",
       "      <td>Varavina</td>\n",
       "      <td>Всем большой привет! Приглашаю на свой уютный ...</td>\n",
       "    </tr>\n",
       "    <tr>\n",
       "      <th>3</th>\n",
       "      <td>2025-02-03 11:52:20</td>\n",
       "      <td>💬 Data Practicum Chat</td>\n",
       "      <td>1379846874</td>\n",
       "      <td>1349934990</td>\n",
       "      <td>user</td>\n",
       "      <td>266694</td>\n",
       "      <td>message</td>\n",
       "      <td>266689</td>\n",
       "      <td>Илья</td>\n",
       "      <td>Илья</td>\n",
       "      <td></td>\n",
       "      <td>А у тебя когда будет свой канал про аналитику?</td>\n",
       "    </tr>\n",
       "    <tr>\n",
       "      <th>4</th>\n",
       "      <td>2025-02-03 11:52:37</td>\n",
       "      <td>💬 Data Practicum Chat</td>\n",
       "      <td>1379846874</td>\n",
       "      <td>1349934990</td>\n",
       "      <td>user</td>\n",
       "      <td>266695</td>\n",
       "      <td>message</td>\n",
       "      <td>-1</td>\n",
       "      <td>Илья</td>\n",
       "      <td>Илья</td>\n",
       "      <td></td>\n",
       "      <td>Будешь туда голосовухи пятиминутные постить</td>\n",
       "    </tr>\n",
       "  </tbody>\n",
       "</table>\n",
       "</div>"
      ],
      "text/plain": [
       "                 date              chat_name     chat_id   sender_id  \\\n",
       "0 2025-02-01 22:40:19  💬 Data Practicum Chat  1379846874   200103497   \n",
       "1 2025-02-02 21:59:34  💬 Data Practicum Chat  1379846874   217302209   \n",
       "2 2025-02-03 11:28:38  💬 Data Practicum Chat  1379846874   312724902   \n",
       "3 2025-02-03 11:52:20  💬 Data Practicum Chat  1379846874  1349934990   \n",
       "4 2025-02-03 11:52:37  💬 Data Practicum Chat  1379846874  1349934990   \n",
       "\n",
       "  sender_type  message_id     type  reply_to_message_id        user_name  \\\n",
       "0        user      266690  service                   -1        Елизавета   \n",
       "1        user      266691  service                   -1  Agamet Agametov   \n",
       "2        user      266693  message                   -1    Olga Varavina   \n",
       "3        user      266694  message               266689             Илья   \n",
       "4        user      266695  message                   -1             Илья   \n",
       "\n",
       "  first_name last_name                                               text  \n",
       "0  Елизавета                                                               \n",
       "1     Agamet  Agametov                                                     \n",
       "2       Olga  Varavina  Всем большой привет! Приглашаю на свой уютный ...  \n",
       "3       Илья               А у тебя когда будет свой канал про аналитику?  \n",
       "4       Илья                  Будешь туда голосовухи пятиминутные постить  "
      ]
     },
     "execution_count": 18,
     "metadata": {},
     "output_type": "execute_result"
    }
   ],
   "source": [
    "df_1.df.head(5)"
   ]
  },
  {
   "cell_type": "code",
   "execution_count": 19,
   "id": "df203e8c-8160-40f5-a992-810e5b7bb3ce",
   "metadata": {},
   "outputs": [
    {
     "data": {
      "text/plain": [
       "(1007, 12)"
      ]
     },
     "execution_count": 19,
     "metadata": {},
     "output_type": "execute_result"
    }
   ],
   "source": [
    "df_1.df.shape"
   ]
  },
  {
   "cell_type": "code",
   "execution_count": 18,
   "id": "c650d75a-9e58-4371-9f2a-9639867e82fd",
   "metadata": {},
   "outputs": [],
   "source": [
    "# Подготовка  при принятии гипотезы о зависимости текстов \n",
    "# LEN_TEXT = 3 \n",
    "# index_df, text = text_preparation(df_1.df, len_text= LEN_TEXT)\n",
    "# assert len(text) == len(index_df), (f'Lengths do not match: {len(text)} != {len(index_df)}')"
   ]
  },
  {
   "cell_type": "code",
   "execution_count": 20,
   "id": "db8018ba",
   "metadata": {},
   "outputs": [],
   "source": [
    "# Вариант обработки всех текстов чата\n",
    "LEN_TEXT = 3 \n",
    "index_df, text = text_preparation_with_replay(df_1.df, len_text= LEN_TEXT)\n",
    "assert len(text) == len(index_df), (f'Lengths do not match: {len(text)} != {len(index_df)}')"
   ]
  },
  {
   "cell_type": "code",
   "execution_count": null,
   "id": "02675441-328f-40aa-b520-b5469451395a",
   "metadata": {},
   "outputs": [],
   "source": []
  },
  {
   "cell_type": "markdown",
   "id": "a947d96a-b793-4f5d-9bc8-760cbb79c834",
   "metadata": {},
   "source": [
    "index_df - список индексов для разметки  df (некоторые тексты не вошли  в итоговый корпус)"
   ]
  },
  {
   "cell_type": "markdown",
   "id": "a15a88a7-2718-487d-8060-844ab8790d17",
   "metadata": {},
   "source": [
    "### 3. Bertopic, инициализация,  пробный topic modeling."
   ]
  },
  {
   "cell_type": "markdown",
   "id": "32720bdd-b62a-4dd3-9264-c3eba6cfa29d",
   "metadata": {},
   "source": [
    "submodels of Bertopic:\n",
    "1. Embedding Models\n",
    "2. Dimensionality Reduction(UMAP)\n",
    "3. Clustering (HDBSCAN)\n",
    "4. Vectorizers(CountVectorizer)\n",
    "5. c-TF-IDF (TF-IDF was adjusted to work on a cluster/categorical/topic level instead of a document level)  \n",
    "6. Fine-tune Topics"
   ]
  },
  {
   "cell_type": "code",
   "execution_count": 21,
   "id": "bc9a3c0e-0938-4033-b2ee-2beedcf4d548",
   "metadata": {},
   "outputs": [],
   "source": [
    "# модель для Embedding Models\n",
    "# model = 'sentence-transformers/paraphrase-multilingual-MiniLM-L12-v2'\n",
    "model = \"DeepPavlov/rubert-base-cased-conversational\"\n",
    "#параметры модели понижения размерности\n",
    "umap_dict = dict(n_neighbors=3, n_components=5, min_dist=0.0, metric='cosine')\n",
    "#параметры модели кластеризации\n",
    "hdbscan_dict = dict(min_cluster_size=10, metric='euclidean', cluster_selection_method='eom', prediction_data=True)\n",
    "#параметры для Vectorizers\n",
    "vectorizer_dict = dict(stop_words=russian_stopwords, ngram_range=(1, 3), min_df=1)\n",
    "#параметры для TF_IDF\n",
    "tf_idf_dict = dict(seed_words=[\"ссылка\", \"яндекс\", \"практикум\", \"стажировка\", \"курсы\",'вакансия'],\n",
    "                   seed_multiplier=2\n",
    "                  )\n",
    "                  \n",
    "# nr_topics - количество  тем(ориентировочно)\n",
    "# top_n_words - количество наиболее значимых слов для каждой темы.\n",
    "\n"
   ]
  },
  {
   "cell_type": "code",
   "execution_count": 22,
   "id": "5ee3a00d-9e31-4c70-8c42-d24b2512d622",
   "metadata": {},
   "outputs": [
    {
     "name": "stderr",
     "output_type": "stream",
     "text": [
      "Some weights of the model checkpoint at DeepPavlov/rubert-base-cased-conversational were not used when initializing BertModel: ['cls.predictions.bias', 'cls.predictions.decoder.bias', 'cls.predictions.decoder.weight', 'cls.predictions.transform.LayerNorm.bias', 'cls.predictions.transform.LayerNorm.weight', 'cls.predictions.transform.dense.bias', 'cls.predictions.transform.dense.weight', 'cls.seq_relationship.bias', 'cls.seq_relationship.weight']\n",
      "- This IS expected if you are initializing BertModel from the checkpoint of a model trained on another task or with another architecture (e.g. initializing a BertForSequenceClassification model from a BertForPreTraining model).\n",
      "- This IS NOT expected if you are initializing BertModel from the checkpoint of a model that you expect to be exactly identical (initializing a BertForSequenceClassification model from a BertForSequenceClassification model).\n"
     ]
    }
   ],
   "source": [
    "NR_TOPIC = None\n",
    "TOP_N_WORDS = 10\n",
    "bertopic_model = InitBertopic(nr_topics=NR_TOPIC,\n",
    "               top_n_words=TOP_N_WORDS,\n",
    "               model=model,\n",
    "               umap_dict=umap_dict, \n",
    "               hdbscan_dict=hdbscan_dict, \n",
    "               vectorizer_dict=vectorizer_dict, \n",
    "               tf_idf_dict=tf_idf_dict)"
   ]
  },
  {
   "cell_type": "code",
   "execution_count": 23,
   "id": "f4bdd049-72cd-42cd-b55c-e5dc945b7d9a",
   "metadata": {},
   "outputs": [
    {
     "data": {
      "text/plain": [
       "{'embedding_model': <module.bertopic_setup.CustomEmbedder at 0x1cf89177650>,\n",
       " 'nr_topics': None,\n",
       " 'top_n_words': 10,\n",
       " 'umap_model': UMAP(metric='cosine', min_dist=0.0, n_components=5, n_neighbors=3),\n",
       " 'hdbscan_model': HDBSCAN(min_cluster_size=10, prediction_data=True),\n",
       " 'vectorizer_model': CountVectorizer(ngram_range=(1, 3),\n",
       "                 stop_words=['и', 'в', 'во', 'не', 'что', 'он', 'на', 'я', 'с',\n",
       "                             'со', 'как', 'а', 'то', 'все', 'она', 'так', 'его',\n",
       "                             'но', 'да', 'ты', 'к', 'у', 'же', 'вы', 'за', 'бы',\n",
       "                             'по', 'только', 'ее', 'мне', ...]),\n",
       " 'ctfidf_model': ClassTfidfTransformer(seed_words=['ссылка', 'яндекс', 'практикум', 'стажировка',\n",
       "                                   'курсы', 'вакансия'])}"
      ]
     },
     "execution_count": 23,
     "metadata": {},
     "output_type": "execute_result"
    }
   ],
   "source": [
    "bertopic_model.bertopic_dict"
   ]
  },
  {
   "cell_type": "code",
   "execution_count": 24,
   "id": "01659824-2923-486c-aba9-62efba35c59a",
   "metadata": {},
   "outputs": [
    {
     "name": "stdout",
     "output_type": "stream",
     "text": [
      "CPU times: total: 3min 7s\n",
      "Wall time: 1min 58s\n"
     ]
    }
   ],
   "source": [
    "%%time\n",
    "topics, probs = bertopic_model.topic_model.fit_transform(text)"
   ]
  },
  {
   "cell_type": "code",
   "execution_count": 45,
   "id": "3df99b5e-b930-4ba3-a358-039e49dce085",
   "metadata": {},
   "outputs": [
    {
     "data": {
      "text/html": [
       "<div>\n",
       "<style scoped>\n",
       "    .dataframe tbody tr th:only-of-type {\n",
       "        vertical-align: middle;\n",
       "    }\n",
       "\n",
       "    .dataframe tbody tr th {\n",
       "        vertical-align: top;\n",
       "    }\n",
       "\n",
       "    .dataframe thead th {\n",
       "        text-align: right;\n",
       "    }\n",
       "</style>\n",
       "<table border=\"1\" class=\"dataframe\">\n",
       "  <thead>\n",
       "    <tr style=\"text-align: right;\">\n",
       "      <th></th>\n",
       "      <th>Topic</th>\n",
       "      <th>Count</th>\n",
       "    </tr>\n",
       "  </thead>\n",
       "  <tbody>\n",
       "    <tr>\n",
       "      <th>1</th>\n",
       "      <td>-1</td>\n",
       "      <td>202</td>\n",
       "    </tr>\n",
       "    <tr>\n",
       "      <th>3</th>\n",
       "      <td>0</td>\n",
       "      <td>184</td>\n",
       "    </tr>\n",
       "    <tr>\n",
       "      <th>19</th>\n",
       "      <td>1</td>\n",
       "      <td>37</td>\n",
       "    </tr>\n",
       "    <tr>\n",
       "      <th>6</th>\n",
       "      <td>2</td>\n",
       "      <td>36</td>\n",
       "    </tr>\n",
       "    <tr>\n",
       "      <th>17</th>\n",
       "      <td>3</td>\n",
       "      <td>33</td>\n",
       "    </tr>\n",
       "    <tr>\n",
       "      <th>10</th>\n",
       "      <td>4</td>\n",
       "      <td>30</td>\n",
       "    </tr>\n",
       "    <tr>\n",
       "      <th>13</th>\n",
       "      <td>5</td>\n",
       "      <td>26</td>\n",
       "    </tr>\n",
       "    <tr>\n",
       "      <th>5</th>\n",
       "      <td>6</td>\n",
       "      <td>25</td>\n",
       "    </tr>\n",
       "    <tr>\n",
       "      <th>12</th>\n",
       "      <td>7</td>\n",
       "      <td>24</td>\n",
       "    </tr>\n",
       "    <tr>\n",
       "      <th>8</th>\n",
       "      <td>8</td>\n",
       "      <td>22</td>\n",
       "    </tr>\n",
       "    <tr>\n",
       "      <th>20</th>\n",
       "      <td>9</td>\n",
       "      <td>20</td>\n",
       "    </tr>\n",
       "    <tr>\n",
       "      <th>15</th>\n",
       "      <td>10</td>\n",
       "      <td>20</td>\n",
       "    </tr>\n",
       "    <tr>\n",
       "      <th>11</th>\n",
       "      <td>11</td>\n",
       "      <td>18</td>\n",
       "    </tr>\n",
       "    <tr>\n",
       "      <th>0</th>\n",
       "      <td>12</td>\n",
       "      <td>17</td>\n",
       "    </tr>\n",
       "    <tr>\n",
       "      <th>2</th>\n",
       "      <td>13</td>\n",
       "      <td>17</td>\n",
       "    </tr>\n",
       "    <tr>\n",
       "      <th>9</th>\n",
       "      <td>14</td>\n",
       "      <td>16</td>\n",
       "    </tr>\n",
       "    <tr>\n",
       "      <th>18</th>\n",
       "      <td>15</td>\n",
       "      <td>16</td>\n",
       "    </tr>\n",
       "    <tr>\n",
       "      <th>22</th>\n",
       "      <td>16</td>\n",
       "      <td>14</td>\n",
       "    </tr>\n",
       "    <tr>\n",
       "      <th>23</th>\n",
       "      <td>17</td>\n",
       "      <td>14</td>\n",
       "    </tr>\n",
       "    <tr>\n",
       "      <th>24</th>\n",
       "      <td>18</td>\n",
       "      <td>14</td>\n",
       "    </tr>\n",
       "    <tr>\n",
       "      <th>14</th>\n",
       "      <td>19</td>\n",
       "      <td>13</td>\n",
       "    </tr>\n",
       "    <tr>\n",
       "      <th>7</th>\n",
       "      <td>20</td>\n",
       "      <td>13</td>\n",
       "    </tr>\n",
       "    <tr>\n",
       "      <th>4</th>\n",
       "      <td>21</td>\n",
       "      <td>13</td>\n",
       "    </tr>\n",
       "    <tr>\n",
       "      <th>16</th>\n",
       "      <td>22</td>\n",
       "      <td>11</td>\n",
       "    </tr>\n",
       "    <tr>\n",
       "      <th>21</th>\n",
       "      <td>23</td>\n",
       "      <td>10</td>\n",
       "    </tr>\n",
       "  </tbody>\n",
       "</table>\n",
       "</div>"
      ],
      "text/plain": [
       "    Topic  Count\n",
       "1      -1    202\n",
       "3       0    184\n",
       "19      1     37\n",
       "6       2     36\n",
       "17      3     33\n",
       "10      4     30\n",
       "13      5     26\n",
       "5       6     25\n",
       "12      7     24\n",
       "8       8     22\n",
       "20      9     20\n",
       "15     10     20\n",
       "11     11     18\n",
       "0      12     17\n",
       "2      13     17\n",
       "9      14     16\n",
       "18     15     16\n",
       "22     16     14\n",
       "23     17     14\n",
       "24     18     14\n",
       "14     19     13\n",
       "7      20     13\n",
       "4      21     13\n",
       "16     22     11\n",
       "21     23     10"
      ]
     },
     "execution_count": 45,
     "metadata": {},
     "output_type": "execute_result"
    }
   ],
   "source": [
    "bertopic_model.topic_model.get_topic_freq()"
   ]
  },
  {
   "cell_type": "code",
   "execution_count": 61,
   "id": "bde68dbb-82df-4621-b934-61ed7ed88355",
   "metadata": {},
   "outputs": [
    {
     "data": {
      "application/vnd.plotly.v1+json": {
       "config": {
        "plotlyServerURL": "https://plot.ly"
       },
       "data": [
        {
         "customdata": [
          [
           0,
           "данных | это | аналитик | бета | аналитика",
           184
          ],
          [
           1,
           "заявку | лс | чата | заявку nda | подписать",
           37
          ],
          [
           2,
           "нюдсов | это | тебе | живет | напишу",
           36
          ],
          [
           3,
           "соевых | думаешь | чат | 200 | подписывал",
           33
          ],
          [
           4,
           "yndxcbot | toprep yndxcbot | toprep | yndxcbot toprep | yndxcbot toprep yndxcbot",
           30
          ],
          [
           5,
           "ритейл | ссылка | это | запросите новую | подписать nda ссылка",
           26
          ],
          [
           6,
           "ссылка | nda | ссылка nda | активна | активна ссылка nda",
           25
          ],
          [
           7,
           "спасибо | тебе | спасибо тебе | тебе спасибо | тебе спасибо спасибо",
           24
          ],
          [
           8,
           "это | скорее | тобой | яндекс | заявку",
           22
          ],
          [
           9,
           "привет | всем привет | коллеги | всем | обучения",
           20
          ],
          [
           10,
           "hr | это | вопросы | чат | ссылка",
           20
          ],
          [
           11,
           "спасибо | пока | праздником зайки спасибо | солнышко зимних | стелешь ура",
           18
          ],
          [
           12,
           "https | https me | me | https me i6upyoecsck4ztay | i6upyoecsck4ztay",
           17
          ],
          [
           13,
           "людей | кажется | недавнего забыл писать | попробовал могу удалённо | находиться",
           17
          ],
          [
           14,
           "спасибо | спасибо спасибо | спасибо спасибо спасибо | большое | спасибо спасибо заполнил",
           16
          ],
          [
           15,
           "буду | знаю | осталось чате | пока никто отдал | одним первых",
           16
          ],
          [
           16,
           "связь | время | s3 | самые преданные | положил оч вкутно",
           14
          ],
          [
           17,
           "ссылка | яндекс | практикума | навыкам | анкету",
           14
          ],
          [
           18,
           "мск | больной | сердечке | твоего сообщения | тяжело больной",
           14
          ],
          [
           19,
           "мотивированы сбрасывать это | минут тг | толкаете осознанный | тяжко душными | свой канал будут",
           13
          ],
          [
           20,
           "ёклмн | описано ёклмн везде | отлично описано | описано | мазохистичный порыв",
           13
          ],
          [
           21,
           "яндекс | базовые | насколько | эйчару | инженеры данных",
           13
          ],
          [
           22,
           "ща спою спасибо | мимо нашел единорога | спасибо жестко правильно | спасибо жестко | ща спою",
           11
          ],
          [
           23,
           "буквы | придраться | хотелось услышать спасиьо | чему ещё придраться | чему ещё",
           10
          ]
         ],
         "hovertemplate": "<b>Topic %{customdata[0]}</b><br>%{customdata[1]}<br>Size: %{customdata[2]}",
         "legendgroup": "",
         "marker": {
          "color": "#B0BEC5",
          "line": {
           "color": "DarkSlateGrey",
           "width": 2
          },
          "size": [
           184,
           37,
           36,
           33,
           30,
           26,
           25,
           24,
           22,
           20,
           20,
           18,
           17,
           17,
           16,
           16,
           14,
           14,
           14,
           13,
           13,
           13,
           11,
           10
          ],
          "sizemode": "area",
          "sizeref": 0.115,
          "symbol": "circle"
         },
         "mode": "markers",
         "name": "",
         "orientation": "v",
         "showlegend": false,
         "type": "scatter",
         "x": [
          7.0709085,
          -1.4869319,
          4.1234517,
          3.2101462,
          -5.7193823,
          7.335835,
          -1.7235816,
          3.3622031,
          4.5460753,
          7.4579844,
          7.765208,
          7.054677,
          -5.5982933,
          4.477584,
          3.6076117,
          3.6412644,
          7.624779,
          -1.3201131,
          3.3343468,
          7.0851097,
          2.9947033,
          3.9440176,
          7.9843535,
          3.423068
         ],
         "xaxis": "x",
         "y": [
          5.9321914,
          -12.017199,
          -3.1937864,
          19.95018,
          -7.1494803,
          6.941012,
          -12.25337,
          20.102615,
          -3.6834402,
          5.718115,
          7.2635503,
          5.5561743,
          -7.0281053,
          -3.5517042,
          20.348797,
          -2.8180463,
          6.6212935,
          -11.850018,
          -2.9786878,
          6.353994,
          19.734165,
          -3.5478523,
          7.2948008,
          -2.482648
         ],
         "yaxis": "y"
        }
       ],
       "layout": {
        "annotations": [
         {
          "showarrow": false,
          "text": "D1",
          "x": -6.577289628982544,
          "y": 4.654870271682739,
          "yshift": 10
         },
         {
          "showarrow": false,
          "text": "D2",
          "x": 1.3023584723472594,
          "xshift": 10,
          "y": 23.401116371154785
         }
        ],
        "height": 600,
        "hoverlabel": {
         "bgcolor": "white",
         "font": {
          "family": "Rockwell",
          "size": 16
         }
        },
        "legend": {
         "itemsizing": "constant",
         "tracegroupgap": 0
        },
        "margin": {
         "t": 60
        },
        "shapes": [
         {
          "line": {
           "color": "#CFD8DC",
           "width": 2
          },
          "type": "line",
          "x0": 1.3023584723472594,
          "x1": 1.3023584723472594,
          "y0": -14.091375827789307,
          "y1": 23.401116371154785
         },
         {
          "line": {
           "color": "#9E9E9E",
           "width": 2
          },
          "type": "line",
          "x0": -6.577289628982544,
          "x1": 9.182006573677063,
          "y0": 4.654870271682739,
          "y1": 4.654870271682739
         }
        ],
        "sliders": [
         {
          "active": 0,
          "pad": {
           "t": 50
          },
          "steps": [
           {
            "args": [
             {
              "marker.color": [
               [
                "red",
                "#B0BEC5",
                "#B0BEC5",
                "#B0BEC5",
                "#B0BEC5",
                "#B0BEC5",
                "#B0BEC5",
                "#B0BEC5",
                "#B0BEC5",
                "#B0BEC5",
                "#B0BEC5",
                "#B0BEC5",
                "#B0BEC5",
                "#B0BEC5",
                "#B0BEC5",
                "#B0BEC5",
                "#B0BEC5",
                "#B0BEC5",
                "#B0BEC5",
                "#B0BEC5",
                "#B0BEC5",
                "#B0BEC5",
                "#B0BEC5",
                "#B0BEC5"
               ]
              ]
             }
            ],
            "label": "Topic 0",
            "method": "update"
           },
           {
            "args": [
             {
              "marker.color": [
               [
                "#B0BEC5",
                "red",
                "#B0BEC5",
                "#B0BEC5",
                "#B0BEC5",
                "#B0BEC5",
                "#B0BEC5",
                "#B0BEC5",
                "#B0BEC5",
                "#B0BEC5",
                "#B0BEC5",
                "#B0BEC5",
                "#B0BEC5",
                "#B0BEC5",
                "#B0BEC5",
                "#B0BEC5",
                "#B0BEC5",
                "#B0BEC5",
                "#B0BEC5",
                "#B0BEC5",
                "#B0BEC5",
                "#B0BEC5",
                "#B0BEC5",
                "#B0BEC5"
               ]
              ]
             }
            ],
            "label": "Topic 1",
            "method": "update"
           },
           {
            "args": [
             {
              "marker.color": [
               [
                "#B0BEC5",
                "#B0BEC5",
                "red",
                "#B0BEC5",
                "#B0BEC5",
                "#B0BEC5",
                "#B0BEC5",
                "#B0BEC5",
                "#B0BEC5",
                "#B0BEC5",
                "#B0BEC5",
                "#B0BEC5",
                "#B0BEC5",
                "#B0BEC5",
                "#B0BEC5",
                "#B0BEC5",
                "#B0BEC5",
                "#B0BEC5",
                "#B0BEC5",
                "#B0BEC5",
                "#B0BEC5",
                "#B0BEC5",
                "#B0BEC5",
                "#B0BEC5"
               ]
              ]
             }
            ],
            "label": "Topic 2",
            "method": "update"
           },
           {
            "args": [
             {
              "marker.color": [
               [
                "#B0BEC5",
                "#B0BEC5",
                "#B0BEC5",
                "red",
                "#B0BEC5",
                "#B0BEC5",
                "#B0BEC5",
                "#B0BEC5",
                "#B0BEC5",
                "#B0BEC5",
                "#B0BEC5",
                "#B0BEC5",
                "#B0BEC5",
                "#B0BEC5",
                "#B0BEC5",
                "#B0BEC5",
                "#B0BEC5",
                "#B0BEC5",
                "#B0BEC5",
                "#B0BEC5",
                "#B0BEC5",
                "#B0BEC5",
                "#B0BEC5",
                "#B0BEC5"
               ]
              ]
             }
            ],
            "label": "Topic 3",
            "method": "update"
           },
           {
            "args": [
             {
              "marker.color": [
               [
                "#B0BEC5",
                "#B0BEC5",
                "#B0BEC5",
                "#B0BEC5",
                "red",
                "#B0BEC5",
                "#B0BEC5",
                "#B0BEC5",
                "#B0BEC5",
                "#B0BEC5",
                "#B0BEC5",
                "#B0BEC5",
                "#B0BEC5",
                "#B0BEC5",
                "#B0BEC5",
                "#B0BEC5",
                "#B0BEC5",
                "#B0BEC5",
                "#B0BEC5",
                "#B0BEC5",
                "#B0BEC5",
                "#B0BEC5",
                "#B0BEC5",
                "#B0BEC5"
               ]
              ]
             }
            ],
            "label": "Topic 4",
            "method": "update"
           },
           {
            "args": [
             {
              "marker.color": [
               [
                "#B0BEC5",
                "#B0BEC5",
                "#B0BEC5",
                "#B0BEC5",
                "#B0BEC5",
                "red",
                "#B0BEC5",
                "#B0BEC5",
                "#B0BEC5",
                "#B0BEC5",
                "#B0BEC5",
                "#B0BEC5",
                "#B0BEC5",
                "#B0BEC5",
                "#B0BEC5",
                "#B0BEC5",
                "#B0BEC5",
                "#B0BEC5",
                "#B0BEC5",
                "#B0BEC5",
                "#B0BEC5",
                "#B0BEC5",
                "#B0BEC5",
                "#B0BEC5"
               ]
              ]
             }
            ],
            "label": "Topic 5",
            "method": "update"
           },
           {
            "args": [
             {
              "marker.color": [
               [
                "#B0BEC5",
                "#B0BEC5",
                "#B0BEC5",
                "#B0BEC5",
                "#B0BEC5",
                "#B0BEC5",
                "red",
                "#B0BEC5",
                "#B0BEC5",
                "#B0BEC5",
                "#B0BEC5",
                "#B0BEC5",
                "#B0BEC5",
                "#B0BEC5",
                "#B0BEC5",
                "#B0BEC5",
                "#B0BEC5",
                "#B0BEC5",
                "#B0BEC5",
                "#B0BEC5",
                "#B0BEC5",
                "#B0BEC5",
                "#B0BEC5",
                "#B0BEC5"
               ]
              ]
             }
            ],
            "label": "Topic 6",
            "method": "update"
           },
           {
            "args": [
             {
              "marker.color": [
               [
                "#B0BEC5",
                "#B0BEC5",
                "#B0BEC5",
                "#B0BEC5",
                "#B0BEC5",
                "#B0BEC5",
                "#B0BEC5",
                "red",
                "#B0BEC5",
                "#B0BEC5",
                "#B0BEC5",
                "#B0BEC5",
                "#B0BEC5",
                "#B0BEC5",
                "#B0BEC5",
                "#B0BEC5",
                "#B0BEC5",
                "#B0BEC5",
                "#B0BEC5",
                "#B0BEC5",
                "#B0BEC5",
                "#B0BEC5",
                "#B0BEC5",
                "#B0BEC5"
               ]
              ]
             }
            ],
            "label": "Topic 7",
            "method": "update"
           },
           {
            "args": [
             {
              "marker.color": [
               [
                "#B0BEC5",
                "#B0BEC5",
                "#B0BEC5",
                "#B0BEC5",
                "#B0BEC5",
                "#B0BEC5",
                "#B0BEC5",
                "#B0BEC5",
                "red",
                "#B0BEC5",
                "#B0BEC5",
                "#B0BEC5",
                "#B0BEC5",
                "#B0BEC5",
                "#B0BEC5",
                "#B0BEC5",
                "#B0BEC5",
                "#B0BEC5",
                "#B0BEC5",
                "#B0BEC5",
                "#B0BEC5",
                "#B0BEC5",
                "#B0BEC5",
                "#B0BEC5"
               ]
              ]
             }
            ],
            "label": "Topic 8",
            "method": "update"
           },
           {
            "args": [
             {
              "marker.color": [
               [
                "#B0BEC5",
                "#B0BEC5",
                "#B0BEC5",
                "#B0BEC5",
                "#B0BEC5",
                "#B0BEC5",
                "#B0BEC5",
                "#B0BEC5",
                "#B0BEC5",
                "red",
                "#B0BEC5",
                "#B0BEC5",
                "#B0BEC5",
                "#B0BEC5",
                "#B0BEC5",
                "#B0BEC5",
                "#B0BEC5",
                "#B0BEC5",
                "#B0BEC5",
                "#B0BEC5",
                "#B0BEC5",
                "#B0BEC5",
                "#B0BEC5",
                "#B0BEC5"
               ]
              ]
             }
            ],
            "label": "Topic 9",
            "method": "update"
           },
           {
            "args": [
             {
              "marker.color": [
               [
                "#B0BEC5",
                "#B0BEC5",
                "#B0BEC5",
                "#B0BEC5",
                "#B0BEC5",
                "#B0BEC5",
                "#B0BEC5",
                "#B0BEC5",
                "#B0BEC5",
                "#B0BEC5",
                "red",
                "#B0BEC5",
                "#B0BEC5",
                "#B0BEC5",
                "#B0BEC5",
                "#B0BEC5",
                "#B0BEC5",
                "#B0BEC5",
                "#B0BEC5",
                "#B0BEC5",
                "#B0BEC5",
                "#B0BEC5",
                "#B0BEC5",
                "#B0BEC5"
               ]
              ]
             }
            ],
            "label": "Topic 10",
            "method": "update"
           },
           {
            "args": [
             {
              "marker.color": [
               [
                "#B0BEC5",
                "#B0BEC5",
                "#B0BEC5",
                "#B0BEC5",
                "#B0BEC5",
                "#B0BEC5",
                "#B0BEC5",
                "#B0BEC5",
                "#B0BEC5",
                "#B0BEC5",
                "#B0BEC5",
                "red",
                "#B0BEC5",
                "#B0BEC5",
                "#B0BEC5",
                "#B0BEC5",
                "#B0BEC5",
                "#B0BEC5",
                "#B0BEC5",
                "#B0BEC5",
                "#B0BEC5",
                "#B0BEC5",
                "#B0BEC5",
                "#B0BEC5"
               ]
              ]
             }
            ],
            "label": "Topic 11",
            "method": "update"
           },
           {
            "args": [
             {
              "marker.color": [
               [
                "#B0BEC5",
                "#B0BEC5",
                "#B0BEC5",
                "#B0BEC5",
                "#B0BEC5",
                "#B0BEC5",
                "#B0BEC5",
                "#B0BEC5",
                "#B0BEC5",
                "#B0BEC5",
                "#B0BEC5",
                "#B0BEC5",
                "red",
                "#B0BEC5",
                "#B0BEC5",
                "#B0BEC5",
                "#B0BEC5",
                "#B0BEC5",
                "#B0BEC5",
                "#B0BEC5",
                "#B0BEC5",
                "#B0BEC5",
                "#B0BEC5",
                "#B0BEC5"
               ]
              ]
             }
            ],
            "label": "Topic 12",
            "method": "update"
           },
           {
            "args": [
             {
              "marker.color": [
               [
                "#B0BEC5",
                "#B0BEC5",
                "#B0BEC5",
                "#B0BEC5",
                "#B0BEC5",
                "#B0BEC5",
                "#B0BEC5",
                "#B0BEC5",
                "#B0BEC5",
                "#B0BEC5",
                "#B0BEC5",
                "#B0BEC5",
                "#B0BEC5",
                "red",
                "#B0BEC5",
                "#B0BEC5",
                "#B0BEC5",
                "#B0BEC5",
                "#B0BEC5",
                "#B0BEC5",
                "#B0BEC5",
                "#B0BEC5",
                "#B0BEC5",
                "#B0BEC5"
               ]
              ]
             }
            ],
            "label": "Topic 13",
            "method": "update"
           },
           {
            "args": [
             {
              "marker.color": [
               [
                "#B0BEC5",
                "#B0BEC5",
                "#B0BEC5",
                "#B0BEC5",
                "#B0BEC5",
                "#B0BEC5",
                "#B0BEC5",
                "#B0BEC5",
                "#B0BEC5",
                "#B0BEC5",
                "#B0BEC5",
                "#B0BEC5",
                "#B0BEC5",
                "#B0BEC5",
                "red",
                "#B0BEC5",
                "#B0BEC5",
                "#B0BEC5",
                "#B0BEC5",
                "#B0BEC5",
                "#B0BEC5",
                "#B0BEC5",
                "#B0BEC5",
                "#B0BEC5"
               ]
              ]
             }
            ],
            "label": "Topic 14",
            "method": "update"
           },
           {
            "args": [
             {
              "marker.color": [
               [
                "#B0BEC5",
                "#B0BEC5",
                "#B0BEC5",
                "#B0BEC5",
                "#B0BEC5",
                "#B0BEC5",
                "#B0BEC5",
                "#B0BEC5",
                "#B0BEC5",
                "#B0BEC5",
                "#B0BEC5",
                "#B0BEC5",
                "#B0BEC5",
                "#B0BEC5",
                "#B0BEC5",
                "red",
                "#B0BEC5",
                "#B0BEC5",
                "#B0BEC5",
                "#B0BEC5",
                "#B0BEC5",
                "#B0BEC5",
                "#B0BEC5",
                "#B0BEC5"
               ]
              ]
             }
            ],
            "label": "Topic 15",
            "method": "update"
           },
           {
            "args": [
             {
              "marker.color": [
               [
                "#B0BEC5",
                "#B0BEC5",
                "#B0BEC5",
                "#B0BEC5",
                "#B0BEC5",
                "#B0BEC5",
                "#B0BEC5",
                "#B0BEC5",
                "#B0BEC5",
                "#B0BEC5",
                "#B0BEC5",
                "#B0BEC5",
                "#B0BEC5",
                "#B0BEC5",
                "#B0BEC5",
                "#B0BEC5",
                "red",
                "#B0BEC5",
                "#B0BEC5",
                "#B0BEC5",
                "#B0BEC5",
                "#B0BEC5",
                "#B0BEC5",
                "#B0BEC5"
               ]
              ]
             }
            ],
            "label": "Topic 16",
            "method": "update"
           },
           {
            "args": [
             {
              "marker.color": [
               [
                "#B0BEC5",
                "#B0BEC5",
                "#B0BEC5",
                "#B0BEC5",
                "#B0BEC5",
                "#B0BEC5",
                "#B0BEC5",
                "#B0BEC5",
                "#B0BEC5",
                "#B0BEC5",
                "#B0BEC5",
                "#B0BEC5",
                "#B0BEC5",
                "#B0BEC5",
                "#B0BEC5",
                "#B0BEC5",
                "#B0BEC5",
                "red",
                "#B0BEC5",
                "#B0BEC5",
                "#B0BEC5",
                "#B0BEC5",
                "#B0BEC5",
                "#B0BEC5"
               ]
              ]
             }
            ],
            "label": "Topic 17",
            "method": "update"
           },
           {
            "args": [
             {
              "marker.color": [
               [
                "#B0BEC5",
                "#B0BEC5",
                "#B0BEC5",
                "#B0BEC5",
                "#B0BEC5",
                "#B0BEC5",
                "#B0BEC5",
                "#B0BEC5",
                "#B0BEC5",
                "#B0BEC5",
                "#B0BEC5",
                "#B0BEC5",
                "#B0BEC5",
                "#B0BEC5",
                "#B0BEC5",
                "#B0BEC5",
                "#B0BEC5",
                "#B0BEC5",
                "red",
                "#B0BEC5",
                "#B0BEC5",
                "#B0BEC5",
                "#B0BEC5",
                "#B0BEC5"
               ]
              ]
             }
            ],
            "label": "Topic 18",
            "method": "update"
           },
           {
            "args": [
             {
              "marker.color": [
               [
                "#B0BEC5",
                "#B0BEC5",
                "#B0BEC5",
                "#B0BEC5",
                "#B0BEC5",
                "#B0BEC5",
                "#B0BEC5",
                "#B0BEC5",
                "#B0BEC5",
                "#B0BEC5",
                "#B0BEC5",
                "#B0BEC5",
                "#B0BEC5",
                "#B0BEC5",
                "#B0BEC5",
                "#B0BEC5",
                "#B0BEC5",
                "#B0BEC5",
                "#B0BEC5",
                "red",
                "#B0BEC5",
                "#B0BEC5",
                "#B0BEC5",
                "#B0BEC5"
               ]
              ]
             }
            ],
            "label": "Topic 19",
            "method": "update"
           },
           {
            "args": [
             {
              "marker.color": [
               [
                "#B0BEC5",
                "#B0BEC5",
                "#B0BEC5",
                "#B0BEC5",
                "#B0BEC5",
                "#B0BEC5",
                "#B0BEC5",
                "#B0BEC5",
                "#B0BEC5",
                "#B0BEC5",
                "#B0BEC5",
                "#B0BEC5",
                "#B0BEC5",
                "#B0BEC5",
                "#B0BEC5",
                "#B0BEC5",
                "#B0BEC5",
                "#B0BEC5",
                "#B0BEC5",
                "#B0BEC5",
                "red",
                "#B0BEC5",
                "#B0BEC5",
                "#B0BEC5"
               ]
              ]
             }
            ],
            "label": "Topic 20",
            "method": "update"
           },
           {
            "args": [
             {
              "marker.color": [
               [
                "#B0BEC5",
                "#B0BEC5",
                "#B0BEC5",
                "#B0BEC5",
                "#B0BEC5",
                "#B0BEC5",
                "#B0BEC5",
                "#B0BEC5",
                "#B0BEC5",
                "#B0BEC5",
                "#B0BEC5",
                "#B0BEC5",
                "#B0BEC5",
                "#B0BEC5",
                "#B0BEC5",
                "#B0BEC5",
                "#B0BEC5",
                "#B0BEC5",
                "#B0BEC5",
                "#B0BEC5",
                "#B0BEC5",
                "red",
                "#B0BEC5",
                "#B0BEC5"
               ]
              ]
             }
            ],
            "label": "Topic 21",
            "method": "update"
           },
           {
            "args": [
             {
              "marker.color": [
               [
                "#B0BEC5",
                "#B0BEC5",
                "#B0BEC5",
                "#B0BEC5",
                "#B0BEC5",
                "#B0BEC5",
                "#B0BEC5",
                "#B0BEC5",
                "#B0BEC5",
                "#B0BEC5",
                "#B0BEC5",
                "#B0BEC5",
                "#B0BEC5",
                "#B0BEC5",
                "#B0BEC5",
                "#B0BEC5",
                "#B0BEC5",
                "#B0BEC5",
                "#B0BEC5",
                "#B0BEC5",
                "#B0BEC5",
                "#B0BEC5",
                "red",
                "#B0BEC5"
               ]
              ]
             }
            ],
            "label": "Topic 22",
            "method": "update"
           },
           {
            "args": [
             {
              "marker.color": [
               [
                "#B0BEC5",
                "#B0BEC5",
                "#B0BEC5",
                "#B0BEC5",
                "#B0BEC5",
                "#B0BEC5",
                "#B0BEC5",
                "#B0BEC5",
                "#B0BEC5",
                "#B0BEC5",
                "#B0BEC5",
                "#B0BEC5",
                "#B0BEC5",
                "#B0BEC5",
                "#B0BEC5",
                "#B0BEC5",
                "#B0BEC5",
                "#B0BEC5",
                "#B0BEC5",
                "#B0BEC5",
                "#B0BEC5",
                "#B0BEC5",
                "#B0BEC5",
                "red"
               ]
              ]
             }
            ],
            "label": "Topic 23",
            "method": "update"
           }
          ]
         }
        ],
        "template": {
         "data": {
          "bar": [
           {
            "error_x": {
             "color": "rgb(36,36,36)"
            },
            "error_y": {
             "color": "rgb(36,36,36)"
            },
            "marker": {
             "line": {
              "color": "white",
              "width": 0.5
             },
             "pattern": {
              "fillmode": "overlay",
              "size": 10,
              "solidity": 0.2
             }
            },
            "type": "bar"
           }
          ],
          "barpolar": [
           {
            "marker": {
             "line": {
              "color": "white",
              "width": 0.5
             },
             "pattern": {
              "fillmode": "overlay",
              "size": 10,
              "solidity": 0.2
             }
            },
            "type": "barpolar"
           }
          ],
          "carpet": [
           {
            "aaxis": {
             "endlinecolor": "rgb(36,36,36)",
             "gridcolor": "white",
             "linecolor": "white",
             "minorgridcolor": "white",
             "startlinecolor": "rgb(36,36,36)"
            },
            "baxis": {
             "endlinecolor": "rgb(36,36,36)",
             "gridcolor": "white",
             "linecolor": "white",
             "minorgridcolor": "white",
             "startlinecolor": "rgb(36,36,36)"
            },
            "type": "carpet"
           }
          ],
          "choropleth": [
           {
            "colorbar": {
             "outlinewidth": 1,
             "tickcolor": "rgb(36,36,36)",
             "ticks": "outside"
            },
            "type": "choropleth"
           }
          ],
          "contour": [
           {
            "colorbar": {
             "outlinewidth": 1,
             "tickcolor": "rgb(36,36,36)",
             "ticks": "outside"
            },
            "colorscale": [
             [
              0,
              "#440154"
             ],
             [
              0.1111111111111111,
              "#482878"
             ],
             [
              0.2222222222222222,
              "#3e4989"
             ],
             [
              0.3333333333333333,
              "#31688e"
             ],
             [
              0.4444444444444444,
              "#26828e"
             ],
             [
              0.5555555555555556,
              "#1f9e89"
             ],
             [
              0.6666666666666666,
              "#35b779"
             ],
             [
              0.7777777777777778,
              "#6ece58"
             ],
             [
              0.8888888888888888,
              "#b5de2b"
             ],
             [
              1,
              "#fde725"
             ]
            ],
            "type": "contour"
           }
          ],
          "contourcarpet": [
           {
            "colorbar": {
             "outlinewidth": 1,
             "tickcolor": "rgb(36,36,36)",
             "ticks": "outside"
            },
            "type": "contourcarpet"
           }
          ],
          "heatmap": [
           {
            "colorbar": {
             "outlinewidth": 1,
             "tickcolor": "rgb(36,36,36)",
             "ticks": "outside"
            },
            "colorscale": [
             [
              0,
              "#440154"
             ],
             [
              0.1111111111111111,
              "#482878"
             ],
             [
              0.2222222222222222,
              "#3e4989"
             ],
             [
              0.3333333333333333,
              "#31688e"
             ],
             [
              0.4444444444444444,
              "#26828e"
             ],
             [
              0.5555555555555556,
              "#1f9e89"
             ],
             [
              0.6666666666666666,
              "#35b779"
             ],
             [
              0.7777777777777778,
              "#6ece58"
             ],
             [
              0.8888888888888888,
              "#b5de2b"
             ],
             [
              1,
              "#fde725"
             ]
            ],
            "type": "heatmap"
           }
          ],
          "heatmapgl": [
           {
            "colorbar": {
             "outlinewidth": 1,
             "tickcolor": "rgb(36,36,36)",
             "ticks": "outside"
            },
            "colorscale": [
             [
              0,
              "#440154"
             ],
             [
              0.1111111111111111,
              "#482878"
             ],
             [
              0.2222222222222222,
              "#3e4989"
             ],
             [
              0.3333333333333333,
              "#31688e"
             ],
             [
              0.4444444444444444,
              "#26828e"
             ],
             [
              0.5555555555555556,
              "#1f9e89"
             ],
             [
              0.6666666666666666,
              "#35b779"
             ],
             [
              0.7777777777777778,
              "#6ece58"
             ],
             [
              0.8888888888888888,
              "#b5de2b"
             ],
             [
              1,
              "#fde725"
             ]
            ],
            "type": "heatmapgl"
           }
          ],
          "histogram": [
           {
            "marker": {
             "line": {
              "color": "white",
              "width": 0.6
             }
            },
            "type": "histogram"
           }
          ],
          "histogram2d": [
           {
            "colorbar": {
             "outlinewidth": 1,
             "tickcolor": "rgb(36,36,36)",
             "ticks": "outside"
            },
            "colorscale": [
             [
              0,
              "#440154"
             ],
             [
              0.1111111111111111,
              "#482878"
             ],
             [
              0.2222222222222222,
              "#3e4989"
             ],
             [
              0.3333333333333333,
              "#31688e"
             ],
             [
              0.4444444444444444,
              "#26828e"
             ],
             [
              0.5555555555555556,
              "#1f9e89"
             ],
             [
              0.6666666666666666,
              "#35b779"
             ],
             [
              0.7777777777777778,
              "#6ece58"
             ],
             [
              0.8888888888888888,
              "#b5de2b"
             ],
             [
              1,
              "#fde725"
             ]
            ],
            "type": "histogram2d"
           }
          ],
          "histogram2dcontour": [
           {
            "colorbar": {
             "outlinewidth": 1,
             "tickcolor": "rgb(36,36,36)",
             "ticks": "outside"
            },
            "colorscale": [
             [
              0,
              "#440154"
             ],
             [
              0.1111111111111111,
              "#482878"
             ],
             [
              0.2222222222222222,
              "#3e4989"
             ],
             [
              0.3333333333333333,
              "#31688e"
             ],
             [
              0.4444444444444444,
              "#26828e"
             ],
             [
              0.5555555555555556,
              "#1f9e89"
             ],
             [
              0.6666666666666666,
              "#35b779"
             ],
             [
              0.7777777777777778,
              "#6ece58"
             ],
             [
              0.8888888888888888,
              "#b5de2b"
             ],
             [
              1,
              "#fde725"
             ]
            ],
            "type": "histogram2dcontour"
           }
          ],
          "mesh3d": [
           {
            "colorbar": {
             "outlinewidth": 1,
             "tickcolor": "rgb(36,36,36)",
             "ticks": "outside"
            },
            "type": "mesh3d"
           }
          ],
          "parcoords": [
           {
            "line": {
             "colorbar": {
              "outlinewidth": 1,
              "tickcolor": "rgb(36,36,36)",
              "ticks": "outside"
             }
            },
            "type": "parcoords"
           }
          ],
          "pie": [
           {
            "automargin": true,
            "type": "pie"
           }
          ],
          "scatter": [
           {
            "fillpattern": {
             "fillmode": "overlay",
             "size": 10,
             "solidity": 0.2
            },
            "type": "scatter"
           }
          ],
          "scatter3d": [
           {
            "line": {
             "colorbar": {
              "outlinewidth": 1,
              "tickcolor": "rgb(36,36,36)",
              "ticks": "outside"
             }
            },
            "marker": {
             "colorbar": {
              "outlinewidth": 1,
              "tickcolor": "rgb(36,36,36)",
              "ticks": "outside"
             }
            },
            "type": "scatter3d"
           }
          ],
          "scattercarpet": [
           {
            "marker": {
             "colorbar": {
              "outlinewidth": 1,
              "tickcolor": "rgb(36,36,36)",
              "ticks": "outside"
             }
            },
            "type": "scattercarpet"
           }
          ],
          "scattergeo": [
           {
            "marker": {
             "colorbar": {
              "outlinewidth": 1,
              "tickcolor": "rgb(36,36,36)",
              "ticks": "outside"
             }
            },
            "type": "scattergeo"
           }
          ],
          "scattergl": [
           {
            "marker": {
             "colorbar": {
              "outlinewidth": 1,
              "tickcolor": "rgb(36,36,36)",
              "ticks": "outside"
             }
            },
            "type": "scattergl"
           }
          ],
          "scattermapbox": [
           {
            "marker": {
             "colorbar": {
              "outlinewidth": 1,
              "tickcolor": "rgb(36,36,36)",
              "ticks": "outside"
             }
            },
            "type": "scattermapbox"
           }
          ],
          "scatterpolar": [
           {
            "marker": {
             "colorbar": {
              "outlinewidth": 1,
              "tickcolor": "rgb(36,36,36)",
              "ticks": "outside"
             }
            },
            "type": "scatterpolar"
           }
          ],
          "scatterpolargl": [
           {
            "marker": {
             "colorbar": {
              "outlinewidth": 1,
              "tickcolor": "rgb(36,36,36)",
              "ticks": "outside"
             }
            },
            "type": "scatterpolargl"
           }
          ],
          "scatterternary": [
           {
            "marker": {
             "colorbar": {
              "outlinewidth": 1,
              "tickcolor": "rgb(36,36,36)",
              "ticks": "outside"
             }
            },
            "type": "scatterternary"
           }
          ],
          "surface": [
           {
            "colorbar": {
             "outlinewidth": 1,
             "tickcolor": "rgb(36,36,36)",
             "ticks": "outside"
            },
            "colorscale": [
             [
              0,
              "#440154"
             ],
             [
              0.1111111111111111,
              "#482878"
             ],
             [
              0.2222222222222222,
              "#3e4989"
             ],
             [
              0.3333333333333333,
              "#31688e"
             ],
             [
              0.4444444444444444,
              "#26828e"
             ],
             [
              0.5555555555555556,
              "#1f9e89"
             ],
             [
              0.6666666666666666,
              "#35b779"
             ],
             [
              0.7777777777777778,
              "#6ece58"
             ],
             [
              0.8888888888888888,
              "#b5de2b"
             ],
             [
              1,
              "#fde725"
             ]
            ],
            "type": "surface"
           }
          ],
          "table": [
           {
            "cells": {
             "fill": {
              "color": "rgb(237,237,237)"
             },
             "line": {
              "color": "white"
             }
            },
            "header": {
             "fill": {
              "color": "rgb(217,217,217)"
             },
             "line": {
              "color": "white"
             }
            },
            "type": "table"
           }
          ]
         },
         "layout": {
          "annotationdefaults": {
           "arrowhead": 0,
           "arrowwidth": 1
          },
          "autotypenumbers": "strict",
          "coloraxis": {
           "colorbar": {
            "outlinewidth": 1,
            "tickcolor": "rgb(36,36,36)",
            "ticks": "outside"
           }
          },
          "colorscale": {
           "diverging": [
            [
             0,
             "rgb(103,0,31)"
            ],
            [
             0.1,
             "rgb(178,24,43)"
            ],
            [
             0.2,
             "rgb(214,96,77)"
            ],
            [
             0.3,
             "rgb(244,165,130)"
            ],
            [
             0.4,
             "rgb(253,219,199)"
            ],
            [
             0.5,
             "rgb(247,247,247)"
            ],
            [
             0.6,
             "rgb(209,229,240)"
            ],
            [
             0.7,
             "rgb(146,197,222)"
            ],
            [
             0.8,
             "rgb(67,147,195)"
            ],
            [
             0.9,
             "rgb(33,102,172)"
            ],
            [
             1,
             "rgb(5,48,97)"
            ]
           ],
           "sequential": [
            [
             0,
             "#440154"
            ],
            [
             0.1111111111111111,
             "#482878"
            ],
            [
             0.2222222222222222,
             "#3e4989"
            ],
            [
             0.3333333333333333,
             "#31688e"
            ],
            [
             0.4444444444444444,
             "#26828e"
            ],
            [
             0.5555555555555556,
             "#1f9e89"
            ],
            [
             0.6666666666666666,
             "#35b779"
            ],
            [
             0.7777777777777778,
             "#6ece58"
            ],
            [
             0.8888888888888888,
             "#b5de2b"
            ],
            [
             1,
             "#fde725"
            ]
           ],
           "sequentialminus": [
            [
             0,
             "#440154"
            ],
            [
             0.1111111111111111,
             "#482878"
            ],
            [
             0.2222222222222222,
             "#3e4989"
            ],
            [
             0.3333333333333333,
             "#31688e"
            ],
            [
             0.4444444444444444,
             "#26828e"
            ],
            [
             0.5555555555555556,
             "#1f9e89"
            ],
            [
             0.6666666666666666,
             "#35b779"
            ],
            [
             0.7777777777777778,
             "#6ece58"
            ],
            [
             0.8888888888888888,
             "#b5de2b"
            ],
            [
             1,
             "#fde725"
            ]
           ]
          },
          "colorway": [
           "#1F77B4",
           "#FF7F0E",
           "#2CA02C",
           "#D62728",
           "#9467BD",
           "#8C564B",
           "#E377C2",
           "#7F7F7F",
           "#BCBD22",
           "#17BECF"
          ],
          "font": {
           "color": "rgb(36,36,36)"
          },
          "geo": {
           "bgcolor": "white",
           "lakecolor": "white",
           "landcolor": "white",
           "showlakes": true,
           "showland": true,
           "subunitcolor": "white"
          },
          "hoverlabel": {
           "align": "left"
          },
          "hovermode": "closest",
          "mapbox": {
           "style": "light"
          },
          "paper_bgcolor": "white",
          "plot_bgcolor": "white",
          "polar": {
           "angularaxis": {
            "gridcolor": "rgb(232,232,232)",
            "linecolor": "rgb(36,36,36)",
            "showgrid": false,
            "showline": true,
            "ticks": "outside"
           },
           "bgcolor": "white",
           "radialaxis": {
            "gridcolor": "rgb(232,232,232)",
            "linecolor": "rgb(36,36,36)",
            "showgrid": false,
            "showline": true,
            "ticks": "outside"
           }
          },
          "scene": {
           "xaxis": {
            "backgroundcolor": "white",
            "gridcolor": "rgb(232,232,232)",
            "gridwidth": 2,
            "linecolor": "rgb(36,36,36)",
            "showbackground": true,
            "showgrid": false,
            "showline": true,
            "ticks": "outside",
            "zeroline": false,
            "zerolinecolor": "rgb(36,36,36)"
           },
           "yaxis": {
            "backgroundcolor": "white",
            "gridcolor": "rgb(232,232,232)",
            "gridwidth": 2,
            "linecolor": "rgb(36,36,36)",
            "showbackground": true,
            "showgrid": false,
            "showline": true,
            "ticks": "outside",
            "zeroline": false,
            "zerolinecolor": "rgb(36,36,36)"
           },
           "zaxis": {
            "backgroundcolor": "white",
            "gridcolor": "rgb(232,232,232)",
            "gridwidth": 2,
            "linecolor": "rgb(36,36,36)",
            "showbackground": true,
            "showgrid": false,
            "showline": true,
            "ticks": "outside",
            "zeroline": false,
            "zerolinecolor": "rgb(36,36,36)"
           }
          },
          "shapedefaults": {
           "fillcolor": "black",
           "line": {
            "width": 0
           },
           "opacity": 0.3
          },
          "ternary": {
           "aaxis": {
            "gridcolor": "rgb(232,232,232)",
            "linecolor": "rgb(36,36,36)",
            "showgrid": false,
            "showline": true,
            "ticks": "outside"
           },
           "baxis": {
            "gridcolor": "rgb(232,232,232)",
            "linecolor": "rgb(36,36,36)",
            "showgrid": false,
            "showline": true,
            "ticks": "outside"
           },
           "bgcolor": "white",
           "caxis": {
            "gridcolor": "rgb(232,232,232)",
            "linecolor": "rgb(36,36,36)",
            "showgrid": false,
            "showline": true,
            "ticks": "outside"
           }
          },
          "title": {
           "x": 0.05
          },
          "xaxis": {
           "automargin": true,
           "gridcolor": "rgb(232,232,232)",
           "linecolor": "rgb(36,36,36)",
           "showgrid": false,
           "showline": true,
           "ticks": "outside",
           "title": {
            "standoff": 15
           },
           "zeroline": false,
           "zerolinecolor": "rgb(36,36,36)"
          },
          "yaxis": {
           "automargin": true,
           "gridcolor": "rgb(232,232,232)",
           "linecolor": "rgb(36,36,36)",
           "showgrid": false,
           "showline": true,
           "ticks": "outside",
           "title": {
            "standoff": 15
           },
           "zeroline": false,
           "zerolinecolor": "rgb(36,36,36)"
          }
         }
        },
        "title": {
         "font": {
          "color": "Black",
          "size": 22
         },
         "text": "<b>Intertopic Distance Map</b>",
         "x": 0.5,
         "xanchor": "center",
         "y": 0.95,
         "yanchor": "top"
        },
        "width": 600,
        "xaxis": {
         "anchor": "y",
         "domain": [
          0,
          1
         ],
         "range": [
          -6.577289628982544,
          9.182006573677063
         ],
         "title": {
          "text": ""
         },
         "type": "linear",
         "visible": false
        },
        "yaxis": {
         "anchor": "x",
         "domain": [
          0,
          1
         ],
         "range": [
          -14.091375827789307,
          23.401116371154785
         ],
         "title": {
          "text": ""
         },
         "type": "linear",
         "visible": false
        }
       }
      },
      "image/png": "[encoded data removed]",
      "text/html": [
       "<div>                            <div id=\"3f862c40-e4b2-44c0-b996-b4c2dc32329c\" class=\"plotly-graph-div\" style=\"height:600px; width:600px;\"></div>            <script type=\"text/javascript\">                require([\"plotly\"], function(Plotly) {                    window.PLOTLYENV=window.PLOTLYENV || {};                                    if (document.getElementById(\"3f862c40-e4b2-44c0-b996-b4c2dc32329c\")) {                    Plotly.newPlot(                        \"3f862c40-e4b2-44c0-b996-b4c2dc32329c\",                        [{\"customdata\":[[0,\"данных | это | аналитик | бета | аналитика\",184],[1,\"заявку | лс | чата | заявку nda | подписать\",37],[2,\"нюдсов | это | тебе | живет | напишу\",36],[3,\"соевых | думаешь | чат | 200 | подписывал\",33],[4,\"yndxcbot | toprep yndxcbot | toprep | yndxcbot toprep | yndxcbot toprep yndxcbot\",30],[5,\"ритейл | ссылка | это | запросите новую | подписать nda ссылка\",26],[6,\"ссылка | nda | ссылка nda | активна | активна ссылка nda\",25],[7,\"спасибо | тебе | спасибо тебе | тебе спасибо | тебе спасибо спасибо\",24],[8,\"это | скорее | тобой | яндекс | заявку\",22],[9,\"привет | всем привет | коллеги | всем | обучения\",20],[10,\"hr | это | вопросы | чат | ссылка\",20],[11,\"спасибо | пока | праздником зайки спасибо | солнышко зимних | стелешь ура\",18],[12,\"https | https me | me | https me i6upyoecsck4ztay | i6upyoecsck4ztay\",17],[13,\"людей | кажется | недавнего забыл писать | попробовал могу удалённо | находиться\",17],[14,\"спасибо | спасибо спасибо | спасибо спасибо спасибо | большое | спасибо спасибо заполнил\",16],[15,\"буду | знаю | осталось чате | пока никто отдал | одним первых\",16],[16,\"связь | время | s3 | самые преданные | положил оч вкутно\",14],[17,\"ссылка | яндекс | практикума | навыкам | анкету\",14],[18,\"мск | больной | сердечке | твоего сообщения | тяжело больной\",14],[19,\"мотивированы сбрасывать это | минут тг | толкаете осознанный | тяжко душными | свой канал будут\",13],[20,\"ёклмн | описано ёклмн везде | отлично описано | описано | мазохистичный порыв\",13],[21,\"яндекс | базовые | насколько | эйчару | инженеры данных\",13],[22,\"ща спою спасибо | мимо нашел единорога | спасибо жестко правильно | спасибо жестко | ща спою\",11],[23,\"буквы | придраться | хотелось услышать спасиьо | чему ещё придраться | чему ещё\",10]],\"hovertemplate\":\"\\u003cb\\u003eTopic %{customdata[0]}\\u003c\\u002fb\\u003e\\u003cbr\\u003e%{customdata[1]}\\u003cbr\\u003eSize: %{customdata[2]}\",\"legendgroup\":\"\",\"marker\":{\"color\":\"#B0BEC5\",\"size\":[184,37,36,33,30,26,25,24,22,20,20,18,17,17,16,16,14,14,14,13,13,13,11,10],\"sizemode\":\"area\",\"sizeref\":0.115,\"symbol\":\"circle\",\"line\":{\"color\":\"DarkSlateGrey\",\"width\":2}},\"mode\":\"markers\",\"name\":\"\",\"orientation\":\"v\",\"showlegend\":false,\"x\":[7.0709085,-1.4869319,4.1234517,3.2101462,-5.7193823,7.335835,-1.7235816,3.3622031,4.5460753,7.4579844,7.765208,7.054677,-5.5982933,4.477584,3.6076117,3.6412644,7.624779,-1.3201131,3.3343468,7.0851097,2.9947033,3.9440176,7.9843535,3.423068],\"xaxis\":\"x\",\"y\":[5.9321914,-12.017199,-3.1937864,19.95018,-7.1494803,6.941012,-12.25337,20.102615,-3.6834402,5.718115,7.2635503,5.5561743,-7.0281053,-3.5517042,20.348797,-2.8180463,6.6212935,-11.850018,-2.9786878,6.353994,19.734165,-3.5478523,7.2948008,-2.482648],\"yaxis\":\"y\",\"type\":\"scatter\"}],                        {\"template\":{\"data\":{\"barpolar\":[{\"marker\":{\"line\":{\"color\":\"white\",\"width\":0.5},\"pattern\":{\"fillmode\":\"overlay\",\"size\":10,\"solidity\":0.2}},\"type\":\"barpolar\"}],\"bar\":[{\"error_x\":{\"color\":\"rgb(36,36,36)\"},\"error_y\":{\"color\":\"rgb(36,36,36)\"},\"marker\":{\"line\":{\"color\":\"white\",\"width\":0.5},\"pattern\":{\"fillmode\":\"overlay\",\"size\":10,\"solidity\":0.2}},\"type\":\"bar\"}],\"carpet\":[{\"aaxis\":{\"endlinecolor\":\"rgb(36,36,36)\",\"gridcolor\":\"white\",\"linecolor\":\"white\",\"minorgridcolor\":\"white\",\"startlinecolor\":\"rgb(36,36,36)\"},\"baxis\":{\"endlinecolor\":\"rgb(36,36,36)\",\"gridcolor\":\"white\",\"linecolor\":\"white\",\"minorgridcolor\":\"white\",\"startlinecolor\":\"rgb(36,36,36)\"},\"type\":\"carpet\"}],\"choropleth\":[{\"colorbar\":{\"outlinewidth\":1,\"tickcolor\":\"rgb(36,36,36)\",\"ticks\":\"outside\"},\"type\":\"choropleth\"}],\"contourcarpet\":[{\"colorbar\":{\"outlinewidth\":1,\"tickcolor\":\"rgb(36,36,36)\",\"ticks\":\"outside\"},\"type\":\"contourcarpet\"}],\"contour\":[{\"colorbar\":{\"outlinewidth\":1,\"tickcolor\":\"rgb(36,36,36)\",\"ticks\":\"outside\"},\"colorscale\":[[0.0,\"#440154\"],[0.1111111111111111,\"#482878\"],[0.2222222222222222,\"#3e4989\"],[0.3333333333333333,\"#31688e\"],[0.4444444444444444,\"#26828e\"],[0.5555555555555556,\"#1f9e89\"],[0.6666666666666666,\"#35b779\"],[0.7777777777777778,\"#6ece58\"],[0.8888888888888888,\"#b5de2b\"],[1.0,\"#fde725\"]],\"type\":\"contour\"}],\"heatmapgl\":[{\"colorbar\":{\"outlinewidth\":1,\"tickcolor\":\"rgb(36,36,36)\",\"ticks\":\"outside\"},\"colorscale\":[[0.0,\"#440154\"],[0.1111111111111111,\"#482878\"],[0.2222222222222222,\"#3e4989\"],[0.3333333333333333,\"#31688e\"],[0.4444444444444444,\"#26828e\"],[0.5555555555555556,\"#1f9e89\"],[0.6666666666666666,\"#35b779\"],[0.7777777777777778,\"#6ece58\"],[0.8888888888888888,\"#b5de2b\"],[1.0,\"#fde725\"]],\"type\":\"heatmapgl\"}],\"heatmap\":[{\"colorbar\":{\"outlinewidth\":1,\"tickcolor\":\"rgb(36,36,36)\",\"ticks\":\"outside\"},\"colorscale\":[[0.0,\"#440154\"],[0.1111111111111111,\"#482878\"],[0.2222222222222222,\"#3e4989\"],[0.3333333333333333,\"#31688e\"],[0.4444444444444444,\"#26828e\"],[0.5555555555555556,\"#1f9e89\"],[0.6666666666666666,\"#35b779\"],[0.7777777777777778,\"#6ece58\"],[0.8888888888888888,\"#b5de2b\"],[1.0,\"#fde725\"]],\"type\":\"heatmap\"}],\"histogram2dcontour\":[{\"colorbar\":{\"outlinewidth\":1,\"tickcolor\":\"rgb(36,36,36)\",\"ticks\":\"outside\"},\"colorscale\":[[0.0,\"#440154\"],[0.1111111111111111,\"#482878\"],[0.2222222222222222,\"#3e4989\"],[0.3333333333333333,\"#31688e\"],[0.4444444444444444,\"#26828e\"],[0.5555555555555556,\"#1f9e89\"],[0.6666666666666666,\"#35b779\"],[0.7777777777777778,\"#6ece58\"],[0.8888888888888888,\"#b5de2b\"],[1.0,\"#fde725\"]],\"type\":\"histogram2dcontour\"}],\"histogram2d\":[{\"colorbar\":{\"outlinewidth\":1,\"tickcolor\":\"rgb(36,36,36)\",\"ticks\":\"outside\"},\"colorscale\":[[0.0,\"#440154\"],[0.1111111111111111,\"#482878\"],[0.2222222222222222,\"#3e4989\"],[0.3333333333333333,\"#31688e\"],[0.4444444444444444,\"#26828e\"],[0.5555555555555556,\"#1f9e89\"],[0.6666666666666666,\"#35b779\"],[0.7777777777777778,\"#6ece58\"],[0.8888888888888888,\"#b5de2b\"],[1.0,\"#fde725\"]],\"type\":\"histogram2d\"}],\"histogram\":[{\"marker\":{\"line\":{\"color\":\"white\",\"width\":0.6}},\"type\":\"histogram\"}],\"mesh3d\":[{\"colorbar\":{\"outlinewidth\":1,\"tickcolor\":\"rgb(36,36,36)\",\"ticks\":\"outside\"},\"type\":\"mesh3d\"}],\"parcoords\":[{\"line\":{\"colorbar\":{\"outlinewidth\":1,\"tickcolor\":\"rgb(36,36,36)\",\"ticks\":\"outside\"}},\"type\":\"parcoords\"}],\"pie\":[{\"automargin\":true,\"type\":\"pie\"}],\"scatter3d\":[{\"line\":{\"colorbar\":{\"outlinewidth\":1,\"tickcolor\":\"rgb(36,36,36)\",\"ticks\":\"outside\"}},\"marker\":{\"colorbar\":{\"outlinewidth\":1,\"tickcolor\":\"rgb(36,36,36)\",\"ticks\":\"outside\"}},\"type\":\"scatter3d\"}],\"scattercarpet\":[{\"marker\":{\"colorbar\":{\"outlinewidth\":1,\"tickcolor\":\"rgb(36,36,36)\",\"ticks\":\"outside\"}},\"type\":\"scattercarpet\"}],\"scattergeo\":[{\"marker\":{\"colorbar\":{\"outlinewidth\":1,\"tickcolor\":\"rgb(36,36,36)\",\"ticks\":\"outside\"}},\"type\":\"scattergeo\"}],\"scattergl\":[{\"marker\":{\"colorbar\":{\"outlinewidth\":1,\"tickcolor\":\"rgb(36,36,36)\",\"ticks\":\"outside\"}},\"type\":\"scattergl\"}],\"scattermapbox\":[{\"marker\":{\"colorbar\":{\"outlinewidth\":1,\"tickcolor\":\"rgb(36,36,36)\",\"ticks\":\"outside\"}},\"type\":\"scattermapbox\"}],\"scatterpolargl\":[{\"marker\":{\"colorbar\":{\"outlinewidth\":1,\"tickcolor\":\"rgb(36,36,36)\",\"ticks\":\"outside\"}},\"type\":\"scatterpolargl\"}],\"scatterpolar\":[{\"marker\":{\"colorbar\":{\"outlinewidth\":1,\"tickcolor\":\"rgb(36,36,36)\",\"ticks\":\"outside\"}},\"type\":\"scatterpolar\"}],\"scatter\":[{\"fillpattern\":{\"fillmode\":\"overlay\",\"size\":10,\"solidity\":0.2},\"type\":\"scatter\"}],\"scatterternary\":[{\"marker\":{\"colorbar\":{\"outlinewidth\":1,\"tickcolor\":\"rgb(36,36,36)\",\"ticks\":\"outside\"}},\"type\":\"scatterternary\"}],\"surface\":[{\"colorbar\":{\"outlinewidth\":1,\"tickcolor\":\"rgb(36,36,36)\",\"ticks\":\"outside\"},\"colorscale\":[[0.0,\"#440154\"],[0.1111111111111111,\"#482878\"],[0.2222222222222222,\"#3e4989\"],[0.3333333333333333,\"#31688e\"],[0.4444444444444444,\"#26828e\"],[0.5555555555555556,\"#1f9e89\"],[0.6666666666666666,\"#35b779\"],[0.7777777777777778,\"#6ece58\"],[0.8888888888888888,\"#b5de2b\"],[1.0,\"#fde725\"]],\"type\":\"surface\"}],\"table\":[{\"cells\":{\"fill\":{\"color\":\"rgb(237,237,237)\"},\"line\":{\"color\":\"white\"}},\"header\":{\"fill\":{\"color\":\"rgb(217,217,217)\"},\"line\":{\"color\":\"white\"}},\"type\":\"table\"}]},\"layout\":{\"annotationdefaults\":{\"arrowhead\":0,\"arrowwidth\":1},\"autotypenumbers\":\"strict\",\"coloraxis\":{\"colorbar\":{\"outlinewidth\":1,\"tickcolor\":\"rgb(36,36,36)\",\"ticks\":\"outside\"}},\"colorscale\":{\"diverging\":[[0.0,\"rgb(103,0,31)\"],[0.1,\"rgb(178,24,43)\"],[0.2,\"rgb(214,96,77)\"],[0.3,\"rgb(244,165,130)\"],[0.4,\"rgb(253,219,199)\"],[0.5,\"rgb(247,247,247)\"],[0.6,\"rgb(209,229,240)\"],[0.7,\"rgb(146,197,222)\"],[0.8,\"rgb(67,147,195)\"],[0.9,\"rgb(33,102,172)\"],[1.0,\"rgb(5,48,97)\"]],\"sequential\":[[0.0,\"#440154\"],[0.1111111111111111,\"#482878\"],[0.2222222222222222,\"#3e4989\"],[0.3333333333333333,\"#31688e\"],[0.4444444444444444,\"#26828e\"],[0.5555555555555556,\"#1f9e89\"],[0.6666666666666666,\"#35b779\"],[0.7777777777777778,\"#6ece58\"],[0.8888888888888888,\"#b5de2b\"],[1.0,\"#fde725\"]],\"sequentialminus\":[[0.0,\"#440154\"],[0.1111111111111111,\"#482878\"],[0.2222222222222222,\"#3e4989\"],[0.3333333333333333,\"#31688e\"],[0.4444444444444444,\"#26828e\"],[0.5555555555555556,\"#1f9e89\"],[0.6666666666666666,\"#35b779\"],[0.7777777777777778,\"#6ece58\"],[0.8888888888888888,\"#b5de2b\"],[1.0,\"#fde725\"]]},\"colorway\":[\"#1F77B4\",\"#FF7F0E\",\"#2CA02C\",\"#D62728\",\"#9467BD\",\"#8C564B\",\"#E377C2\",\"#7F7F7F\",\"#BCBD22\",\"#17BECF\"],\"font\":{\"color\":\"rgb(36,36,36)\"},\"geo\":{\"bgcolor\":\"white\",\"lakecolor\":\"white\",\"landcolor\":\"white\",\"showlakes\":true,\"showland\":true,\"subunitcolor\":\"white\"},\"hoverlabel\":{\"align\":\"left\"},\"hovermode\":\"closest\",\"mapbox\":{\"style\":\"light\"},\"paper_bgcolor\":\"white\",\"plot_bgcolor\":\"white\",\"polar\":{\"angularaxis\":{\"gridcolor\":\"rgb(232,232,232)\",\"linecolor\":\"rgb(36,36,36)\",\"showgrid\":false,\"showline\":true,\"ticks\":\"outside\"},\"bgcolor\":\"white\",\"radialaxis\":{\"gridcolor\":\"rgb(232,232,232)\",\"linecolor\":\"rgb(36,36,36)\",\"showgrid\":false,\"showline\":true,\"ticks\":\"outside\"}},\"scene\":{\"xaxis\":{\"backgroundcolor\":\"white\",\"gridcolor\":\"rgb(232,232,232)\",\"gridwidth\":2,\"linecolor\":\"rgb(36,36,36)\",\"showbackground\":true,\"showgrid\":false,\"showline\":true,\"ticks\":\"outside\",\"zeroline\":false,\"zerolinecolor\":\"rgb(36,36,36)\"},\"yaxis\":{\"backgroundcolor\":\"white\",\"gridcolor\":\"rgb(232,232,232)\",\"gridwidth\":2,\"linecolor\":\"rgb(36,36,36)\",\"showbackground\":true,\"showgrid\":false,\"showline\":true,\"ticks\":\"outside\",\"zeroline\":false,\"zerolinecolor\":\"rgb(36,36,36)\"},\"zaxis\":{\"backgroundcolor\":\"white\",\"gridcolor\":\"rgb(232,232,232)\",\"gridwidth\":2,\"linecolor\":\"rgb(36,36,36)\",\"showbackground\":true,\"showgrid\":false,\"showline\":true,\"ticks\":\"outside\",\"zeroline\":false,\"zerolinecolor\":\"rgb(36,36,36)\"}},\"shapedefaults\":{\"fillcolor\":\"black\",\"line\":{\"width\":0},\"opacity\":0.3},\"ternary\":{\"aaxis\":{\"gridcolor\":\"rgb(232,232,232)\",\"linecolor\":\"rgb(36,36,36)\",\"showgrid\":false,\"showline\":true,\"ticks\":\"outside\"},\"baxis\":{\"gridcolor\":\"rgb(232,232,232)\",\"linecolor\":\"rgb(36,36,36)\",\"showgrid\":false,\"showline\":true,\"ticks\":\"outside\"},\"bgcolor\":\"white\",\"caxis\":{\"gridcolor\":\"rgb(232,232,232)\",\"linecolor\":\"rgb(36,36,36)\",\"showgrid\":false,\"showline\":true,\"ticks\":\"outside\"}},\"title\":{\"x\":0.05},\"xaxis\":{\"automargin\":true,\"gridcolor\":\"rgb(232,232,232)\",\"linecolor\":\"rgb(36,36,36)\",\"showgrid\":false,\"showline\":true,\"ticks\":\"outside\",\"title\":{\"standoff\":15},\"zeroline\":false,\"zerolinecolor\":\"rgb(36,36,36)\"},\"yaxis\":{\"automargin\":true,\"gridcolor\":\"rgb(232,232,232)\",\"linecolor\":\"rgb(36,36,36)\",\"showgrid\":false,\"showline\":true,\"ticks\":\"outside\",\"title\":{\"standoff\":15},\"zeroline\":false,\"zerolinecolor\":\"rgb(36,36,36)\"}}},\"xaxis\":{\"anchor\":\"y\",\"domain\":[0.0,1.0],\"title\":{\"text\":\"\"},\"visible\":false,\"range\":[-6.577289628982544,9.182006573677063]},\"yaxis\":{\"anchor\":\"x\",\"domain\":[0.0,1.0],\"title\":{\"text\":\"\"},\"visible\":false,\"range\":[-14.091375827789307,23.401116371154785]},\"legend\":{\"tracegroupgap\":0,\"itemsizing\":\"constant\"},\"margin\":{\"t\":60},\"title\":{\"font\":{\"size\":22,\"color\":\"Black\"},\"text\":\"\\u003cb\\u003eIntertopic Distance Map\\u003c\\u002fb\\u003e\",\"y\":0.95,\"x\":0.5,\"xanchor\":\"center\",\"yanchor\":\"top\"},\"hoverlabel\":{\"font\":{\"size\":16,\"family\":\"Rockwell\"},\"bgcolor\":\"white\"},\"width\":600,\"height\":600,\"sliders\":[{\"active\":0,\"pad\":{\"t\":50},\"steps\":[{\"args\":[{\"marker.color\":[[\"red\",\"#B0BEC5\",\"#B0BEC5\",\"#B0BEC5\",\"#B0BEC5\",\"#B0BEC5\",\"#B0BEC5\",\"#B0BEC5\",\"#B0BEC5\",\"#B0BEC5\",\"#B0BEC5\",\"#B0BEC5\",\"#B0BEC5\",\"#B0BEC5\",\"#B0BEC5\",\"#B0BEC5\",\"#B0BEC5\",\"#B0BEC5\",\"#B0BEC5\",\"#B0BEC5\",\"#B0BEC5\",\"#B0BEC5\",\"#B0BEC5\",\"#B0BEC5\"]]}],\"label\":\"Topic 0\",\"method\":\"update\"},{\"args\":[{\"marker.color\":[[\"#B0BEC5\",\"red\",\"#B0BEC5\",\"#B0BEC5\",\"#B0BEC5\",\"#B0BEC5\",\"#B0BEC5\",\"#B0BEC5\",\"#B0BEC5\",\"#B0BEC5\",\"#B0BEC5\",\"#B0BEC5\",\"#B0BEC5\",\"#B0BEC5\",\"#B0BEC5\",\"#B0BEC5\",\"#B0BEC5\",\"#B0BEC5\",\"#B0BEC5\",\"#B0BEC5\",\"#B0BEC5\",\"#B0BEC5\",\"#B0BEC5\",\"#B0BEC5\"]]}],\"label\":\"Topic 1\",\"method\":\"update\"},{\"args\":[{\"marker.color\":[[\"#B0BEC5\",\"#B0BEC5\",\"red\",\"#B0BEC5\",\"#B0BEC5\",\"#B0BEC5\",\"#B0BEC5\",\"#B0BEC5\",\"#B0BEC5\",\"#B0BEC5\",\"#B0BEC5\",\"#B0BEC5\",\"#B0BEC5\",\"#B0BEC5\",\"#B0BEC5\",\"#B0BEC5\",\"#B0BEC5\",\"#B0BEC5\",\"#B0BEC5\",\"#B0BEC5\",\"#B0BEC5\",\"#B0BEC5\",\"#B0BEC5\",\"#B0BEC5\"]]}],\"label\":\"Topic 2\",\"method\":\"update\"},{\"args\":[{\"marker.color\":[[\"#B0BEC5\",\"#B0BEC5\",\"#B0BEC5\",\"red\",\"#B0BEC5\",\"#B0BEC5\",\"#B0BEC5\",\"#B0BEC5\",\"#B0BEC5\",\"#B0BEC5\",\"#B0BEC5\",\"#B0BEC5\",\"#B0BEC5\",\"#B0BEC5\",\"#B0BEC5\",\"#B0BEC5\",\"#B0BEC5\",\"#B0BEC5\",\"#B0BEC5\",\"#B0BEC5\",\"#B0BEC5\",\"#B0BEC5\",\"#B0BEC5\",\"#B0BEC5\"]]}],\"label\":\"Topic 3\",\"method\":\"update\"},{\"args\":[{\"marker.color\":[[\"#B0BEC5\",\"#B0BEC5\",\"#B0BEC5\",\"#B0BEC5\",\"red\",\"#B0BEC5\",\"#B0BEC5\",\"#B0BEC5\",\"#B0BEC5\",\"#B0BEC5\",\"#B0BEC5\",\"#B0BEC5\",\"#B0BEC5\",\"#B0BEC5\",\"#B0BEC5\",\"#B0BEC5\",\"#B0BEC5\",\"#B0BEC5\",\"#B0BEC5\",\"#B0BEC5\",\"#B0BEC5\",\"#B0BEC5\",\"#B0BEC5\",\"#B0BEC5\"]]}],\"label\":\"Topic 4\",\"method\":\"update\"},{\"args\":[{\"marker.color\":[[\"#B0BEC5\",\"#B0BEC5\",\"#B0BEC5\",\"#B0BEC5\",\"#B0BEC5\",\"red\",\"#B0BEC5\",\"#B0BEC5\",\"#B0BEC5\",\"#B0BEC5\",\"#B0BEC5\",\"#B0BEC5\",\"#B0BEC5\",\"#B0BEC5\",\"#B0BEC5\",\"#B0BEC5\",\"#B0BEC5\",\"#B0BEC5\",\"#B0BEC5\",\"#B0BEC5\",\"#B0BEC5\",\"#B0BEC5\",\"#B0BEC5\",\"#B0BEC5\"]]}],\"label\":\"Topic 5\",\"method\":\"update\"},{\"args\":[{\"marker.color\":[[\"#B0BEC5\",\"#B0BEC5\",\"#B0BEC5\",\"#B0BEC5\",\"#B0BEC5\",\"#B0BEC5\",\"red\",\"#B0BEC5\",\"#B0BEC5\",\"#B0BEC5\",\"#B0BEC5\",\"#B0BEC5\",\"#B0BEC5\",\"#B0BEC5\",\"#B0BEC5\",\"#B0BEC5\",\"#B0BEC5\",\"#B0BEC5\",\"#B0BEC5\",\"#B0BEC5\",\"#B0BEC5\",\"#B0BEC5\",\"#B0BEC5\",\"#B0BEC5\"]]}],\"label\":\"Topic 6\",\"method\":\"update\"},{\"args\":[{\"marker.color\":[[\"#B0BEC5\",\"#B0BEC5\",\"#B0BEC5\",\"#B0BEC5\",\"#B0BEC5\",\"#B0BEC5\",\"#B0BEC5\",\"red\",\"#B0BEC5\",\"#B0BEC5\",\"#B0BEC5\",\"#B0BEC5\",\"#B0BEC5\",\"#B0BEC5\",\"#B0BEC5\",\"#B0BEC5\",\"#B0BEC5\",\"#B0BEC5\",\"#B0BEC5\",\"#B0BEC5\",\"#B0BEC5\",\"#B0BEC5\",\"#B0BEC5\",\"#B0BEC5\"]]}],\"label\":\"Topic 7\",\"method\":\"update\"},{\"args\":[{\"marker.color\":[[\"#B0BEC5\",\"#B0BEC5\",\"#B0BEC5\",\"#B0BEC5\",\"#B0BEC5\",\"#B0BEC5\",\"#B0BEC5\",\"#B0BEC5\",\"red\",\"#B0BEC5\",\"#B0BEC5\",\"#B0BEC5\",\"#B0BEC5\",\"#B0BEC5\",\"#B0BEC5\",\"#B0BEC5\",\"#B0BEC5\",\"#B0BEC5\",\"#B0BEC5\",\"#B0BEC5\",\"#B0BEC5\",\"#B0BEC5\",\"#B0BEC5\",\"#B0BEC5\"]]}],\"label\":\"Topic 8\",\"method\":\"update\"},{\"args\":[{\"marker.color\":[[\"#B0BEC5\",\"#B0BEC5\",\"#B0BEC5\",\"#B0BEC5\",\"#B0BEC5\",\"#B0BEC5\",\"#B0BEC5\",\"#B0BEC5\",\"#B0BEC5\",\"red\",\"#B0BEC5\",\"#B0BEC5\",\"#B0BEC5\",\"#B0BEC5\",\"#B0BEC5\",\"#B0BEC5\",\"#B0BEC5\",\"#B0BEC5\",\"#B0BEC5\",\"#B0BEC5\",\"#B0BEC5\",\"#B0BEC5\",\"#B0BEC5\",\"#B0BEC5\"]]}],\"label\":\"Topic 9\",\"method\":\"update\"},{\"args\":[{\"marker.color\":[[\"#B0BEC5\",\"#B0BEC5\",\"#B0BEC5\",\"#B0BEC5\",\"#B0BEC5\",\"#B0BEC5\",\"#B0BEC5\",\"#B0BEC5\",\"#B0BEC5\",\"#B0BEC5\",\"red\",\"#B0BEC5\",\"#B0BEC5\",\"#B0BEC5\",\"#B0BEC5\",\"#B0BEC5\",\"#B0BEC5\",\"#B0BEC5\",\"#B0BEC5\",\"#B0BEC5\",\"#B0BEC5\",\"#B0BEC5\",\"#B0BEC5\",\"#B0BEC5\"]]}],\"label\":\"Topic 10\",\"method\":\"update\"},{\"args\":[{\"marker.color\":[[\"#B0BEC5\",\"#B0BEC5\",\"#B0BEC5\",\"#B0BEC5\",\"#B0BEC5\",\"#B0BEC5\",\"#B0BEC5\",\"#B0BEC5\",\"#B0BEC5\",\"#B0BEC5\",\"#B0BEC5\",\"red\",\"#B0BEC5\",\"#B0BEC5\",\"#B0BEC5\",\"#B0BEC5\",\"#B0BEC5\",\"#B0BEC5\",\"#B0BEC5\",\"#B0BEC5\",\"#B0BEC5\",\"#B0BEC5\",\"#B0BEC5\",\"#B0BEC5\"]]}],\"label\":\"Topic 11\",\"method\":\"update\"},{\"args\":[{\"marker.color\":[[\"#B0BEC5\",\"#B0BEC5\",\"#B0BEC5\",\"#B0BEC5\",\"#B0BEC5\",\"#B0BEC5\",\"#B0BEC5\",\"#B0BEC5\",\"#B0BEC5\",\"#B0BEC5\",\"#B0BEC5\",\"#B0BEC5\",\"red\",\"#B0BEC5\",\"#B0BEC5\",\"#B0BEC5\",\"#B0BEC5\",\"#B0BEC5\",\"#B0BEC5\",\"#B0BEC5\",\"#B0BEC5\",\"#B0BEC5\",\"#B0BEC5\",\"#B0BEC5\"]]}],\"label\":\"Topic 12\",\"method\":\"update\"},{\"args\":[{\"marker.color\":[[\"#B0BEC5\",\"#B0BEC5\",\"#B0BEC5\",\"#B0BEC5\",\"#B0BEC5\",\"#B0BEC5\",\"#B0BEC5\",\"#B0BEC5\",\"#B0BEC5\",\"#B0BEC5\",\"#B0BEC5\",\"#B0BEC5\",\"#B0BEC5\",\"red\",\"#B0BEC5\",\"#B0BEC5\",\"#B0BEC5\",\"#B0BEC5\",\"#B0BEC5\",\"#B0BEC5\",\"#B0BEC5\",\"#B0BEC5\",\"#B0BEC5\",\"#B0BEC5\"]]}],\"label\":\"Topic 13\",\"method\":\"update\"},{\"args\":[{\"marker.color\":[[\"#B0BEC5\",\"#B0BEC5\",\"#B0BEC5\",\"#B0BEC5\",\"#B0BEC5\",\"#B0BEC5\",\"#B0BEC5\",\"#B0BEC5\",\"#B0BEC5\",\"#B0BEC5\",\"#B0BEC5\",\"#B0BEC5\",\"#B0BEC5\",\"#B0BEC5\",\"red\",\"#B0BEC5\",\"#B0BEC5\",\"#B0BEC5\",\"#B0BEC5\",\"#B0BEC5\",\"#B0BEC5\",\"#B0BEC5\",\"#B0BEC5\",\"#B0BEC5\"]]}],\"label\":\"Topic 14\",\"method\":\"update\"},{\"args\":[{\"marker.color\":[[\"#B0BEC5\",\"#B0BEC5\",\"#B0BEC5\",\"#B0BEC5\",\"#B0BEC5\",\"#B0BEC5\",\"#B0BEC5\",\"#B0BEC5\",\"#B0BEC5\",\"#B0BEC5\",\"#B0BEC5\",\"#B0BEC5\",\"#B0BEC5\",\"#B0BEC5\",\"#B0BEC5\",\"red\",\"#B0BEC5\",\"#B0BEC5\",\"#B0BEC5\",\"#B0BEC5\",\"#B0BEC5\",\"#B0BEC5\",\"#B0BEC5\",\"#B0BEC5\"]]}],\"label\":\"Topic 15\",\"method\":\"update\"},{\"args\":[{\"marker.color\":[[\"#B0BEC5\",\"#B0BEC5\",\"#B0BEC5\",\"#B0BEC5\",\"#B0BEC5\",\"#B0BEC5\",\"#B0BEC5\",\"#B0BEC5\",\"#B0BEC5\",\"#B0BEC5\",\"#B0BEC5\",\"#B0BEC5\",\"#B0BEC5\",\"#B0BEC5\",\"#B0BEC5\",\"#B0BEC5\",\"red\",\"#B0BEC5\",\"#B0BEC5\",\"#B0BEC5\",\"#B0BEC5\",\"#B0BEC5\",\"#B0BEC5\",\"#B0BEC5\"]]}],\"label\":\"Topic 16\",\"method\":\"update\"},{\"args\":[{\"marker.color\":[[\"#B0BEC5\",\"#B0BEC5\",\"#B0BEC5\",\"#B0BEC5\",\"#B0BEC5\",\"#B0BEC5\",\"#B0BEC5\",\"#B0BEC5\",\"#B0BEC5\",\"#B0BEC5\",\"#B0BEC5\",\"#B0BEC5\",\"#B0BEC5\",\"#B0BEC5\",\"#B0BEC5\",\"#B0BEC5\",\"#B0BEC5\",\"red\",\"#B0BEC5\",\"#B0BEC5\",\"#B0BEC5\",\"#B0BEC5\",\"#B0BEC5\",\"#B0BEC5\"]]}],\"label\":\"Topic 17\",\"method\":\"update\"},{\"args\":[{\"marker.color\":[[\"#B0BEC5\",\"#B0BEC5\",\"#B0BEC5\",\"#B0BEC5\",\"#B0BEC5\",\"#B0BEC5\",\"#B0BEC5\",\"#B0BEC5\",\"#B0BEC5\",\"#B0BEC5\",\"#B0BEC5\",\"#B0BEC5\",\"#B0BEC5\",\"#B0BEC5\",\"#B0BEC5\",\"#B0BEC5\",\"#B0BEC5\",\"#B0BEC5\",\"red\",\"#B0BEC5\",\"#B0BEC5\",\"#B0BEC5\",\"#B0BEC5\",\"#B0BEC5\"]]}],\"label\":\"Topic 18\",\"method\":\"update\"},{\"args\":[{\"marker.color\":[[\"#B0BEC5\",\"#B0BEC5\",\"#B0BEC5\",\"#B0BEC5\",\"#B0BEC5\",\"#B0BEC5\",\"#B0BEC5\",\"#B0BEC5\",\"#B0BEC5\",\"#B0BEC5\",\"#B0BEC5\",\"#B0BEC5\",\"#B0BEC5\",\"#B0BEC5\",\"#B0BEC5\",\"#B0BEC5\",\"#B0BEC5\",\"#B0BEC5\",\"#B0BEC5\",\"red\",\"#B0BEC5\",\"#B0BEC5\",\"#B0BEC5\",\"#B0BEC5\"]]}],\"label\":\"Topic 19\",\"method\":\"update\"},{\"args\":[{\"marker.color\":[[\"#B0BEC5\",\"#B0BEC5\",\"#B0BEC5\",\"#B0BEC5\",\"#B0BEC5\",\"#B0BEC5\",\"#B0BEC5\",\"#B0BEC5\",\"#B0BEC5\",\"#B0BEC5\",\"#B0BEC5\",\"#B0BEC5\",\"#B0BEC5\",\"#B0BEC5\",\"#B0BEC5\",\"#B0BEC5\",\"#B0BEC5\",\"#B0BEC5\",\"#B0BEC5\",\"#B0BEC5\",\"red\",\"#B0BEC5\",\"#B0BEC5\",\"#B0BEC5\"]]}],\"label\":\"Topic 20\",\"method\":\"update\"},{\"args\":[{\"marker.color\":[[\"#B0BEC5\",\"#B0BEC5\",\"#B0BEC5\",\"#B0BEC5\",\"#B0BEC5\",\"#B0BEC5\",\"#B0BEC5\",\"#B0BEC5\",\"#B0BEC5\",\"#B0BEC5\",\"#B0BEC5\",\"#B0BEC5\",\"#B0BEC5\",\"#B0BEC5\",\"#B0BEC5\",\"#B0BEC5\",\"#B0BEC5\",\"#B0BEC5\",\"#B0BEC5\",\"#B0BEC5\",\"#B0BEC5\",\"red\",\"#B0BEC5\",\"#B0BEC5\"]]}],\"label\":\"Topic 21\",\"method\":\"update\"},{\"args\":[{\"marker.color\":[[\"#B0BEC5\",\"#B0BEC5\",\"#B0BEC5\",\"#B0BEC5\",\"#B0BEC5\",\"#B0BEC5\",\"#B0BEC5\",\"#B0BEC5\",\"#B0BEC5\",\"#B0BEC5\",\"#B0BEC5\",\"#B0BEC5\",\"#B0BEC5\",\"#B0BEC5\",\"#B0BEC5\",\"#B0BEC5\",\"#B0BEC5\",\"#B0BEC5\",\"#B0BEC5\",\"#B0BEC5\",\"#B0BEC5\",\"#B0BEC5\",\"red\",\"#B0BEC5\"]]}],\"label\":\"Topic 22\",\"method\":\"update\"},{\"args\":[{\"marker.color\":[[\"#B0BEC5\",\"#B0BEC5\",\"#B0BEC5\",\"#B0BEC5\",\"#B0BEC5\",\"#B0BEC5\",\"#B0BEC5\",\"#B0BEC5\",\"#B0BEC5\",\"#B0BEC5\",\"#B0BEC5\",\"#B0BEC5\",\"#B0BEC5\",\"#B0BEC5\",\"#B0BEC5\",\"#B0BEC5\",\"#B0BEC5\",\"#B0BEC5\",\"#B0BEC5\",\"#B0BEC5\",\"#B0BEC5\",\"#B0BEC5\",\"#B0BEC5\",\"red\"]]}],\"label\":\"Topic 23\",\"method\":\"update\"}]}],\"shapes\":[{\"line\":{\"color\":\"#CFD8DC\",\"width\":2},\"type\":\"line\",\"x0\":1.3023584723472594,\"x1\":1.3023584723472594,\"y0\":-14.091375827789307,\"y1\":23.401116371154785},{\"line\":{\"color\":\"#9E9E9E\",\"width\":2},\"type\":\"line\",\"x0\":-6.577289628982544,\"x1\":9.182006573677063,\"y0\":4.654870271682739,\"y1\":4.654870271682739}],\"annotations\":[{\"showarrow\":false,\"text\":\"D1\",\"x\":-6.577289628982544,\"y\":4.654870271682739,\"yshift\":10},{\"showarrow\":false,\"text\":\"D2\",\"x\":1.3023584723472594,\"xshift\":10,\"y\":23.401116371154785}]},                        {\"responsive\": true}                    ).then(function(){\n",
       "                            \n",
       "var gd = document.getElementById('3f862c40-e4b2-44c0-b996-b4c2dc32329c');\n",
       "var x = new MutationObserver(function (mutations, observer) {{\n",
       "        var display = window.getComputedStyle(gd).display;\n",
       "        if (!display || display === 'none') {{\n",
       "            console.log([gd, 'removed!']);\n",
       "            Plotly.purge(gd);\n",
       "            observer.disconnect();\n",
       "        }}\n",
       "}});\n",
       "\n",
       "// Listen for the removal of the full notebook cells\n",
       "var notebookContainer = gd.closest('#notebook-container');\n",
       "if (notebookContainer) {{\n",
       "    x.observe(notebookContainer, {childList: true});\n",
       "}}\n",
       "\n",
       "// Listen for the clearing of the current output cell\n",
       "var outputEl = gd.closest('.output');\n",
       "if (outputEl) {{\n",
       "    x.observe(outputEl, {childList: true});\n",
       "}}\n",
       "\n",
       "                        })                };                });            </script>        </div>"
      ]
     },
     "metadata": {},
     "output_type": "display_data"
    }
   ],
   "source": [
    "fig = bertopic_model.topic_model.visualize_topics(width = 600, height = 600)\n",
    "fig"
   ]
  },
  {
   "cell_type": "code",
   "execution_count": 25,
   "id": "72652809-4838-4bcc-a4ff-c4386319bf6c",
   "metadata": {},
   "outputs": [
    {
     "data": {
      "text/html": [
       "<div>\n",
       "<style scoped>\n",
       "    .dataframe tbody tr th:only-of-type {\n",
       "        vertical-align: middle;\n",
       "    }\n",
       "\n",
       "    .dataframe tbody tr th {\n",
       "        vertical-align: top;\n",
       "    }\n",
       "\n",
       "    .dataframe thead th {\n",
       "        text-align: right;\n",
       "    }\n",
       "</style>\n",
       "<table border=\"1\" class=\"dataframe\">\n",
       "  <thead>\n",
       "    <tr style=\"text-align: right;\">\n",
       "      <th></th>\n",
       "      <th>date</th>\n",
       "      <th>chat_name</th>\n",
       "      <th>chat_id</th>\n",
       "      <th>sender_id</th>\n",
       "      <th>sender_type</th>\n",
       "      <th>message_id</th>\n",
       "      <th>type</th>\n",
       "      <th>reply_to_message_id</th>\n",
       "      <th>user_name</th>\n",
       "      <th>first_name</th>\n",
       "      <th>last_name</th>\n",
       "      <th>text</th>\n",
       "      <th>topic</th>\n",
       "      <th>probs</th>\n",
       "    </tr>\n",
       "  </thead>\n",
       "  <tbody>\n",
       "    <tr>\n",
       "      <th>646</th>\n",
       "      <td>2025-02-20 23:36:00</td>\n",
       "      <td>💬 Data Practicum Chat</td>\n",
       "      <td>1379846874</td>\n",
       "      <td>172748379</td>\n",
       "      <td>user</td>\n",
       "      <td>267449</td>\n",
       "      <td>message</td>\n",
       "      <td>267446</td>\n",
       "      <td>Anna Glagoleva</td>\n",
       "      <td>Anna</td>\n",
       "      <td>Glagoleva</td>\n",
       "      <td>Щас все HR расстроились, что их за людей не сч...</td>\n",
       "      <td>8.0</td>\n",
       "      <td>0.525</td>\n",
       "    </tr>\n",
       "    <tr>\n",
       "      <th>330</th>\n",
       "      <td>2025-02-06 22:06:50</td>\n",
       "      <td>💬 Data Practicum Chat</td>\n",
       "      <td>1379846874</td>\n",
       "      <td>317277992</td>\n",
       "      <td>user</td>\n",
       "      <td>267035</td>\n",
       "      <td>message</td>\n",
       "      <td>267033</td>\n",
       "      <td>Ksenia</td>\n",
       "      <td>Ksenia</td>\n",
       "      <td></td>\n",
       "      <td>Правильно ❤️</td>\n",
       "      <td>15.0</td>\n",
       "      <td>1.000</td>\n",
       "    </tr>\n",
       "    <tr>\n",
       "      <th>39</th>\n",
       "      <td>2025-02-03 12:20:52</td>\n",
       "      <td>💬 Data Practicum Chat</td>\n",
       "      <td>1379846874</td>\n",
       "      <td>1349934990</td>\n",
       "      <td>user</td>\n",
       "      <td>266738</td>\n",
       "      <td>message</td>\n",
       "      <td>266733</td>\n",
       "      <td>Илья</td>\n",
       "      <td>Илья</td>\n",
       "      <td></td>\n",
       "      <td>Это всё для меня?  🙈</td>\n",
       "      <td>8.0</td>\n",
       "      <td>1.000</td>\n",
       "    </tr>\n",
       "    <tr>\n",
       "      <th>911</th>\n",
       "      <td>2025-02-25 19:10:02</td>\n",
       "      <td>💬 Data Practicum Chat</td>\n",
       "      <td>1379846874</td>\n",
       "      <td>947139537</td>\n",
       "      <td>user</td>\n",
       "      <td>267735</td>\n",
       "      <td>message</td>\n",
       "      <td>267732</td>\n",
       "      <td>Ilya Plotnikov</td>\n",
       "      <td>Ilya</td>\n",
       "      <td>Plotnikov</td>\n",
       "      <td>а ты уже 6к вместо 5 из-за инфляции берешь?</td>\n",
       "      <td>0.0</td>\n",
       "      <td>1.000</td>\n",
       "    </tr>\n",
       "    <tr>\n",
       "      <th>292</th>\n",
       "      <td>2025-02-05 23:09:39</td>\n",
       "      <td>💬 Data Practicum Chat</td>\n",
       "      <td>1379846874</td>\n",
       "      <td>1798021720</td>\n",
       "      <td>user</td>\n",
       "      <td>266997</td>\n",
       "      <td>message</td>\n",
       "      <td>266968</td>\n",
       "      <td>Юра Лазарев</td>\n",
       "      <td>Юра</td>\n",
       "      <td>Лазарев</td>\n",
       "      <td>🫠</td>\n",
       "      <td>NaN</td>\n",
       "      <td>0.000</td>\n",
       "    </tr>\n",
       "  </tbody>\n",
       "</table>\n",
       "</div>"
      ],
      "text/plain": [
       "                   date              chat_name     chat_id   sender_id  \\\n",
       "646 2025-02-20 23:36:00  💬 Data Practicum Chat  1379846874   172748379   \n",
       "330 2025-02-06 22:06:50  💬 Data Practicum Chat  1379846874   317277992   \n",
       "39  2025-02-03 12:20:52  💬 Data Practicum Chat  1379846874  1349934990   \n",
       "911 2025-02-25 19:10:02  💬 Data Practicum Chat  1379846874   947139537   \n",
       "292 2025-02-05 23:09:39  💬 Data Practicum Chat  1379846874  1798021720   \n",
       "\n",
       "    sender_type  message_id     type  reply_to_message_id       user_name  \\\n",
       "646        user      267449  message               267446  Anna Glagoleva   \n",
       "330        user      267035  message               267033          Ksenia   \n",
       "39         user      266738  message               266733            Илья   \n",
       "911        user      267735  message               267732  Ilya Plotnikov   \n",
       "292        user      266997  message               266968     Юра Лазарев   \n",
       "\n",
       "    first_name  last_name                                               text  \\\n",
       "646       Anna  Glagoleva  Щас все HR расстроились, что их за людей не сч...   \n",
       "330     Ksenia                                                  Правильно ❤️   \n",
       "39        Илья                                         Это всё для меня?  🙈    \n",
       "911       Ilya  Plotnikov        а ты уже 6к вместо 5 из-за инфляции берешь?   \n",
       "292        Юра    Лазарев                                                  🫠   \n",
       "\n",
       "     topic  probs  \n",
       "646    8.0  0.525  \n",
       "330   15.0  1.000  \n",
       "39     8.0  1.000  \n",
       "911    0.0  1.000  \n",
       "292    NaN  0.000  "
      ]
     },
     "execution_count": 25,
     "metadata": {},
     "output_type": "execute_result"
    }
   ],
   "source": [
    "# добавляем  в дтатфрейм( изменяем атрибут .df)\n",
    "#столбцы topic - номер  кластера, probs - вероятность принадлежности к кластеру (важность?)\n",
    "# Для зависмых текстов probs = 0 ( заглушка для дальнейшего отбора токенов d LLM, если  вокно не укладываемся)\n",
    "\n",
    "if 'topic' in df_1.df.columns:\n",
    "    df_1.df = df_1.df.drop(columns=['topic', 'probs'], errors='ignore')\n",
    "df_1.df = df_1.df.join(pd.DataFrame({'topic': topics,'probs':np.round(probs,3)}, index=index_df))\n",
    "df_1.df['probs'] = df_1.df['probs'].fillna(0)\n",
    "df_1.df.sample(5)   \n",
    "    "
   ]
  },
  {
   "cell_type": "markdown",
   "id": "41db3b8b-3a3c-4714-ba9b-828488389890",
   "metadata": {},
   "source": [
    "Алгоритм разметки зависимых сообщений с использованием полученных кластеров сталкивается с трудностью: некоторые сообщения ссылаются не на родительское сообщение, а на сообщение в цепочке ответов, которое, в свою очередь, также ещё не размечено\n",
    "\n",
    "Наблюдается  что то вроде рекурсии  сначала размечаются ссобщения '1 уровня'  затем цикл повторяется и размечаютя сообщения  'второго уровня'  и так далее  пока критерий   ['topic'].sna()sum() не перестает меняться.\n",
    "Создаем словарь, где ключами являются номера топиков, а значениями — списки ID-сообщений, входящих в соответствующие кластеры. Если для какого-либо сообщения существует поле reply_message, и его ID присутствует в списке значений по соответствующему ключу, то этому сообщению присваивается значение этого ключа.\n",
    "Проверяется условие: если количество  пропусков не изменилось значит процесс разметки окончен.\n",
    "\n",
    "(Код тяжелый,  хотел бы более легкого ршения)"
   ]
  },
  {
   "cell_type": "code",
   "execution_count": 26,
   "id": "47ffafc6-8d3d-485d-a7e9-ae54cef08779",
   "metadata": {},
   "outputs": [
    {
     "name": "stdout",
     "output_type": "stream",
     "text": [
      "162\n",
      "104\n"
     ]
    }
   ],
   "source": [
    "print(df_1.df.topic.isna().sum())\n",
    "\n",
    "\n",
    "while True:\n",
    "    term = df_1.df['topic'].isna().sum()\n",
    "    dict_1 = { i: df_1.df[df_1.df['topic'] == i]['message_id'].to_list() for i in  df_1.df.topic.dropna().unique()}\n",
    "    for i in dict_1:\n",
    "        df_1.df.loc[df_1.df['reply_to_message_id'].isin(dict_1[i]),'topic'] = i\n",
    "    \n",
    "    # Если количество NaN значений не изменилось, выходим из цикла\n",
    "    if  term == df_1.df['topic'].isna().sum():\n",
    "        break\n",
    "\n",
    "\n",
    "# короткие  строки\n",
    "print(df_1.df.topic.isna().sum())"
   ]
  },
  {
   "cell_type": "code",
   "execution_count": 27,
   "id": "029d24b7-ec56-4fb8-888a-d0392c488486",
   "metadata": {},
   "outputs": [
    {
     "data": {
      "text/html": [
       "<div>\n",
       "<style scoped>\n",
       "    .dataframe tbody tr th:only-of-type {\n",
       "        vertical-align: middle;\n",
       "    }\n",
       "\n",
       "    .dataframe tbody tr th {\n",
       "        vertical-align: top;\n",
       "    }\n",
       "\n",
       "    .dataframe thead th {\n",
       "        text-align: right;\n",
       "    }\n",
       "</style>\n",
       "<table border=\"1\" class=\"dataframe\">\n",
       "  <thead>\n",
       "    <tr style=\"text-align: right;\">\n",
       "      <th></th>\n",
       "      <th>date</th>\n",
       "      <th>chat_name</th>\n",
       "      <th>chat_id</th>\n",
       "      <th>sender_id</th>\n",
       "      <th>sender_type</th>\n",
       "      <th>message_id</th>\n",
       "      <th>type</th>\n",
       "      <th>reply_to_message_id</th>\n",
       "      <th>user_name</th>\n",
       "      <th>first_name</th>\n",
       "      <th>last_name</th>\n",
       "      <th>text</th>\n",
       "      <th>topic</th>\n",
       "      <th>probs</th>\n",
       "    </tr>\n",
       "  </thead>\n",
       "  <tbody>\n",
       "    <tr>\n",
       "      <th>620</th>\n",
       "      <td>2025-02-20 22:18:00</td>\n",
       "      <td>💬 Data Practicum Chat</td>\n",
       "      <td>1379846874</td>\n",
       "      <td>168336377</td>\n",
       "      <td>user</td>\n",
       "      <td>267422</td>\n",
       "      <td>message</td>\n",
       "      <td>267416</td>\n",
       "      <td>Мариян Умагалова</td>\n",
       "      <td>Мариян</td>\n",
       "      <td>Умагалова</td>\n",
       "      <td>Найдем мы тебе кальянщицу)</td>\n",
       "      <td>0.0</td>\n",
       "      <td>1.0</td>\n",
       "    </tr>\n",
       "    <tr>\n",
       "      <th>823</th>\n",
       "      <td>2025-02-24 13:04:32</td>\n",
       "      <td>💬 Data Practicum Chat</td>\n",
       "      <td>1379846874</td>\n",
       "      <td>589815330</td>\n",
       "      <td>user</td>\n",
       "      <td>267642</td>\n",
       "      <td>message</td>\n",
       "      <td>267641</td>\n",
       "      <td>Катерина Ефремова [+2,5ч мск]</td>\n",
       "      <td>Катерина</td>\n",
       "      <td>Ефремова</td>\n",
       "      <td>Общечеловеческие правила в сообществе никто не...</td>\n",
       "      <td>0.0</td>\n",
       "      <td>1.0</td>\n",
       "    </tr>\n",
       "    <tr>\n",
       "      <th>698</th>\n",
       "      <td>2025-02-21 14:47:58</td>\n",
       "      <td>💬 Data Practicum Chat</td>\n",
       "      <td>1379846874</td>\n",
       "      <td>62472764</td>\n",
       "      <td>user</td>\n",
       "      <td>267501</td>\n",
       "      <td>message</td>\n",
       "      <td>267500</td>\n",
       "      <td>Oleg Zhukov</td>\n",
       "      <td>Oleg</td>\n",
       "      <td>Zhukov</td>\n",
       "      <td>Мне кажется, это не так работает)\\nЕго надо бы...</td>\n",
       "      <td>0.0</td>\n",
       "      <td>1.0</td>\n",
       "    </tr>\n",
       "    <tr>\n",
       "      <th>658</th>\n",
       "      <td>2025-02-20 23:42:51</td>\n",
       "      <td>💬 Data Practicum Chat</td>\n",
       "      <td>1379846874</td>\n",
       "      <td>172748379</td>\n",
       "      <td>user</td>\n",
       "      <td>267461</td>\n",
       "      <td>message</td>\n",
       "      <td>-1</td>\n",
       "      <td>Anna Glagoleva</td>\n",
       "      <td>Anna</td>\n",
       "      <td>Glagoleva</td>\n",
       "      <td>Я мало кому нравлюсь</td>\n",
       "      <td>2.0</td>\n",
       "      <td>1.0</td>\n",
       "    </tr>\n",
       "    <tr>\n",
       "      <th>430</th>\n",
       "      <td>2025-02-10 13:19:11</td>\n",
       "      <td>💬 Data Practicum Chat</td>\n",
       "      <td>1379846874</td>\n",
       "      <td>589815330</td>\n",
       "      <td>user</td>\n",
       "      <td>267182</td>\n",
       "      <td>message</td>\n",
       "      <td>267180</td>\n",
       "      <td>Катерина Ефремова [+2,5ч мск]</td>\n",
       "      <td>Катерина</td>\n",
       "      <td>Ефремова</td>\n",
       "      <td>Я тоже😁</td>\n",
       "      <td>0.0</td>\n",
       "      <td>1.0</td>\n",
       "    </tr>\n",
       "  </tbody>\n",
       "</table>\n",
       "</div>"
      ],
      "text/plain": [
       "                   date              chat_name     chat_id  sender_id  \\\n",
       "620 2025-02-20 22:18:00  💬 Data Practicum Chat  1379846874  168336377   \n",
       "823 2025-02-24 13:04:32  💬 Data Practicum Chat  1379846874  589815330   \n",
       "698 2025-02-21 14:47:58  💬 Data Practicum Chat  1379846874   62472764   \n",
       "658 2025-02-20 23:42:51  💬 Data Practicum Chat  1379846874  172748379   \n",
       "430 2025-02-10 13:19:11  💬 Data Practicum Chat  1379846874  589815330   \n",
       "\n",
       "    sender_type  message_id     type  reply_to_message_id  \\\n",
       "620        user      267422  message               267416   \n",
       "823        user      267642  message               267641   \n",
       "698        user      267501  message               267500   \n",
       "658        user      267461  message                   -1   \n",
       "430        user      267182  message               267180   \n",
       "\n",
       "                         user_name first_name  last_name  \\\n",
       "620               Мариян Умагалова     Мариян  Умагалова   \n",
       "823  Катерина Ефремова [+2,5ч мск]   Катерина   Ефремова   \n",
       "698                    Oleg Zhukov       Oleg     Zhukov   \n",
       "658                 Anna Glagoleva       Anna  Glagoleva   \n",
       "430  Катерина Ефремова [+2,5ч мск]   Катерина   Ефремова   \n",
       "\n",
       "                                                  text  topic  probs  \n",
       "620                         Найдем мы тебе кальянщицу)    0.0    1.0  \n",
       "823  Общечеловеческие правила в сообществе никто не...    0.0    1.0  \n",
       "698  Мне кажется, это не так работает)\\nЕго надо бы...    0.0    1.0  \n",
       "658                               Я мало кому нравлюсь    2.0    1.0  \n",
       "430                                            Я тоже😁    0.0    1.0  "
      ]
     },
     "execution_count": 27,
     "metadata": {},
     "output_type": "execute_result"
    }
   ],
   "source": [
    "df_1.df.sample(5)"
   ]
  },
  {
   "cell_type": "markdown",
   "id": "be39dfcf-4e14-462a-8a69-607a098d7d02",
   "metadata": {},
   "source": [
    "### 4. LLM выделение темы из корпуса текстов"
   ]
  },
  {
   "cell_type": "code",
   "execution_count": null,
   "id": "af87d895-df92-47af-a48f-44c187174ce8",
   "metadata": {},
   "outputs": [],
   "source": []
  },
  {
   "cell_type": "code",
   "execution_count": 28,
   "id": "15b6acc8-6613-4721-ad6d-89586d5266bb",
   "metadata": {},
   "outputs": [],
   "source": [
    "system_message = '''Выдели основную тему из. текста.\n",
    "Начни с краткого и ёмкого названия темы (от 5 до 10 слов), точно отражающего суть текста.\n",
    "Затем выдели ключевые слова и фразы (5–10).\n",
    "В конце сформулируй главную мысль.\n",
    "Не добавляй лишнего текста.\n",
    "Формат ответа 'Здесь укажиосновную тему'||'Здесь укажи ключевые слова'||'Здесь сформулируй главную мысль'\n",
    "'''\n",
    "user_message = user_message = '{text}'"
   ]
  },
  {
   "cell_type": "markdown",
   "id": "3d7cfe4d-d70c-43cb-9482-51acc42a5fee",
   "metadata": {},
   "source": [
    "Выделение темы реализовано  с использованием  класса TopicLLMLL:\n",
    "\n",
    "Выбрана модель ChatYandexGPT ( поддерживаются сообщения формата LangChain )\n",
    "def __init__(self, task: str, format_user_messages: str):\n",
    "task - ситемное  сообщение, format_user_messages - сообщение пользователя.\n",
    "Реализован  магический метод __call__  парметр датафрейм  с обязательными полями 'topic',  'text'\n",
    "В дальнейшем планируется вынести в TopicLLMll  в отдельный модуль"
   ]
  },
  {
   "cell_type": "code",
   "execution_count": 29,
   "id": "5eab259a-7c93-436e-8e8d-a40148946d6f",
   "metadata": {},
   "outputs": [],
   "source": [
    "class TopicLLMll():\n",
    "    def __init__(self, task: str, format_user_messages: str, max_tokens: int = 8000):\n",
    "        self.max_tokens = max_tokens\n",
    "        self.task = task\n",
    "        self.format = format_user_messages\n",
    "    system_message ='{task}'\n",
    "    user_message = '{text}\\n {format_user_messages}'\n",
    "    user_message = user_message = \"{text} \"\n",
    "    \n",
    "    prompt_template = ChatPromptTemplate.from_messages([\n",
    "        ('system', system_message),('user',user_message)])\n",
    "   \n",
    "    \n",
    "    enc = tiktoken.get_encoding(\"cl100k_base\")\n",
    "    \n",
    "    if os.getenv('FOLDER_ID') and os.getenv('YC_API_KEY'):\n",
    "        # chat_model = ChatYandexGPT(folder_id = os.getenv('FOLDER_ID'))\n",
    "        chat_model = ChatYandexGPT(\n",
    "            folder_id=os.getenv(\"FOLDER_ID\"),\n",
    "            model_uri=f\"gpt://{os.getenv('FOLDER_ID')}/yandexgpt-32k/latest\"\n",
    "         )\n",
    "        \n",
    "    else: \n",
    "        raise  ValueError(\"Both environment variables must be set: FOLDER_ID and YC_API_KEY\")\n",
    "\n",
    "    def __call__(self, df_top: pd.DataFrame):\n",
    "        df_top =df_top.dropna()\n",
    "        df_top = df_top.sort_values(by='probs', ascending=False)\n",
    "        topic=[]\n",
    "        for i in df_top['topic'].unique():\n",
    "            \n",
    "            text = ' '.join(df_top[df_top['topic']== i ]['text'].to_list())\n",
    "            text = self.count_cut_text(text, self.max_tokens)\n",
    "            \n",
    "            prompt = self.prompt_template.invoke({'task': self.task, 'text':text})\n",
    "            topic.append((self.chat_model.invoke(prompt).content, i))\n",
    "        return topic\n",
    "                         \n",
    "    \n",
    "    def count_cut_text(self, text, max_tokens ):\n",
    "        tokens = self.enc.encode(text)[:max_tokens]\n",
    "        return self.enc.decode(tokens)\n",
    "    "
   ]
  },
  {
   "cell_type": "code",
   "execution_count": 30,
   "id": "caa55e6b-0ee3-4d10-945e-35bf32213772",
   "metadata": {},
   "outputs": [],
   "source": [
    "llm_model =TopicLLMll(system_message, user_message)"
   ]
  },
  {
   "cell_type": "code",
   "execution_count": 31,
   "id": "2d85b7e9-1044-4cc9-9eb2-ed18dcde591e",
   "metadata": {},
   "outputs": [],
   "source": [
    "topic_list = llm_model(df_1.df)\n",
    "\n",
    "topic_list = [ (*i[0].split('||'), i[1])  for i in topic_list]\n",
    "\n",
    "df_topic_list = pd.DataFrame(topic_list, columns=['Main Topic',' Keywords','Main Idea','topic']) \\\n",
    "    .set_index('topic') \\\n",
    "    .join(df_1.df['topic'].value_counts().rename('Topic_Frequency')) \\\n",
    "    .reset_index()\n",
    "df_topic_list = df_topic_list.sort_values(by = 'Topic_Frequency', ascending=False)\n",
    "\n",
    "df_final = df_1.df.merge(df_topic_list, how='left', on='topic')\n",
    "df_final = df_final.dropna()\n",
    "\n",
    "try:\n",
    "    df_final[['topic','Topic_Frequency']] = df_final[['topic','Topic_Frequency']].astype('int')\n",
    "    df_topic_list['topic'] = df_topic_list['topic'].astype('int')\n",
    "except:\n",
    "    pass"
   ]
  },
  {
   "cell_type": "code",
   "execution_count": null,
   "id": "9a757bc2-2a9f-4fcd-9d9f-becf904622f1",
   "metadata": {},
   "outputs": [],
   "source": []
  },
  {
   "cell_type": "code",
   "execution_count": 32,
   "id": "391058c7-43f4-4d30-a818-e87a76da11a7",
   "metadata": {},
   "outputs": [],
   "source": [
    "# with pd.option_context ('display.max_colwidth', None):\n",
    "    # display( df_topic_list.style.set_properties(**{'text-align': 'left', 'white-space' : 'pre-wrap'}))"
   ]
  },
  {
   "cell_type": "code",
   "execution_count": 33,
   "id": "2eedc4ba-48f6-4f25-91be-cd9186d6971e",
   "metadata": {},
   "outputs": [
    {
     "data": {
      "text/html": [
       "<div>\n",
       "<style scoped>\n",
       "    .dataframe tbody tr th:only-of-type {\n",
       "        vertical-align: middle;\n",
       "    }\n",
       "\n",
       "    .dataframe tbody tr th {\n",
       "        vertical-align: top;\n",
       "    }\n",
       "\n",
       "    .dataframe thead th {\n",
       "        text-align: right;\n",
       "    }\n",
       "</style>\n",
       "<table border=\"1\" class=\"dataframe\">\n",
       "  <thead>\n",
       "    <tr style=\"text-align: right;\">\n",
       "      <th></th>\n",
       "      <th>date</th>\n",
       "      <th>chat_name</th>\n",
       "      <th>chat_id</th>\n",
       "      <th>sender_id</th>\n",
       "      <th>sender_type</th>\n",
       "      <th>message_id</th>\n",
       "      <th>type</th>\n",
       "      <th>reply_to_message_id</th>\n",
       "      <th>user_name</th>\n",
       "      <th>first_name</th>\n",
       "      <th>last_name</th>\n",
       "      <th>text</th>\n",
       "      <th>topic</th>\n",
       "      <th>probs</th>\n",
       "      <th>Main Topic</th>\n",
       "      <th>Keywords</th>\n",
       "      <th>Main Idea</th>\n",
       "      <th>Topic_Frequency</th>\n",
       "    </tr>\n",
       "  </thead>\n",
       "  <tbody>\n",
       "    <tr>\n",
       "      <th>2</th>\n",
       "      <td>2025-02-03 11:28:38</td>\n",
       "      <td>💬 Data Practicum Chat</td>\n",
       "      <td>1379846874</td>\n",
       "      <td>312724902</td>\n",
       "      <td>user</td>\n",
       "      <td>266693</td>\n",
       "      <td>message</td>\n",
       "      <td>-1</td>\n",
       "      <td>Olga Varavina</td>\n",
       "      <td>Olga</td>\n",
       "      <td>Varavina</td>\n",
       "      <td>Всем большой привет! Приглашаю на свой уютный ...</td>\n",
       "      <td>11</td>\n",
       "      <td>1.0</td>\n",
       "      <td>'Трудоустройство и аналитика'</td>\n",
       "      <td>'Собеседования, аналитика данных, тестовые зад...</td>\n",
       "      <td>'Автор предлагает подписаться на свой канал с ...</td>\n",
       "      <td>26</td>\n",
       "    </tr>\n",
       "    <tr>\n",
       "      <th>3</th>\n",
       "      <td>2025-02-03 11:52:20</td>\n",
       "      <td>💬 Data Practicum Chat</td>\n",
       "      <td>1379846874</td>\n",
       "      <td>1349934990</td>\n",
       "      <td>user</td>\n",
       "      <td>266694</td>\n",
       "      <td>message</td>\n",
       "      <td>266689</td>\n",
       "      <td>Илья</td>\n",
       "      <td>Илья</td>\n",
       "      <td></td>\n",
       "      <td>А у тебя когда будет свой канал про аналитику?</td>\n",
       "      <td>0</td>\n",
       "      <td>1.0</td>\n",
       "      <td>'Бета-тестирование курсов для аналитиков'</td>\n",
       "      <td>'бета-тестирование, продуктовый аналитик, BI-а...</td>\n",
       "      <td>'Команда курсов «Аналитики данных» приглашает ...</td>\n",
       "      <td>309</td>\n",
       "    </tr>\n",
       "    <tr>\n",
       "      <th>4</th>\n",
       "      <td>2025-02-03 11:52:37</td>\n",
       "      <td>💬 Data Practicum Chat</td>\n",
       "      <td>1379846874</td>\n",
       "      <td>1349934990</td>\n",
       "      <td>user</td>\n",
       "      <td>266695</td>\n",
       "      <td>message</td>\n",
       "      <td>-1</td>\n",
       "      <td>Илья</td>\n",
       "      <td>Илья</td>\n",
       "      <td></td>\n",
       "      <td>Будешь туда голосовухи пятиминутные постить</td>\n",
       "      <td>-1</td>\n",
       "      <td>0.0</td>\n",
       "      <td>Общение в неформальном чате.\\n</td>\n",
       "      <td>'Ключевые слова и фразы': 'чат', 'нюдсы', 'бот...</td>\n",
       "      <td>'Главная мысль': участники чата обмениваются с...</td>\n",
       "      <td>63</td>\n",
       "    </tr>\n",
       "    <tr>\n",
       "      <th>5</th>\n",
       "      <td>2025-02-03 11:55:09</td>\n",
       "      <td>💬 Data Practicum Chat</td>\n",
       "      <td>1379846874</td>\n",
       "      <td>60031833</td>\n",
       "      <td>user</td>\n",
       "      <td>266696</td>\n",
       "      <td>message</td>\n",
       "      <td>266654</td>\n",
       "      <td>Sergey</td>\n",
       "      <td>Sergey</td>\n",
       "      <td></td>\n",
       "      <td>Потому что сделаны так, будто устарели уже лет...</td>\n",
       "      <td>1</td>\n",
       "      <td>1.0</td>\n",
       "      <td>'Процесс трудоустройства'</td>\n",
       "      <td>'собеседование, эйчар, поиск работы, отбор, HR...</td>\n",
       "      <td>'В тексте обсуждаются сложности, с которыми ст...</td>\n",
       "      <td>111</td>\n",
       "    </tr>\n",
       "    <tr>\n",
       "      <th>6</th>\n",
       "      <td>2025-02-03 11:56:57</td>\n",
       "      <td>💬 Data Practicum Chat</td>\n",
       "      <td>1379846874</td>\n",
       "      <td>60031833</td>\n",
       "      <td>user</td>\n",
       "      <td>266697</td>\n",
       "      <td>message</td>\n",
       "      <td>266695</td>\n",
       "      <td>Sergey</td>\n",
       "      <td>Sergey</td>\n",
       "      <td></td>\n",
       "      <td>Подкаст?)</td>\n",
       "      <td>-1</td>\n",
       "      <td>1.0</td>\n",
       "      <td>Общение в неформальном чате.\\n</td>\n",
       "      <td>'Ключевые слова и фразы': 'чат', 'нюдсы', 'бот...</td>\n",
       "      <td>'Главная мысль': участники чата обмениваются с...</td>\n",
       "      <td>63</td>\n",
       "    </tr>\n",
       "  </tbody>\n",
       "</table>\n",
       "</div>"
      ],
      "text/plain": [
       "                 date              chat_name     chat_id   sender_id  \\\n",
       "2 2025-02-03 11:28:38  💬 Data Practicum Chat  1379846874   312724902   \n",
       "3 2025-02-03 11:52:20  💬 Data Practicum Chat  1379846874  1349934990   \n",
       "4 2025-02-03 11:52:37  💬 Data Practicum Chat  1379846874  1349934990   \n",
       "5 2025-02-03 11:55:09  💬 Data Practicum Chat  1379846874    60031833   \n",
       "6 2025-02-03 11:56:57  💬 Data Practicum Chat  1379846874    60031833   \n",
       "\n",
       "  sender_type  message_id     type  reply_to_message_id      user_name  \\\n",
       "2        user      266693  message                   -1  Olga Varavina   \n",
       "3        user      266694  message               266689           Илья   \n",
       "4        user      266695  message                   -1           Илья   \n",
       "5        user      266696  message               266654         Sergey   \n",
       "6        user      266697  message               266695         Sergey   \n",
       "\n",
       "  first_name last_name                                               text  \\\n",
       "2       Olga  Varavina  Всем большой привет! Приглашаю на свой уютный ...   \n",
       "3       Илья               А у тебя когда будет свой канал про аналитику?   \n",
       "4       Илья                  Будешь туда голосовухи пятиминутные постить   \n",
       "5     Sergey            Потому что сделаны так, будто устарели уже лет...   \n",
       "6     Sergey                                                    Подкаст?)   \n",
       "\n",
       "   topic  probs                                 Main Topic  \\\n",
       "2     11    1.0              'Трудоустройство и аналитика'   \n",
       "3      0    1.0  'Бета-тестирование курсов для аналитиков'   \n",
       "4     -1    0.0             Общение в неформальном чате.\\n   \n",
       "5      1    1.0                  'Процесс трудоустройства'   \n",
       "6     -1    1.0             Общение в неформальном чате.\\n   \n",
       "\n",
       "                                            Keywords  \\\n",
       "2  'Собеседования, аналитика данных, тестовые зад...   \n",
       "3  'бета-тестирование, продуктовый аналитик, BI-а...   \n",
       "4  'Ключевые слова и фразы': 'чат', 'нюдсы', 'бот...   \n",
       "5  'собеседование, эйчар, поиск работы, отбор, HR...   \n",
       "6  'Ключевые слова и фразы': 'чат', 'нюдсы', 'бот...   \n",
       "\n",
       "                                           Main Idea  Topic_Frequency  \n",
       "2  'Автор предлагает подписаться на свой канал с ...               26  \n",
       "3  'Команда курсов «Аналитики данных» приглашает ...              309  \n",
       "4  'Главная мысль': участники чата обмениваются с...               63  \n",
       "5  'В тексте обсуждаются сложности, с которыми ст...              111  \n",
       "6  'Главная мысль': участники чата обмениваются с...               63  "
      ]
     },
     "execution_count": 33,
     "metadata": {},
     "output_type": "execute_result"
    }
   ],
   "source": [
    "df_final.head()"
   ]
  },
  {
   "cell_type": "code",
   "execution_count": 34,
   "id": "61cf2a60-561b-4eb1-adb4-386f29ad6e55",
   "metadata": {},
   "outputs": [
    {
     "data": {
      "text/html": [
       "<div>\n",
       "<style scoped>\n",
       "    .dataframe tbody tr th:only-of-type {\n",
       "        vertical-align: middle;\n",
       "    }\n",
       "\n",
       "    .dataframe tbody tr th {\n",
       "        vertical-align: top;\n",
       "    }\n",
       "\n",
       "    .dataframe thead th {\n",
       "        text-align: right;\n",
       "    }\n",
       "</style>\n",
       "<table border=\"1\" class=\"dataframe\">\n",
       "  <thead>\n",
       "    <tr style=\"text-align: right;\">\n",
       "      <th></th>\n",
       "      <th>topic</th>\n",
       "      <th>Main Topic</th>\n",
       "      <th>Keywords</th>\n",
       "      <th>Main Idea</th>\n",
       "      <th>Topic_Frequency</th>\n",
       "    </tr>\n",
       "  </thead>\n",
       "  <tbody>\n",
       "    <tr>\n",
       "      <th>3</th>\n",
       "      <td>0</td>\n",
       "      <td>'Бета-тестирование курсов для аналитиков'</td>\n",
       "      <td>'бета-тестирование, продуктовый аналитик, BI-а...</td>\n",
       "      <td>'Команда курсов «Аналитики данных» приглашает ...</td>\n",
       "      <td>309</td>\n",
       "    </tr>\n",
       "    <tr>\n",
       "      <th>1</th>\n",
       "      <td>1</td>\n",
       "      <td>'Процесс трудоустройства'</td>\n",
       "      <td>'собеседование, эйчар, поиск работы, отбор, HR...</td>\n",
       "      <td>'В тексте обсуждаются сложности, с которыми ст...</td>\n",
       "      <td>111</td>\n",
       "    </tr>\n",
       "    <tr>\n",
       "      <th>4</th>\n",
       "      <td>2</td>\n",
       "      <td>'Общение в рабочем чате'</td>\n",
       "      <td>'Чат практикума, общение, фото, курсы, собесед...</td>\n",
       "      <td>'В тексте описывается общение в рабочем или уч...</td>\n",
       "      <td>103</td>\n",
       "    </tr>\n",
       "    <tr>\n",
       "      <th>8</th>\n",
       "      <td>3</td>\n",
       "      <td>'Поиск работы в Альфа-банке'</td>\n",
       "      <td>'вакансия продакта, собеседование, этапы собес...</td>\n",
       "      <td>'В чате обсуждаются вакансии в Альфа-Банке, пр...</td>\n",
       "      <td>82</td>\n",
       "    </tr>\n",
       "    <tr>\n",
       "      <th>9</th>\n",
       "      <td>-1</td>\n",
       "      <td>Общение в неформальном чате.\\n</td>\n",
       "      <td>'Ключевые слова и фразы': 'чат', 'нюдсы', 'бот...</td>\n",
       "      <td>'Главная мысль': участники чата обмениваются с...</td>\n",
       "      <td>63</td>\n",
       "    </tr>\n",
       "  </tbody>\n",
       "</table>\n",
       "</div>"
      ],
      "text/plain": [
       "   topic                                 Main Topic  \\\n",
       "3      0  'Бета-тестирование курсов для аналитиков'   \n",
       "1      1                  'Процесс трудоустройства'   \n",
       "4      2                   'Общение в рабочем чате'   \n",
       "8      3               'Поиск работы в Альфа-банке'   \n",
       "9     -1             Общение в неформальном чате.\\n   \n",
       "\n",
       "                                            Keywords  \\\n",
       "3  'бета-тестирование, продуктовый аналитик, BI-а...   \n",
       "1  'собеседование, эйчар, поиск работы, отбор, HR...   \n",
       "4  'Чат практикума, общение, фото, курсы, собесед...   \n",
       "8  'вакансия продакта, собеседование, этапы собес...   \n",
       "9  'Ключевые слова и фразы': 'чат', 'нюдсы', 'бот...   \n",
       "\n",
       "                                           Main Idea  Topic_Frequency  \n",
       "3  'Команда курсов «Аналитики данных» приглашает ...              309  \n",
       "1  'В тексте обсуждаются сложности, с которыми ст...              111  \n",
       "4  'В тексте описывается общение в рабочем или уч...              103  \n",
       "8  'В чате обсуждаются вакансии в Альфа-Банке, пр...               82  \n",
       "9  'Главная мысль': участники чата обмениваются с...               63  "
      ]
     },
     "execution_count": 34,
     "metadata": {},
     "output_type": "execute_result"
    }
   ],
   "source": [
    "df_topic_list.head()"
   ]
  },
  {
   "cell_type": "markdown",
   "id": "3c6955ce-c4b7-49e8-914c-0be9aa139e8f",
   "metadata": {},
   "source": [
    "### Запись в excel"
   ]
  },
  {
   "cell_type": "code",
   "execution_count": null,
   "id": "ca8c430f-71bf-4125-974d-10206a9c6189",
   "metadata": {},
   "outputs": [],
   "source": [
    "path_dir = Path.cwd()\n",
    "path_dir.mkdir(parents=True, exist_ok=True)"
   ]
  },
  {
   "cell_type": "code",
   "execution_count": 74,
   "id": "b5bc5583-5546-409c-96e5-44ad1e82cf97",
   "metadata": {},
   "outputs": [
    {
     "data": {
      "text/plain": [
       "WindowsPath('C:/Users/dmitr/project_loc/masterskay/Masterskaya/output_Main_topic_task')"
      ]
     },
     "execution_count": 74,
     "metadata": {},
     "output_type": "execute_result"
    }
   ],
   "source": [
    "FOLDER_OUTPUT = 'output_Main_topic_task'\n",
    "os.makedirs(FOLDER_OUTPUT, exist_ok=True)\n",
    "path_output = Path.cwd()/FOLDER_OUTPUT\n",
    "path_output"
   ]
  },
  {
   "cell_type": "code",
   "execution_count": 192,
   "id": "f749240f-e00f-48dd-b545-3568d1d0f811",
   "metadata": {},
   "outputs": [],
   "source": [
    "def save_excel( df: pd.DataFrame, name_file: str, suffix: str) -> None:\n",
    "   name = Path(name_file).with_suffix(suffix)\n",
    "   path_file = path_output/name\n",
    "   df.to_excel(path_file, index=False, engine='openpyxl')\n",
    "\n",
    "  "
   ]
  },
  {
   "cell_type": "code",
   "execution_count": 76,
   "id": "a46c360c-a915-4e74-b138-12fac3d10d3c",
   "metadata": {},
   "outputs": [],
   "source": [
    "\n",
    "def save_cluster_visual(model: InitBertopic,name_file: str) -> None:\n",
    "    fig = bertopic_model.topic_model.visualize_topics(width = 1200, height = 800)\n",
    "    name = Path(name_file).with_suffix('.html')\n",
    "    path_file = path_output/name\n",
    "    fig.write_html(path_file)"
   ]
  },
  {
   "cell_type": "code",
   "execution_count": 70,
   "id": "ce9240ce-e774-4bca-866b-fcf755e44b04",
   "metadata": {},
   "outputs": [],
   "source": [
    "TOPIC='topic' \n",
    "CHAT_TOTAL ='chat_total'\n",
    "SUFFIX = '.xlsx'"
   ]
  },
  {
   "cell_type": "code",
   "execution_count": 208,
   "id": "6f6c7a9a-fe84-4322-82ff-b95349f87236",
   "metadata": {},
   "outputs": [],
   "source": [
    "save_excel(df_final, CHAT_TOTAL,SUFFIX)\n",
    "save_excel(df_topic_list, TOPIC,SUFFIX)\n"
   ]
  },
  {
   "cell_type": "code",
   "execution_count": 77,
   "id": "2f6e2733-9036-466d-81a7-9548b4735f39",
   "metadata": {},
   "outputs": [],
   "source": [
    "save_cluster_visual(bertopic_model,TOPIC)"
   ]
  },
  {
   "cell_type": "markdown",
   "id": "2a28ab4f-cbe3-411f-ae5a-6bbbc73dceb9",
   "metadata": {},
   "source": [
    "Кластер -1.0 BERTopic оценивает как мусорный — без выраженной тематической структуры. "
   ]
  },
  {
   "cell_type": "markdown",
   "id": "348a2038-5cfb-461b-aee1-e159f972d353",
   "metadata": {},
   "source": [
    "Предметом  исследовния и настройки могут являться:\n",
    "- первичная обработка текста(  оценка  важности сообщений,  отбор сообщений для кластеризации,  создание синтетических сообщений\n",
    "                             для центровки кластеров);\n",
    "- выбор модели для получения эмбеддингов;\n",
    "- Настройка редьюкции размерности;\n",
    "- Кластеризация: выбор алгоритма (HDBSCAN, KMeans и др.) и его параметров;\n",
    "- выбор LLM : сравнение локальных (бюджетных) и облачных (API) решений с точки зрения качества, скорости и затрат;\n",
    "- Prompt Engineering \n"
   ]
  },
  {
   "cell_type": "markdown",
   "id": "22068a15-1837-4444-b039-75e9ddcd69f6",
   "metadata": {},
   "source": [
    "Отзывы, замечания предложения ревьера:\n",
    "\n",
    "\n",
    "\n",
    "\n",
    "\n",
    "\n",
    "\n",
    "\n",
    "\n",
    "\n",
    "\n",
    "\n"
   ]
  },
  {
   "cell_type": "code",
   "execution_count": null,
   "id": "7eedd49d-207b-427e-a4ee-3c2a2f6306e0",
   "metadata": {},
   "outputs": [],
   "source": []
  }
 ],
 "metadata": {
  "kernelspec": {
   "display_name": "Python 3 (ipykernel)",
   "language": "python",
   "name": "python3"
  },
  "language_info": {
   "codemirror_mode": {
    "name": "ipython",
    "version": 3
   },
   "file_extension": ".py",
   "mimetype": "text/x-python",
   "name": "python",
   "nbconvert_exporter": "python",
   "pygments_lexer": "ipython3",
   "version": "3.12.7"
  }
 },
 "nbformat": 4,
 "nbformat_minor": 5
}
